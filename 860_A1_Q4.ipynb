{
 "cells": [
  {
   "cell_type": "code",
   "execution_count": 2,
   "metadata": {},
   "outputs": [],
   "source": [
    "import pandas as pd\n",
    "import matplotlib.pyplot as plt\n",
    "from mpl_toolkits.mplot3d import Axes3D\n",
    "import numpy as np\n",
    "from sklearn.linear_model import LinearRegression  as lp\n",
    "from sklearn.metrics import mean_squared_error as ms,  r2_score\n",
    "##Upload the data\n",
    "df = pd.read_excel(\"860_A1_Q4_Upload.xlsx\")"
   ]
  },
  {
   "cell_type": "code",
   "execution_count": 3,
   "metadata": {},
   "outputs": [
    {
     "data": {
      "text/html": [
       "<div>\n",
       "<style scoped>\n",
       "    .dataframe tbody tr th:only-of-type {\n",
       "        vertical-align: middle;\n",
       "    }\n",
       "\n",
       "    .dataframe tbody tr th {\n",
       "        vertical-align: top;\n",
       "    }\n",
       "\n",
       "    .dataframe thead th {\n",
       "        text-align: right;\n",
       "    }\n",
       "</style>\n",
       "<table border=\"1\" class=\"dataframe\">\n",
       "  <thead>\n",
       "    <tr style=\"text-align: right;\">\n",
       "      <th></th>\n",
       "      <th>Obs</th>\n",
       "      <th>Y</th>\n",
       "      <th>Experience</th>\n",
       "      <th>Height</th>\n",
       "      <th>Weight</th>\n",
       "    </tr>\n",
       "  </thead>\n",
       "  <tbody>\n",
       "    <tr>\n",
       "      <td>0</td>\n",
       "      <td>1</td>\n",
       "      <td>450</td>\n",
       "      <td>3</td>\n",
       "      <td>52</td>\n",
       "      <td>58</td>\n",
       "    </tr>\n",
       "    <tr>\n",
       "      <td>1</td>\n",
       "      <td>2</td>\n",
       "      <td>330</td>\n",
       "      <td>3</td>\n",
       "      <td>33</td>\n",
       "      <td>36</td>\n",
       "    </tr>\n",
       "  </tbody>\n",
       "</table>\n",
       "</div>"
      ],
      "text/plain": [
       "   Obs    Y  Experience  Height  Weight\n",
       "0    1  450           3      52      58\n",
       "1    2  330           3      33      36"
      ]
     },
     "execution_count": 3,
     "metadata": {},
     "output_type": "execute_result"
    }
   ],
   "source": [
    "df.head(2)"
   ]
  },
  {
   "cell_type": "markdown",
   "metadata": {},
   "source": [
    "a) i.\tRun a linear regression to explain y in terms of experience and height.  Does height appear to explain y? "
   ]
  },
  {
   "cell_type": "code",
   "execution_count": 4,
   "metadata": {},
   "outputs": [
    {
     "name": "stdout",
     "output_type": "stream",
     "text": [
      "Collinearity of height and experience is -0.09\n"
     ]
    }
   ],
   "source": [
    "## Collinearty between Height and Experince ## R \n",
    "print(f\"Collinearity of height and experience is {df['Experience'].corr(df['Height']):.2f}\")"
   ]
  },
  {
   "cell_type": "markdown",
   "metadata": {},
   "source": [
    "[Paul: not really sure why the above correlation is calculated.]"
   ]
  },
  {
   "cell_type": "code",
   "execution_count": 6,
   "metadata": {},
   "outputs": [
    {
     "name": "stdout",
     "output_type": "stream",
     "text": [
      "Collinearity of height and weight is 0.85\n"
     ]
    }
   ],
   "source": [
    "print(f\"Collinearity of height and weight is {df['Weight'].corr(df['Height']):.2f}\")"
   ]
  },
  {
   "cell_type": "code",
   "execution_count": 15,
   "metadata": {},
   "outputs": [
    {
     "name": "stdout",
     "output_type": "stream",
     "text": [
      "LinearRegression(copy_X=True, fit_intercept=True, n_jobs=None, normalize=False)\n"
     ]
    }
   ],
   "source": [
    "## Train the regression model with 25 examples and predict the data . features - Height and Experience\n",
    "X = df.loc[:, ['Height','Experience']].values\n",
    "Y = df.loc[:, ['Y']].values\n",
    "## create object of Linearregression class\n",
    "reg = lp()\n",
    "## Fit the linear rgerssion\n",
    "X_train = X[:26, :]\n",
    "Y_train = Y[:26]\n",
    "\n",
    "reg = reg.fit(X,Y)"
   ]
  },
  {
   "cell_type": "code",
   "execution_count": 11,
   "metadata": {},
   "outputs": [
    {
     "data": {
      "text/plain": [
       "26"
      ]
     },
     "execution_count": 11,
     "metadata": {},
     "output_type": "execute_result"
    }
   ],
   "source": [
    "Y_train.size # note Python start indexing with 0 instead of 1, could use X[:25,:] and Y[:25] instead"
   ]
  },
  {
   "cell_type": "code",
   "execution_count": 17,
   "metadata": {},
   "outputs": [
    {
     "name": "stdout",
     "output_type": "stream",
     "text": [
      "Model Function ->> Y_Prediction = -39.5389 + 1.6693*Height + 101.7732*Experience\n",
      "The mean sqaured error with hieght and experince as our model feature is : 3092.910\n",
      "The R-Squared value is: 0.83\n"
     ]
    }
   ],
   "source": [
    "X_train = X[:25, :]\n",
    "Y_train = Y[:25]\n",
    "\n",
    "reg = reg.fit(X_train,Y_train)\n",
    "# Y_pred = reg.predict(X).astype('int64') # [Paul: not sure why you would put all Y_pred into integers]\n",
    "## Model Evaluation \n",
    "Intercepts = reg.intercept_\n",
    "Coef = reg.coef_\n",
    "print(f\"Model Function ->> Y_Prediction = {Intercepts[0]:.4f} + {Coef[0,0]:.4f}*Height + {Coef[0,1]:.4f}*Experience\")\n",
    "print(f\"The mean sqaured error with hieght and experince as our model feature is : {ms(Y, Y_pred):.3f}\")\n",
    "print(f\"The R-Squared value is: {r2_score(Y,Y_pred):.2f}\")"
   ]
  },
  {
   "cell_type": "markdown",
   "metadata": {},
   "source": [
    "- As per the above result, The model is powerful and explains 83% of the variability in the Y value. Given that model has both Height and Experience as variable\n",
    "- Height poorly explains Y. (We can infer this from the fact that the coefficient value of Hieght is very low compared to Experince)\n",
    "[Paul] low coef value doesn't mean explanatory power is low. Results of F and t tests matters more.\n",
    "\n",
    "\n",
    "       \n",
    "-------------------------------------------------------------------------------------------------------------------\n"
   ]
  },
  {
   "cell_type": "markdown",
   "metadata": {},
   "source": [
    "a) ii.\tRun a linear regression to explain y in terms of experience and weight.  Does weight appear to explain y? "
   ]
  },
  {
   "cell_type": "code",
   "execution_count": 110,
   "metadata": {},
   "outputs": [
    {
     "name": "stdout",
     "output_type": "stream",
     "text": [
      "Collinearity of height and experience is -0.09\n"
     ]
    }
   ],
   "source": [
    "## Collinearty between Height and Experince\n",
    "print(f\"Collinearity of height and experience is {df['Experience'].corr(df['Weight']):.2f}\")"
   ]
  },
  {
   "cell_type": "code",
   "execution_count": 36,
   "metadata": {},
   "outputs": [
    {
     "name": "stdout",
     "output_type": "stream",
     "text": [
      "Model Function ->> -67.9285 + 1.6564*Weight + 108.2833*Experience\n",
      "The mean sqaured error with Weight and experince as our model feature is : 3788.870\n",
      "The R-Squared value is: 0.79\n"
     ]
    }
   ],
   "source": [
    "## Train the regression model with 25 examples and predict the data . features - Weight and Experience\n",
    "X = df.loc[:, ['Weight','Experience']].values\n",
    "Y = df.loc[:, ['Y']].values\n",
    "## create object of Linearregression class\n",
    "reg = lp()\n",
    "## Fit the linear rgerssion\n",
    "reg = reg.fit(X_train,Y_train) # [Paul: I think X_train has not been updated, could create subtle bug here]\n",
    "X_train = X[:26, :]\n",
    "Y_train = Y[:26]\n",
    "reg = reg.fit(X_train,Y_train)\n",
    "Y_pred = reg.predict(X).astype('int64')\n",
    "## Model Evaluation \n",
    "Intercepts = reg.intercept_\n",
    "Coef = reg.coef_\n",
    "print(f\"Model Function ->> Y_Prediction =  {Intercepts[0]:.4f} + {Coef[0,0]:.4f}*Weight + {Coef[0,1]:.4f}*Experience\")\n",
    "print(f\"The mean sqaured error with Weight and experince as our model feature is : {ms(Y, Y_pred):.3f}\")\n",
    "print(f\"The R-Squared value is: {r2_score(Y,Y_pred):.2f}\")"
   ]
  },
  {
   "cell_type": "markdown",
   "metadata": {},
   "source": [
    "- As per the above result, The model is powerful and explains 79% of the variability in the Y value. Given that model has both Height and Experience as variable\n",
    "- Weight poorly explains Y. (We can infer this from the fact that the coefficient value of Wieght is very low compared to Experince)\n",
    "\n",
    "-----------------------------------------------------------------------------------------------------------------------"
   ]
  },
  {
   "cell_type": "markdown",
   "metadata": {},
   "source": [
    "a) iii.\tRun a linear regression to explain y in terms of experience and height and weight. Do height and weight appear to explain y? "
   ]
  },
  {
   "cell_type": "code",
   "execution_count": 113,
   "metadata": {},
   "outputs": [
    {
     "name": "stdout",
     "output_type": "stream",
     "text": [
      "Collinearity of height and experience is 0.85\n"
     ]
    }
   ],
   "source": [
    "## Collinearty between Height and Experince\n",
    "print(f\"Collinearity of height and experience is {df['Height'].corr(df['Weight']):.2f}\")"
   ]
  },
  {
   "cell_type": "code",
   "execution_count": 46,
   "metadata": {},
   "outputs": [
    {
     "name": "stdout",
     "output_type": "stream",
     "text": [
      "Model Function->> Y_Prediction =  -24.5216 + -0.5246*Weight + 2.0568*Height + 99.0284*Experience\n",
      "Model Function ->> -24.521624057263296 + -0.5245669073453458*Height + 2.0567699328107096*Experience\n",
      "The mean sqaured error with hieght and experince as our model feature is : 3145.640\n",
      "The R-Squared value is: 0.83\n",
      "The Adjusted R-Squared value is: 0.82\n"
     ]
    }
   ],
   "source": [
    "## Train the regression model with 25 examples and predict the data . features - Height and Weight and Experience\n",
    "X = df.loc[:, ['Weight','Height','Experience']].values\n",
    "Y = df.loc[:, ['Y']].values\n",
    "X_train = X[:26, :]\n",
    "Y_train = Y[:26]\n",
    "## create object of Linearregression class\n",
    "reg = lp()\n",
    "## Fit the linear rgerssion\n",
    "reg = reg.fit(X_train,Y_train)\n",
    "Y_pred = reg.predict(X).astype('int64')\n",
    "## Model Evaluation\n",
    "Intercepts = reg.intercept_\n",
    "Coef = reg.coef_\n",
    "print(f\"Model Function->> Y_Prediction =  {Intercepts[0]:.4f} + {Coef[0,0]:.4f}*Weight + {Coef[0,1]:.4f}*Height + {Coef[0,2]:.4f}*Experience\")\n",
    "print(f\"Model Function ->> {Intercepts[0]} + {Coef[0,0]}*Height + {Coef[0,1]}*Experience\")\n",
    "print(f\"The mean sqaured error with hieght and experince as our model feature is : {ms(Y, Y_pred):.3f}\")\n",
    "r2 = r2_score(Y,Y_pred)\n",
    "print(f\"The R-Squared value is: {r2:.2f}\")\n",
    "adj_r2 = (1 - (1 - r2) * ((len(Y) - 1) / (len(Y) - np.size(X,1) - 1)))\n",
    "print(f\"The Adjusted R-Squared value is: {adj_r2:.2f}\")"
   ]
  },
  {
   "cell_type": "markdown",
   "metadata": {},
   "source": [
    "- As per the above result, The model is powerful and explains 83% of the variability in the Y value. Given that model has both Height, Weight and Experience as variable\n",
    "- Height  and Weight poorly explains Y. (We can infer this from the fact that the coefficient value of Hieght and Weight is very low compared to Experince)\n",
    "\n",
    "\n",
    "\n",
    "\n",
    "----------------------------------------------------------------------------------------------------------------------"
   ]
  },
  {
   "cell_type": "markdown",
   "metadata": {},
   "source": [
    "b.\tDo these variables appear to be significant when considered individually? "
   ]
  },
  {
   "cell_type": "code",
   "execution_count": 47,
   "metadata": {},
   "outputs": [
    {
     "name": "stdout",
     "output_type": "stream",
     "text": [
      "Model Function ->> Y_Prediction =  166.4902 + 4.1503*Height\n",
      "The mean sqaured error with Height as our model feature is : 26706.570\n",
      "The R-Squared value is: -0.48\n",
      "\n",
      "Model Function ->> Y_Prediction =   140.7998 + 4.3065*Weight\n",
      "The mean sqaured error with Weight  as our model feature is : 22173.230\n",
      "The R-Squared value is: -0.23\n",
      "\n",
      "Model Function ->> Y_Prediction =  -19.3360 + 117.7717*Experience\n",
      "The mean sqaured error with Experience as our model feature is : 5414.290\n",
      "The R-Squared value is: 0.70\n"
     ]
    },
    {
     "data": {
      "image/png": "[encoded data removed]",
      "text/plain": [
       "<Figure size 720x360 with 3 Axes>"
      ]
     },
     "metadata": {},
     "output_type": "display_data"
    }
   ],
   "source": [
    "Y = df.loc[:, ['Y']].values\n",
    "Y_train = Y[:26]\n",
    "################################ Model using the variables individually ##########################################\n",
    "\n",
    "## Using only Height Variable\n",
    "X1 = df.loc[:, ['Height']].values\n",
    "X1_train = X1[:26, :]\n",
    "reg = lp()\n",
    "reg = reg.fit(X1_train,Y_train)\n",
    "Y_pred1 = reg.predict(X1).astype('int64')\n",
    "# Model Evaluation \n",
    "Intercepts = reg.intercept_\n",
    "Coef = reg.coef_\n",
    "print(f\"Model Function ->> Y_Prediction =  {Intercepts[0]:.4f} + {Coef[0,0]:.4f}*Height\")\n",
    "print(f\"The mean sqaured error with Height as our model feature is : {ms(Y, Y_pred1):.3f}\")\n",
    "print(f\"The R-Squared value is: {r2_score(Y,Y_pred1):.2f}\")\n",
    "\n",
    "## Using only Weight Variable\n",
    "X2 = df.loc[:, ['Weight']].values\n",
    "X2_train = X2[:26, :]\n",
    "reg = lp()\n",
    "reg = reg.fit(X2_train,Y_train)\n",
    "Y_pred2 = reg.predict(X2).astype('int64')\n",
    "# Model Evaluation \n",
    "Intercepts = reg.intercept_\n",
    "Coef = reg.coef_\n",
    "print(f\"\\nModel Function ->> Y_Prediction =   {Intercepts[0]:.4f} + {Coef[0,0]:.4f}*Weight\")\n",
    "print(f\"The mean sqaured error with Weight  as our model feature is : {ms(Y, Y_pred2):.3f}\")\n",
    "print(f\"The R-Squared value is: {r2_score(Y,Y_pred2):.2f}\")\n",
    "\n",
    "## Using only Experince Variable\n",
    "X3 = df.loc[:, ['Experience']].values\n",
    "X3_train = X3[:26, :]\n",
    "reg = lp()\n",
    "reg = reg.fit(X3_train,Y_train)\n",
    "Y_pred3 = reg.predict(X3).astype('int64')\n",
    "# Model Evaluation \n",
    "Intercepts = reg.intercept_\n",
    "Coef = reg.coef_\n",
    "print(f\"\\nModel Function ->> Y_Prediction =  {Intercepts[0]:.4f} + {Coef[0,0]:.4f}*Experience\")\n",
    "print(f\"The mean sqaured error with Experience as our model feature is : {ms(Y, Y_pred3):.3f}\")\n",
    "print(f\"The R-Squared value is: {r2_score(Y,Y_pred3):.2f}\")\n",
    "\n",
    "\n",
    "\n",
    "\n",
    "### Regression model plot for all three models\n",
    "plt.style.use('seaborn')\n",
    "fig, (ax1,ax2,ax3) = plt.subplots(nrows=1, ncols=3, figsize=(10,5))\n",
    "\n",
    "ax1.scatter(X1,Y)\n",
    "ax1.plot(X1,Y_pred1, color='red')\n",
    "ax1.set_title('Regression - Height')\n",
    "ax1.set_xlabel('Height')\n",
    "ax1.set_ylabel('Y')\n",
    "      \n",
    "ax2.scatter(X2,Y)\n",
    "ax2.plot(X2,Y_pred2, color='red')\n",
    "ax2.set_title('Regression - Weight')\n",
    "ax2.set_xlabel('Weight')\n",
    "ax2.set_ylabel('Y')    \n",
    "\n",
    "ax3.scatter(X3,Y)\n",
    "ax3.plot(X3,Y_pred3, color='red')\n",
    "ax3.set_title('Regression - Experience')\n",
    "ax3.set_xlabel('Experience')\n",
    "ax3.set_ylabel('Y')  \n",
    "     \n",
    "plt.show()\n",
    "\n"
   ]
  },
  {
   "cell_type": "markdown",
   "metadata": {},
   "source": [
    "- The variables Hieght and Weight are insignificant when used individually. Linear regression Model using only height or weight as variable is poor in predicted Y. We can intepret that from the values of Mean squared error and R-Squared value. \n",
    "- Model using only Experience as variable explains the 70% variablity of Y. We can say the model using only Experience is still somehwat powerful\n",
    "\n",
    "------------------------------------------------------------------------------------------------------------------------"
   ]
  },
  {
   "cell_type": "markdown",
   "metadata": {},
   "source": [
    "d.\tConsider the results you suggest have found from the work in a. Write a paragraph or two to explain to your manager the patterns you observed with respect to the significance of the t-statistics, why these results occurred, and the strategies you for using explanatory variables that exhibit collinearity?"
   ]
  },
  {
   "cell_type": "code",
   "execution_count": 19,
   "metadata": {
    "scrolled": true
   },
   "outputs": [
    {
     "name": "stdout",
     "output_type": "stream",
     "text": [
      "                                 OLS Regression Results                                \n",
      "=======================================================================================\n",
      "Dep. Variable:                      y   R-squared (uncentered):                   0.975\n",
      "Model:                            OLS   Adj. R-squared (uncentered):              0.972\n",
      "Method:                 Least Squares   F-statistic:                              299.9\n",
      "Date:                Tue, 30 Jun 2020   Prob (F-statistic):                    1.42e-18\n",
      "Time:                        16:20:54   Log-Likelihood:                         -143.72\n",
      "No. Observations:                  26   AIC:                                      293.4\n",
      "Df Residuals:                      23   BIC:                                      297.2\n",
      "Df Model:                           3                                                  \n",
      "Covariance Type:            nonrobust                                                  \n",
      "==============================================================================\n",
      "                 coef    std err          t      P>|t|      [0.025      0.975]\n",
      "------------------------------------------------------------------------------\n",
      "x1            -0.9888      0.922     -1.073      0.295      -2.896       0.918\n",
      "x2             2.3290      0.847      2.750      0.011       0.577       4.081\n",
      "x3            95.1023      8.666     10.975      0.000      77.176     113.028\n",
      "==============================================================================\n",
      "Omnibus:                        0.502   Durbin-Watson:                   2.499\n",
      "Prob(Omnibus):                  0.778   Jarque-Bera (JB):                0.606\n",
      "Skew:                           0.136   Prob(JB):                        0.738\n",
      "Kurtosis:                       2.303   Cond. No.                         49.0\n",
      "==============================================================================\n",
      "\n",
      "Warnings:\n",
      "[1] Standard Errors assume that the covariance matrix of the errors is correctly specified.\n"
     ]
    }
   ],
   "source": [
    "import statsmodels.api as sm\n",
    "\n",
    "X = df.loc[:, ['Weight','Height','Experience']].values\n",
    "Y = df.loc[:, ['Y']].values\n",
    "X_train = X[:26, :]\n",
    "Y_train = Y[:26]\n",
    "## Create model using statsmodel \n",
    "model = sm.OLS(Y_train,X_train).fit()\n",
    "print(model.summary())"
   ]
  },
  {
   "cell_type": "markdown",
   "metadata": {},
   "source": [
    "[Paul: from the result of OLS, only three variables were identified, whereas an intercept should also be added. please see ?sm.OLS]"
   ]
  },
  {
   "cell_type": "code",
   "execution_count": 22,
   "metadata": {},
   "outputs": [],
   "source": [
    "?sm.OLS"
   ]
  },
  {
   "cell_type": "code",
   "execution_count": null,
   "metadata": {},
   "outputs": [],
   "source": []
  }
 ],
 "metadata": {
  "kernelspec": {
   "display_name": "Python 3",
   "language": "python",
   "name": "python3"
  },
  "language_info": {
   "codemirror_mode": {
    "name": "ipython",
    "version": 3
   },
   "file_extension": ".py",
   "mimetype": "text/x-python",
   "name": "python",
   "nbconvert_exporter": "python",
   "pygments_lexer": "ipython3",
   "version": "3.7.4"
  }
 },
 "nbformat": 4,
 "nbformat_minor": 4
}
