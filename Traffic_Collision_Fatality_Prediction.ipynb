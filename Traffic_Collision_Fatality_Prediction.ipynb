{
  "nbformat": 4,
  "nbformat_minor": 0,
  "metadata": {
    "colab": {
      "name": "860_Model5_Paul.ipynb",
      "provenance": [],
      "collapsed_sections": [],
      "toc_visible": true
    },
    "kernelspec": {
      "display_name": "Python 3",
      "language": "python",
      "name": "python3"
    },
    "language_info": {
      "codemirror_mode": {
        "name": "ipython",
        "version": 3
      },
      "file_extension": ".py",
      "mimetype": "text/x-python",
      "name": "python",
      "nbconvert_exporter": "python",
      "pygments_lexer": "ipython3",
      "version": "3.7.4"
    }
  },
  "cells": [
    {
      "cell_type": "code",
      "metadata": {
        "colab_type": "code",
        "id": "KPRa1KJ3nmTO",
        "colab": {}
      },
      "source": [
        "import pandas as pd\n",
        "import numpy as np  \n",
        "import matplotlib.pyplot as plt"
      ],
      "execution_count": null,
      "outputs": []
    },
    {
      "cell_type": "code",
      "metadata": {
        "colab_type": "code",
        "id": "XYEH3Ne_nw-R",
        "colab": {}
      },
      "source": [
        "df= pd.read_excel(\"updateddata.xlsx\")"
      ],
      "execution_count": null,
      "outputs": []
    },
    {
      "cell_type": "markdown",
      "metadata": {
        "colab_type": "text",
        "id": "8yGWTZM0LPxx"
      },
      "source": [
        "# Data Cleanup \n",
        "- The column names were updated to them more explicit\n",
        "- Values updated in variables as numerical. 'yes' updated to 1 and blanks updated to 0 as the blank represented 'no'\n",
        "- As the purpose of he model is to predict the 'injury' type of Cyclist. we have filter the dataframe based on 'Cyclist' records. After applying the filter. The total observations are \n",
        "- Based on the understanding on the dataset, data irrelevant for the models are dropped\n",
        "- The 'age' column is 'char' instead of numerical and indicates age as range. For ex: 20 to 30.\n",
        "We have coverted this into numerical by taking mean of the range. \n",
        "- SOme of the values are 'unknown' in the 'age' columns. Those are just replaced with 'null' and will be handled in missing data handling part\n",
        "\n",
        "- Oversampling Technique to remove Class imbalance (Performed after feature engieering)"
      ]
    },
    {
      "cell_type": "markdown",
      "metadata": {
        "colab_type": "text",
        "id": "umUJiJMvoAIl"
      },
      "source": [
        "  **--- Fill the NAs with zeroes\n",
        "--- Update the Yes to 1**\n",
        "for columns\n",
        "*\"alcohol\",\"redlight\",\"ag_driv\",\"speeding\",\"passenger\",\"emerg_veh\",\"trsn_city_veh\"* columns\n"
      ]
    },
    {
      "cell_type": "code",
      "metadata": {
        "colab_type": "code",
        "id": "XMHOwm7qn8XR",
        "colab": {}
      },
      "source": [
        "cols = [\"alcohol\",\"redlight\",\"ag_driv\",\"speeding\",\"passenger\",\"emerg_veh\",\"trsn_city_veh\", \\\n",
        "    \"truck\",\"automobile\",\"pedestrian\"]\n",
        "for col in cols:\n",
        "  df[col].fillna(0,inplace=True)\n",
        "  df[col].replace(\"Yes\",1,inplace=True)"
      ],
      "execution_count": null,
      "outputs": []
    },
    {
      "cell_type": "markdown",
      "metadata": {
        "colab_type": "text",
        "id": "NiE5zQtVJJj-"
      },
      "source": [
        "As the Analysis is based on 'Cylist' injury. Fiter the dataframe based on 'Cyclist'"
      ]
    },
    {
      "cell_type": "code",
      "metadata": {
        "colab_type": "code",
        "id": "GgVRpecPqhgQ",
        "colab": {
          "base_uri": "https://localhost:8080/",
          "height": 288
        },
        "outputId": "ee7d7cc7-5ba9-49a0-e23e-72f438101e26"
      },
      "source": [
        "## df has only rows where invtype is cyclist\n",
        "df=df.loc[df.invtype=='Cyclist']\n",
        "df.reset_index(drop=True, inplace=True)\n",
        "df.head(2)"
      ],
      "execution_count": null,
      "outputs": [
        {
          "output_type": "execute_result",
          "data": {
            "text/html": [
              "<div>\n",
              "<style scoped>\n",
              "    .dataframe tbody tr th:only-of-type {\n",
              "        vertical-align: middle;\n",
              "    }\n",
              "\n",
              "    .dataframe tbody tr th {\n",
              "        vertical-align: top;\n",
              "    }\n",
              "\n",
              "    .dataframe thead th {\n",
              "        text-align: right;\n",
              "    }\n",
              "</style>\n",
              "<table border=\"1\" class=\"dataframe\">\n",
              "  <thead>\n",
              "    <tr style=\"text-align: right;\">\n",
              "      <th></th>\n",
              "      <th>Unnamed: 0</th>\n",
              "      <th>event_id</th>\n",
              "      <th>year</th>\n",
              "      <th>date</th>\n",
              "      <th>hour</th>\n",
              "      <th>street1</th>\n",
              "      <th>street2</th>\n",
              "      <th>road_class</th>\n",
              "      <th>district</th>\n",
              "      <th>ward_num</th>\n",
              "      <th>division</th>\n",
              "      <th>latitude</th>\n",
              "      <th>longitude</th>\n",
              "      <th>intersection</th>\n",
              "      <th>loc_to_inter</th>\n",
              "      <th>traffic_control</th>\n",
              "      <th>visibility</th>\n",
              "      <th>light</th>\n",
              "      <th>road_cond</th>\n",
              "      <th>acclass</th>\n",
              "      <th>impactype</th>\n",
              "      <th>invtype</th>\n",
              "      <th>age</th>\n",
              "      <th>injury</th>\n",
              "      <th>fatal_no</th>\n",
              "      <th>initdir</th>\n",
              "      <th>vehtype</th>\n",
              "      <th>manoeuver</th>\n",
              "      <th>drivact</th>\n",
              "      <th>drivcond</th>\n",
              "      <th>pedtype</th>\n",
              "      <th>pedact</th>\n",
              "      <th>pedcond</th>\n",
              "      <th>cyclistype</th>\n",
              "      <th>cycact</th>\n",
              "      <th>cyccond</th>\n",
              "      <th>pedestrian</th>\n",
              "      <th>automobile</th>\n",
              "      <th>truck</th>\n",
              "      <th>trsn_city_veh</th>\n",
              "      <th>emerg_veh</th>\n",
              "      <th>passenger</th>\n",
              "      <th>speeding</th>\n",
              "      <th>ag_driv</th>\n",
              "      <th>redlight</th>\n",
              "      <th>alcohol</th>\n",
              "      <th>hood_id</th>\n",
              "      <th>neighbourhood</th>\n",
              "      <th>minute</th>\n",
              "    </tr>\n",
              "  </thead>\n",
              "  <tbody>\n",
              "    <tr>\n",
              "      <th>0</th>\n",
              "      <td>2</td>\n",
              "      <td>891027</td>\n",
              "      <td>2006</td>\n",
              "      <td>2006-02-11</td>\n",
              "      <td>18</td>\n",
              "      <td>UNDERHILL DR</td>\n",
              "      <td>CASSANDRA BLVD</td>\n",
              "      <td>Collector</td>\n",
              "      <td>North York</td>\n",
              "      <td>16.0</td>\n",
              "      <td>33</td>\n",
              "      <td>43.752745</td>\n",
              "      <td>-79.32639</td>\n",
              "      <td>Intersection</td>\n",
              "      <td>At Intersection</td>\n",
              "      <td>No Control</td>\n",
              "      <td>Clear</td>\n",
              "      <td>Dark</td>\n",
              "      <td>Dry</td>\n",
              "      <td>Non-Fatal Injury</td>\n",
              "      <td>Cyclist Collisions</td>\n",
              "      <td>Cyclist</td>\n",
              "      <td>20 to 24</td>\n",
              "      <td>Major</td>\n",
              "      <td>NaN</td>\n",
              "      <td>South</td>\n",
              "      <td>Bicycle</td>\n",
              "      <td>Going Ahead</td>\n",
              "      <td>NaN</td>\n",
              "      <td>NaN</td>\n",
              "      <td>NaN</td>\n",
              "      <td>NaN</td>\n",
              "      <td>NaN</td>\n",
              "      <td>Motorist turned left across cyclists path.</td>\n",
              "      <td>NaN</td>\n",
              "      <td>NaN</td>\n",
              "      <td>0</td>\n",
              "      <td>1</td>\n",
              "      <td>0</td>\n",
              "      <td>0</td>\n",
              "      <td>0</td>\n",
              "      <td>0</td>\n",
              "      <td>0</td>\n",
              "      <td>0</td>\n",
              "      <td>0</td>\n",
              "      <td>0</td>\n",
              "      <td>45</td>\n",
              "      <td>Parkwoods-Donalda (45)</td>\n",
              "      <td>4</td>\n",
              "    </tr>\n",
              "    <tr>\n",
              "      <th>1</th>\n",
              "      <td>5</td>\n",
              "      <td>893580</td>\n",
              "      <td>2006</td>\n",
              "      <td>2006-02-27</td>\n",
              "      <td>19</td>\n",
              "      <td>MORNINGSIDE AVE</td>\n",
              "      <td>KINGSTON RD</td>\n",
              "      <td>Major Arterial</td>\n",
              "      <td>Scarborough</td>\n",
              "      <td>NaN</td>\n",
              "      <td>43</td>\n",
              "      <td>43.770645</td>\n",
              "      <td>-79.18689</td>\n",
              "      <td>Intersection</td>\n",
              "      <td>NaN</td>\n",
              "      <td>Traffic Signal</td>\n",
              "      <td>Clear</td>\n",
              "      <td>Dark</td>\n",
              "      <td>Wet</td>\n",
              "      <td>Non-Fatal Injury</td>\n",
              "      <td>Cyclist Collisions</td>\n",
              "      <td>Cyclist</td>\n",
              "      <td>25 to 29</td>\n",
              "      <td>Major</td>\n",
              "      <td>NaN</td>\n",
              "      <td>West</td>\n",
              "      <td>Bicycle</td>\n",
              "      <td>Going Ahead</td>\n",
              "      <td>NaN</td>\n",
              "      <td>NaN</td>\n",
              "      <td>NaN</td>\n",
              "      <td>NaN</td>\n",
              "      <td>NaN</td>\n",
              "      <td>Motorist turning right on green or amber at si...</td>\n",
              "      <td>Driving Properly</td>\n",
              "      <td>Normal</td>\n",
              "      <td>0</td>\n",
              "      <td>0</td>\n",
              "      <td>0</td>\n",
              "      <td>1</td>\n",
              "      <td>0</td>\n",
              "      <td>0</td>\n",
              "      <td>0</td>\n",
              "      <td>1</td>\n",
              "      <td>0</td>\n",
              "      <td>0</td>\n",
              "      <td>136</td>\n",
              "      <td>West Hill (136)</td>\n",
              "      <td>55</td>\n",
              "    </tr>\n",
              "  </tbody>\n",
              "</table>\n",
              "</div>"
            ],
            "text/plain": [
              "   Unnamed: 0  event_id  year  ... hood_id           neighbourhood minute\n",
              "0           2    891027  2006  ...      45  Parkwoods-Donalda (45)      4\n",
              "1           5    893580  2006  ...     136         West Hill (136)     55\n",
              "\n",
              "[2 rows x 49 columns]"
            ]
          },
          "metadata": {
            "tags": []
          },
          "execution_count": 150
        }
      ]
    },
    {
      "cell_type": "code",
      "metadata": {
        "colab_type": "code",
        "id": "7IKjk4u87vLH",
        "colab": {
          "base_uri": "https://localhost:8080/",
          "height": 190
        },
        "outputId": "3f909eaa-7f47-4417-fbb6-ead68d95d995"
      },
      "source": [
        "df.columns"
      ],
      "execution_count": null,
      "outputs": [
        {
          "output_type": "execute_result",
          "data": {
            "text/plain": [
              "Index(['Unnamed: 0', 'event_id', 'year', 'date', 'hour', 'street1', 'street2',\n",
              "       'road_class', 'district', 'ward_num', 'division', 'latitude',\n",
              "       'longitude', 'intersection', 'loc_to_inter', 'traffic_control',\n",
              "       'visibility', 'light', 'road_cond', 'acclass', 'impactype', 'invtype',\n",
              "       'age', 'injury', 'fatal_no', 'initdir', 'vehtype', 'manoeuver',\n",
              "       'drivact', 'drivcond', 'pedtype', 'pedact', 'pedcond', 'cyclistype',\n",
              "       'cycact', 'cyccond', 'pedestrian', 'automobile', 'truck',\n",
              "       'trsn_city_veh', 'emerg_veh', 'passenger', 'speeding', 'ag_driv',\n",
              "       'redlight', 'alcohol', 'hood_id', 'neighbourhood', 'minute'],\n",
              "      dtype='object')"
            ]
          },
          "metadata": {
            "tags": []
          },
          "execution_count": 151
        }
      ]
    },
    {
      "cell_type": "code",
      "metadata": {
        "colab_type": "code",
        "id": "iOfNuWDCoPLx",
        "colab": {
          "base_uri": "https://localhost:8080/",
          "height": 135
        },
        "outputId": "7ebb926f-9837-4050-c4bc-8c040bb6c58d"
      },
      "source": [
        "## Dropping Variables not needed for model\n",
        "# Based on the fatality rates below are the relevant columns for the model\n",
        "#'age' columns\n",
        "#Date \n",
        "#hour\n",
        "#Days\n",
        "#Light  \n",
        "#District\n",
        "#Road class\n",
        "#Intersection \n",
        "#Traffic signal\n",
        "#Type of vehicle ('autoombile', 'truck')\n",
        "#Cyclist condition ('cyccond')\n",
        "cols = ['date','hour','road_class','district','intersection','traffic_control','visibility','light',\\\n",
        "        'age','cyccond', 'automobile', 'truck', 'injury' ]\n",
        "df1= df[cols]\n",
        "df1.head(1)\n"
      ],
      "execution_count": null,
      "outputs": [
        {
          "output_type": "execute_result",
          "data": {
            "text/html": [
              "<div>\n",
              "<style scoped>\n",
              "    .dataframe tbody tr th:only-of-type {\n",
              "        vertical-align: middle;\n",
              "    }\n",
              "\n",
              "    .dataframe tbody tr th {\n",
              "        vertical-align: top;\n",
              "    }\n",
              "\n",
              "    .dataframe thead th {\n",
              "        text-align: right;\n",
              "    }\n",
              "</style>\n",
              "<table border=\"1\" class=\"dataframe\">\n",
              "  <thead>\n",
              "    <tr style=\"text-align: right;\">\n",
              "      <th></th>\n",
              "      <th>date</th>\n",
              "      <th>hour</th>\n",
              "      <th>road_class</th>\n",
              "      <th>district</th>\n",
              "      <th>intersection</th>\n",
              "      <th>traffic_control</th>\n",
              "      <th>visibility</th>\n",
              "      <th>light</th>\n",
              "      <th>age</th>\n",
              "      <th>cyccond</th>\n",
              "      <th>automobile</th>\n",
              "      <th>truck</th>\n",
              "      <th>injury</th>\n",
              "    </tr>\n",
              "  </thead>\n",
              "  <tbody>\n",
              "    <tr>\n",
              "      <th>0</th>\n",
              "      <td>2006-02-11</td>\n",
              "      <td>18</td>\n",
              "      <td>Collector</td>\n",
              "      <td>North York</td>\n",
              "      <td>Intersection</td>\n",
              "      <td>No Control</td>\n",
              "      <td>Clear</td>\n",
              "      <td>Dark</td>\n",
              "      <td>20 to 24</td>\n",
              "      <td>NaN</td>\n",
              "      <td>1</td>\n",
              "      <td>0</td>\n",
              "      <td>Major</td>\n",
              "    </tr>\n",
              "  </tbody>\n",
              "</table>\n",
              "</div>"
            ],
            "text/plain": [
              "        date  hour road_class    district  ... cyccond automobile truck injury\n",
              "0 2006-02-11    18  Collector  North York  ...     NaN          1     0  Major\n",
              "\n",
              "[1 rows x 13 columns]"
            ]
          },
          "metadata": {
            "tags": []
          },
          "execution_count": 152
        }
      ]
    },
    {
      "cell_type": "code",
      "metadata": {
        "colab_type": "code",
        "id": "_gJNbpvWyYFW",
        "colab": {
          "base_uri": "https://localhost:8080/",
          "height": 123
        },
        "outputId": "232d7237-0848-4a6f-ce00-60ca76ebc5bd"
      },
      "source": [
        "#create continous value for Age and drop the original columns\n",
        "age = pd.DataFrame(df1['age'])\n",
        "age['age'].replace(['unknown'],[''],inplace=True)\n",
        "new_age = age['age'].str.split(\" \", expand=True)\n",
        "new_age = new_age.drop(new_age.columns[1], axis=1)\n",
        "new_age = new_age.apply(pd.to_numeric, errors='coerce')\n",
        "new_age['Age'] = new_age.mean(axis=1)\n",
        "df1.insert(df1.columns.get_loc(\"age\"), \"New_Age\", new_age['Age'])\n",
        "df1.drop('age',axis=1,inplace=True)"
      ],
      "execution_count": null,
      "outputs": [
        {
          "output_type": "stream",
          "text": [
            "/usr/local/lib/python3.6/dist-packages/pandas/core/frame.py:3997: SettingWithCopyWarning: \n",
            "A value is trying to be set on a copy of a slice from a DataFrame\n",
            "\n",
            "See the caveats in the documentation: https://pandas.pydata.org/pandas-docs/stable/user_guide/indexing.html#returning-a-view-versus-a-copy\n",
            "  errors=errors,\n"
          ],
          "name": "stderr"
        }
      ]
    },
    {
      "cell_type": "code",
      "metadata": {
        "colab_type": "code",
        "id": "3BYoTayrd5Du",
        "colab": {
          "base_uri": "https://localhost:8080/",
          "height": 118
        },
        "outputId": "664d3378-217a-4298-9aaa-c36ede3ef798"
      },
      "source": [
        "df1.head(1)"
      ],
      "execution_count": null,
      "outputs": [
        {
          "output_type": "execute_result",
          "data": {
            "text/html": [
              "<div>\n",
              "<style scoped>\n",
              "    .dataframe tbody tr th:only-of-type {\n",
              "        vertical-align: middle;\n",
              "    }\n",
              "\n",
              "    .dataframe tbody tr th {\n",
              "        vertical-align: top;\n",
              "    }\n",
              "\n",
              "    .dataframe thead th {\n",
              "        text-align: right;\n",
              "    }\n",
              "</style>\n",
              "<table border=\"1\" class=\"dataframe\">\n",
              "  <thead>\n",
              "    <tr style=\"text-align: right;\">\n",
              "      <th></th>\n",
              "      <th>date</th>\n",
              "      <th>hour</th>\n",
              "      <th>road_class</th>\n",
              "      <th>district</th>\n",
              "      <th>intersection</th>\n",
              "      <th>traffic_control</th>\n",
              "      <th>visibility</th>\n",
              "      <th>light</th>\n",
              "      <th>New_Age</th>\n",
              "      <th>cyccond</th>\n",
              "      <th>automobile</th>\n",
              "      <th>truck</th>\n",
              "      <th>injury</th>\n",
              "    </tr>\n",
              "  </thead>\n",
              "  <tbody>\n",
              "    <tr>\n",
              "      <th>0</th>\n",
              "      <td>2006-02-11</td>\n",
              "      <td>18</td>\n",
              "      <td>Collector</td>\n",
              "      <td>North York</td>\n",
              "      <td>Intersection</td>\n",
              "      <td>No Control</td>\n",
              "      <td>Clear</td>\n",
              "      <td>Dark</td>\n",
              "      <td>22.0</td>\n",
              "      <td>NaN</td>\n",
              "      <td>1</td>\n",
              "      <td>0</td>\n",
              "      <td>Major</td>\n",
              "    </tr>\n",
              "  </tbody>\n",
              "</table>\n",
              "</div>"
            ],
            "text/plain": [
              "        date  hour road_class    district  ... cyccond automobile truck injury\n",
              "0 2006-02-11    18  Collector  North York  ...     NaN          1     0  Major\n",
              "\n",
              "[1 rows x 13 columns]"
            ]
          },
          "metadata": {
            "tags": []
          },
          "execution_count": 154
        }
      ]
    },
    {
      "cell_type": "markdown",
      "metadata": {
        "colab_type": "text",
        "id": "RghBHgPTPJvl"
      },
      "source": [
        "-------------------------------------------------------------------------------------------------"
      ]
    },
    {
      "cell_type": "markdown",
      "metadata": {
        "colab_type": "text",
        "id": "Wf_z-G89NLVP"
      },
      "source": [
        "# Missing Data Handling\n",
        "- Empty columns dropped\n",
        "- Columns having more than 90% values as blank are dropped\n",
        "- Categorical columns which had few missing data were updated as 'unknown' and kept under 'Other' category. \n",
        "- Missing numerical data in Age column updated using Multiple Imputation technique"
      ]
    },
    {
      "cell_type": "markdown",
      "metadata": {
        "colab_type": "text",
        "id": "djjk7uT5oKCY"
      },
      "source": [
        "**Analysing the Missing data**"
      ]
    },
    {
      "cell_type": "code",
      "metadata": {
        "colab_type": "code",
        "id": "whqZeOTXFBX4",
        "colab": {}
      },
      "source": [
        "##  List the columns which has more than 90% NUll values after we filter with 'invtype' as Cyclist\n",
        "cols =[]\n",
        "for x in df1.columns: \n",
        "  if df1[x].isnull().sum()> 0.9*df1.shape[0]:\n",
        "    print(f\"Column '{x}' has more than 90% data missing\")\n",
        "    cols.append(x)"
      ],
      "execution_count": null,
      "outputs": []
    },
    {
      "cell_type": "code",
      "metadata": {
        "colab_type": "code",
        "id": "_E-IdaVBJqIC",
        "colab": {
          "base_uri": "https://localhost:8080/",
          "height": 193
        },
        "outputId": "d2c5418d-aaa2-41e4-9ba7-5fe66e66e34f"
      },
      "source": [
        "## drop these colums with more than 90% missing data\n",
        "df1.drop(cols, axis=1, inplace=True)\n",
        "df1.shape\n",
        "print(\"Shape of Data after dropping the columns\")\n",
        "print(f\"\\nRows:{df1.shape[0]}\")\n",
        "print(f\"Columns:{df1.shape[1]}\")"
      ],
      "execution_count": null,
      "outputs": [
        {
          "output_type": "stream",
          "text": [
            "Shape of Data after dropping the columns\n",
            "\n",
            "Rows:684\n",
            "Columns:13\n"
          ],
          "name": "stdout"
        },
        {
          "output_type": "stream",
          "text": [
            "/usr/local/lib/python3.6/dist-packages/pandas/core/frame.py:3997: SettingWithCopyWarning: \n",
            "A value is trying to be set on a copy of a slice from a DataFrame\n",
            "\n",
            "See the caveats in the documentation: https://pandas.pydata.org/pandas-docs/stable/user_guide/indexing.html#returning-a-view-versus-a-copy\n",
            "  errors=errors,\n"
          ],
          "name": "stderr"
        }
      ]
    },
    {
      "cell_type": "code",
      "metadata": {
        "colab_type": "code",
        "id": "P9C7-OVYoqCs",
        "colab": {
          "base_uri": "https://localhost:8080/",
          "height": 86
        },
        "outputId": "89cb6cf9-640f-4874-bd6e-2d17638727fe"
      },
      "source": [
        "# Print the total number of Null values in rest of columns\n",
        "cols = df1.columns\n",
        "for x in cols:\n",
        "  n = df1[x].isnull().sum()\n",
        "  if n>0:\n",
        "    print(f\"Total Null values in column {x} is {n}\")"
      ],
      "execution_count": null,
      "outputs": [
        {
          "output_type": "stream",
          "text": [
            "Total Null values in column district is 1\n",
            "Total Null values in column intersection is 5\n",
            "Total Null values in column New_Age is 4\n",
            "Total Null values in column cyccond is 19\n"
          ],
          "name": "stdout"
        }
      ]
    },
    {
      "cell_type": "code",
      "metadata": {
        "colab_type": "code",
        "id": "aHcPjXFxqJZQ",
        "colab": {
          "base_uri": "https://localhost:8080/",
          "height": 123
        },
        "outputId": "89cfcb78-b831-4835-ade4-b0ac1efadc85"
      },
      "source": [
        "#Categorical columns which had few missing data were updated as 'unknown' and kept under 'Other' category.\n",
        "df1.fillna(value='unknown', inplace=True)"
      ],
      "execution_count": null,
      "outputs": [
        {
          "output_type": "stream",
          "text": [
            "/usr/local/lib/python3.6/dist-packages/pandas/core/frame.py:4153: SettingWithCopyWarning: \n",
            "A value is trying to be set on a copy of a slice from a DataFrame\n",
            "\n",
            "See the caveats in the documentation: https://pandas.pydata.org/pandas-docs/stable/user_guide/indexing.html#returning-a-view-versus-a-copy\n",
            "  downcast=downcast,\n"
          ],
          "name": "stderr"
        }
      ]
    },
    {
      "cell_type": "code",
      "metadata": {
        "colab_type": "code",
        "id": "FCRMhNTvy9xS",
        "colab": {
          "base_uri": "https://localhost:8080/",
          "height": 210
        },
        "outputId": "b9345c26-7393-4928-dd67-7e3a1bc31b47"
      },
      "source": [
        "## fill the 4  age  Data using Multiple Imputation\n",
        "df1.loc[:,'New_Age'].replace(['unknown'],np.nan,inplace=True)\n",
        "df1.fillna(value=np.mean(df1['New_Age']), inplace=True)"
      ],
      "execution_count": null,
      "outputs": [
        {
          "output_type": "stream",
          "text": [
            "/usr/local/lib/python3.6/dist-packages/pandas/core/generic.py:6746: SettingWithCopyWarning: \n",
            "A value is trying to be set on a copy of a slice from a DataFrame\n",
            "\n",
            "See the caveats in the documentation: https://pandas.pydata.org/pandas-docs/stable/user_guide/indexing.html#returning-a-view-versus-a-copy\n",
            "  self._update_inplace(new_data)\n",
            "/usr/local/lib/python3.6/dist-packages/pandas/core/frame.py:4153: SettingWithCopyWarning: \n",
            "A value is trying to be set on a copy of a slice from a DataFrame\n",
            "\n",
            "See the caveats in the documentation: https://pandas.pydata.org/pandas-docs/stable/user_guide/indexing.html#returning-a-view-versus-a-copy\n",
            "  downcast=downcast,\n"
          ],
          "name": "stderr"
        }
      ]
    },
    {
      "cell_type": "code",
      "metadata": {
        "colab_type": "code",
        "id": "phV4LHmjfQbH",
        "colab": {
          "base_uri": "https://localhost:8080/",
          "height": 34
        },
        "outputId": "87a0fc52-7b87-4e2e-829e-0243b811263d"
      },
      "source": [
        "df1.New_Age.isnull().sum()"
      ],
      "execution_count": null,
      "outputs": [
        {
          "output_type": "execute_result",
          "data": {
            "text/plain": [
              "0"
            ]
          },
          "metadata": {
            "tags": []
          },
          "execution_count": 160
        }
      ]
    },
    {
      "cell_type": "markdown",
      "metadata": {
        "colab_type": "text",
        "id": "k6QjoQWUSY-k"
      },
      "source": [
        "_____________________________________________________________________________________________________________"
      ]
    },
    {
      "cell_type": "markdown",
      "metadata": {
        "colab_type": "text",
        "id": "o9iTjdsqQijY"
      },
      "source": [
        "# Feature Engineering \n",
        "- A categorical column created based on 'hour'. The hour is categorized in hour ranges . Ex: Hour 0 to 3 has obvs which has 'hour' value between 0 to 3\n",
        "- Dummy variables created for all categorical columns. Since the columns has too many categories. Only top 2 categories (based on occurences) are kept and rest are merged into 'other' category\n",
        "- The target column 'Fatal_prediction' created using 'injury' column. If the 'injury' is 'Fatal', 'Fatal_prediction' is 1 else 0"
      ]
    },
    {
      "cell_type": "markdown",
      "metadata": {
        "colab_type": "text",
        "id": "Bql42rthByvc"
      },
      "source": [
        "Create hour range categories from hour variable -- Feature enginerring"
      ]
    },
    {
      "cell_type": "code",
      "metadata": {
        "colab_type": "code",
        "id": "nbLBBz5qDNmu",
        "colab": {
          "base_uri": "https://localhost:8080/",
          "height": 245
        },
        "outputId": "cdaac4b0-4d6c-4397-cf59-a25b42e2242a"
      },
      "source": [
        "df1['HourRange'] = ''\n",
        "hour = df1.loc[:,'hour']\n",
        "df1.loc[:,'HourRange'] = np.where((0<=hour) & (hour<=3),'Hour 0 to 3', df1.loc[:,'HourRange'])\n",
        "df1.loc[:,'HourRange'] = np.where((4<=hour) & (hour<=7),'Hour 4 to 7', df1.loc[:,'HourRange'])\n",
        "df1.loc[:,'HourRange'] = np.where((8<=hour) & (hour<=11),'Hour 8 to 11', df1.loc[:,'HourRange'])\n",
        "df1.loc[:,'HourRange'] = np.where((12<=hour) & (hour<=15),'Hour 12 to 15', df1.loc[:,'HourRange'])\n",
        "df1.loc[:,'HourRange'] = np.where((16<=hour) & (hour<=19),'Hour 16 to 19', df1.loc[:,'HourRange'])\n",
        "df1.loc[:,'HourRange'] = np.where((20<=hour) & (hour<=23),'Hour 20 to 23', df1.loc[:,'HourRange'])"
      ],
      "execution_count": null,
      "outputs": [
        {
          "output_type": "stream",
          "text": [
            "/usr/local/lib/python3.6/dist-packages/ipykernel_launcher.py:1: SettingWithCopyWarning: \n",
            "A value is trying to be set on a copy of a slice from a DataFrame.\n",
            "Try using .loc[row_indexer,col_indexer] = value instead\n",
            "\n",
            "See the caveats in the documentation: https://pandas.pydata.org/pandas-docs/stable/user_guide/indexing.html#returning-a-view-versus-a-copy\n",
            "  \"\"\"Entry point for launching an IPython kernel.\n",
            "/usr/local/lib/python3.6/dist-packages/pandas/core/indexing.py:966: SettingWithCopyWarning: \n",
            "A value is trying to be set on a copy of a slice from a DataFrame.\n",
            "Try using .loc[row_indexer,col_indexer] = value instead\n",
            "\n",
            "See the caveats in the documentation: https://pandas.pydata.org/pandas-docs/stable/user_guide/indexing.html#returning-a-view-versus-a-copy\n",
            "  self.obj[item] = s\n"
          ],
          "name": "stderr"
        }
      ]
    },
    {
      "cell_type": "markdown",
      "metadata": {
        "colab_type": "text",
        "id": "GYmWOX4ziWNm"
      },
      "source": [
        "Create variable \"Season\" to check the impact of Season on the fatalities\n",
        "Season is created using Data Column"
      ]
    },
    {
      "cell_type": "code",
      "metadata": {
        "colab_type": "code",
        "id": "vIdkxvVWimPQ",
        "colab": {
          "base_uri": "https://localhost:8080/",
          "height": 755
        },
        "outputId": "eae0b59f-5027-4ea8-981c-9775a4d864c5"
      },
      "source": [
        "## Create month column \n",
        "df1['Month'] = df1.date.dt.month\n",
        "df1.Month\n",
        "df1['Season'] = ''\n",
        "Month = df1.loc[:,'Month']\n",
        "df1.loc[:,'Season'] = np.where((4<=Month) & (Month<=6),'Spring', df1.loc[:,'Season'])\n",
        "df1.loc[:,'Season'] = np.where((7<=Month) & (Month<=9),'Summer', df1.loc[:,'Season'])\n",
        "df1.loc[:,'Season'] = np.where((10<=Month) & (Month<=12),'Fall', df1.loc[:,'Season'])\n",
        "df1.loc[:,'Season'] = np.where((1<=Month) & (Month<=3),'Winter', df1.loc[:,'Season'])\n",
        "df1.loc[:,['Month','Season']]\n"
      ],
      "execution_count": null,
      "outputs": [
        {
          "output_type": "stream",
          "text": [
            "/usr/local/lib/python3.6/dist-packages/ipykernel_launcher.py:2: SettingWithCopyWarning: \n",
            "A value is trying to be set on a copy of a slice from a DataFrame.\n",
            "Try using .loc[row_indexer,col_indexer] = value instead\n",
            "\n",
            "See the caveats in the documentation: https://pandas.pydata.org/pandas-docs/stable/user_guide/indexing.html#returning-a-view-versus-a-copy\n",
            "  \n",
            "/usr/local/lib/python3.6/dist-packages/ipykernel_launcher.py:4: SettingWithCopyWarning: \n",
            "A value is trying to be set on a copy of a slice from a DataFrame.\n",
            "Try using .loc[row_indexer,col_indexer] = value instead\n",
            "\n",
            "See the caveats in the documentation: https://pandas.pydata.org/pandas-docs/stable/user_guide/indexing.html#returning-a-view-versus-a-copy\n",
            "  after removing the cwd from sys.path.\n",
            "/usr/local/lib/python3.6/dist-packages/pandas/core/indexing.py:966: SettingWithCopyWarning: \n",
            "A value is trying to be set on a copy of a slice from a DataFrame.\n",
            "Try using .loc[row_indexer,col_indexer] = value instead\n",
            "\n",
            "See the caveats in the documentation: https://pandas.pydata.org/pandas-docs/stable/user_guide/indexing.html#returning-a-view-versus-a-copy\n",
            "  self.obj[item] = s\n"
          ],
          "name": "stderr"
        },
        {
          "output_type": "execute_result",
          "data": {
            "text/html": [
              "<div>\n",
              "<style scoped>\n",
              "    .dataframe tbody tr th:only-of-type {\n",
              "        vertical-align: middle;\n",
              "    }\n",
              "\n",
              "    .dataframe tbody tr th {\n",
              "        vertical-align: top;\n",
              "    }\n",
              "\n",
              "    .dataframe thead th {\n",
              "        text-align: right;\n",
              "    }\n",
              "</style>\n",
              "<table border=\"1\" class=\"dataframe\">\n",
              "  <thead>\n",
              "    <tr style=\"text-align: right;\">\n",
              "      <th></th>\n",
              "      <th>Month</th>\n",
              "      <th>Season</th>\n",
              "    </tr>\n",
              "  </thead>\n",
              "  <tbody>\n",
              "    <tr>\n",
              "      <th>0</th>\n",
              "      <td>2</td>\n",
              "      <td>Winter</td>\n",
              "    </tr>\n",
              "    <tr>\n",
              "      <th>1</th>\n",
              "      <td>2</td>\n",
              "      <td>Winter</td>\n",
              "    </tr>\n",
              "    <tr>\n",
              "      <th>2</th>\n",
              "      <td>3</td>\n",
              "      <td>Winter</td>\n",
              "    </tr>\n",
              "    <tr>\n",
              "      <th>3</th>\n",
              "      <td>4</td>\n",
              "      <td>Spring</td>\n",
              "    </tr>\n",
              "    <tr>\n",
              "      <th>4</th>\n",
              "      <td>4</td>\n",
              "      <td>Spring</td>\n",
              "    </tr>\n",
              "    <tr>\n",
              "      <th>...</th>\n",
              "      <td>...</td>\n",
              "      <td>...</td>\n",
              "    </tr>\n",
              "    <tr>\n",
              "      <th>679</th>\n",
              "      <td>11</td>\n",
              "      <td>Fall</td>\n",
              "    </tr>\n",
              "    <tr>\n",
              "      <th>680</th>\n",
              "      <td>11</td>\n",
              "      <td>Fall</td>\n",
              "    </tr>\n",
              "    <tr>\n",
              "      <th>681</th>\n",
              "      <td>11</td>\n",
              "      <td>Fall</td>\n",
              "    </tr>\n",
              "    <tr>\n",
              "      <th>682</th>\n",
              "      <td>11</td>\n",
              "      <td>Fall</td>\n",
              "    </tr>\n",
              "    <tr>\n",
              "      <th>683</th>\n",
              "      <td>12</td>\n",
              "      <td>Fall</td>\n",
              "    </tr>\n",
              "  </tbody>\n",
              "</table>\n",
              "<p>684 rows × 2 columns</p>\n",
              "</div>"
            ],
            "text/plain": [
              "     Month  Season\n",
              "0        2  Winter\n",
              "1        2  Winter\n",
              "2        3  Winter\n",
              "3        4  Spring\n",
              "4        4  Spring\n",
              "..     ...     ...\n",
              "679     11    Fall\n",
              "680     11    Fall\n",
              "681     11    Fall\n",
              "682     11    Fall\n",
              "683     12    Fall\n",
              "\n",
              "[684 rows x 2 columns]"
            ]
          },
          "metadata": {
            "tags": []
          },
          "execution_count": 162
        }
      ]
    },
    {
      "cell_type": "markdown",
      "metadata": {
        "colab_type": "text",
        "id": "L9gW0Vau-Ioe"
      },
      "source": [
        "Create a Categorical column for Weekday/Weekend using 'Date' column"
      ]
    },
    {
      "cell_type": "code",
      "metadata": {
        "colab_type": "code",
        "id": "eYvralcc-VOg",
        "colab": {
          "base_uri": "https://localhost:8080/",
          "height": 245
        },
        "outputId": "76d50e39-43f3-4187-e57a-03dd98110bef"
      },
      "source": [
        "df1['Day'] = df1.date.dt.dayofweek\n",
        "df1.loc[:, ['Day', 'date']]\n",
        "## Create dummy variable weekday/weekend\n",
        "df1['Weekday'] = np.where((df1['Day']==5)|(df1['Day']==6),0,1)"
      ],
      "execution_count": null,
      "outputs": [
        {
          "output_type": "stream",
          "text": [
            "/usr/local/lib/python3.6/dist-packages/ipykernel_launcher.py:1: SettingWithCopyWarning: \n",
            "A value is trying to be set on a copy of a slice from a DataFrame.\n",
            "Try using .loc[row_indexer,col_indexer] = value instead\n",
            "\n",
            "See the caveats in the documentation: https://pandas.pydata.org/pandas-docs/stable/user_guide/indexing.html#returning-a-view-versus-a-copy\n",
            "  \"\"\"Entry point for launching an IPython kernel.\n",
            "/usr/local/lib/python3.6/dist-packages/ipykernel_launcher.py:4: SettingWithCopyWarning: \n",
            "A value is trying to be set on a copy of a slice from a DataFrame.\n",
            "Try using .loc[row_indexer,col_indexer] = value instead\n",
            "\n",
            "See the caveats in the documentation: https://pandas.pydata.org/pandas-docs/stable/user_guide/indexing.html#returning-a-view-versus-a-copy\n",
            "  after removing the cwd from sys.path.\n"
          ],
          "name": "stderr"
        }
      ]
    },
    {
      "cell_type": "markdown",
      "metadata": {
        "colab_type": "text",
        "id": "wWATtOvcv7GN"
      },
      "source": [
        "Select top two categories for columns 'road_class', 'intersection', traffic_control, visibility, light, cyccond"
      ]
    },
    {
      "cell_type": "code",
      "metadata": {
        "colab_type": "code",
        "id": "wz9WaqJ3C9WU",
        "colab": {
          "base_uri": "https://localhost:8080/",
          "height": 227
        },
        "outputId": "58f14621-93db-42e9-a2b9-88e6f5fa4489"
      },
      "source": [
        "all_cols = df1.columns\n",
        "dummy_cols=['road_class', 'intersection', 'traffic_control', 'visibility','light','cyccond']\n",
        "## Take the top 2 categories of the variable\n",
        "top_2_lists =[]\n",
        "for cols in dummy_cols:\n",
        "  col_series = df[cols]\n",
        "  top_2 = [x for x in col_series.value_counts().sort_values(ascending=False).head(2).index]\n",
        "  top_2_lists.append(top_2)\n",
        "## loop to create dummy variable columns for all the columns in the list..only top2 categories are used \n",
        "# in creating these dummy variables\n",
        "i = 0\n",
        "for cols in dummy_cols:\n",
        "  new_l = top_2_lists[i]\n",
        "  for label in new_l:\n",
        "    df1[label+\"_\"+cols] = np.where(df1[cols]==label,1,0)\n",
        "  i+=1\n",
        "\n",
        "# Drop the original colums\n",
        "df1.drop(dummy_cols, axis=1, inplace=True)"
      ],
      "execution_count": null,
      "outputs": [
        {
          "output_type": "stream",
          "text": [
            "/usr/local/lib/python3.6/dist-packages/ipykernel_launcher.py:15: SettingWithCopyWarning: \n",
            "A value is trying to be set on a copy of a slice from a DataFrame.\n",
            "Try using .loc[row_indexer,col_indexer] = value instead\n",
            "\n",
            "See the caveats in the documentation: https://pandas.pydata.org/pandas-docs/stable/user_guide/indexing.html#returning-a-view-versus-a-copy\n",
            "  from ipykernel import kernelapp as app\n",
            "/usr/local/lib/python3.6/dist-packages/pandas/core/frame.py:3997: SettingWithCopyWarning: \n",
            "A value is trying to be set on a copy of a slice from a DataFrame\n",
            "\n",
            "See the caveats in the documentation: https://pandas.pydata.org/pandas-docs/stable/user_guide/indexing.html#returning-a-view-versus-a-copy\n",
            "  errors=errors,\n"
          ],
          "name": "stderr"
        }
      ]
    },
    {
      "cell_type": "code",
      "metadata": {
        "colab_type": "code",
        "id": "9n2NaOw6EPH_",
        "colab": {
          "base_uri": "https://localhost:8080/",
          "height": 135
        },
        "outputId": "64bfc531-2ecd-4ffd-c53f-822d4d46c7fd"
      },
      "source": [
        "df1.head(1)"
      ],
      "execution_count": null,
      "outputs": [
        {
          "output_type": "execute_result",
          "data": {
            "text/html": [
              "<div>\n",
              "<style scoped>\n",
              "    .dataframe tbody tr th:only-of-type {\n",
              "        vertical-align: middle;\n",
              "    }\n",
              "\n",
              "    .dataframe tbody tr th {\n",
              "        vertical-align: top;\n",
              "    }\n",
              "\n",
              "    .dataframe thead th {\n",
              "        text-align: right;\n",
              "    }\n",
              "</style>\n",
              "<table border=\"1\" class=\"dataframe\">\n",
              "  <thead>\n",
              "    <tr style=\"text-align: right;\">\n",
              "      <th></th>\n",
              "      <th>date</th>\n",
              "      <th>hour</th>\n",
              "      <th>district</th>\n",
              "      <th>New_Age</th>\n",
              "      <th>automobile</th>\n",
              "      <th>truck</th>\n",
              "      <th>injury</th>\n",
              "      <th>HourRange</th>\n",
              "      <th>Month</th>\n",
              "      <th>Season</th>\n",
              "      <th>Day</th>\n",
              "      <th>Weekday</th>\n",
              "      <th>Major Arterial_road_class</th>\n",
              "      <th>Minor Arterial_road_class</th>\n",
              "      <th>Intersection_intersection</th>\n",
              "      <th>Mid-Block_intersection</th>\n",
              "      <th>No Control_traffic_control</th>\n",
              "      <th>Traffic Signal_traffic_control</th>\n",
              "      <th>Clear_visibility</th>\n",
              "      <th>Rain_visibility</th>\n",
              "      <th>Daylight_light</th>\n",
              "      <th>Dark, artificial_light</th>\n",
              "      <th>Normal_cyccond</th>\n",
              "      <th>Inattentive_cyccond</th>\n",
              "    </tr>\n",
              "  </thead>\n",
              "  <tbody>\n",
              "    <tr>\n",
              "      <th>0</th>\n",
              "      <td>2006-02-11</td>\n",
              "      <td>18</td>\n",
              "      <td>North York</td>\n",
              "      <td>22.0</td>\n",
              "      <td>1</td>\n",
              "      <td>0</td>\n",
              "      <td>Major</td>\n",
              "      <td>Hour 16 to 19</td>\n",
              "      <td>2</td>\n",
              "      <td>Winter</td>\n",
              "      <td>5</td>\n",
              "      <td>0</td>\n",
              "      <td>0</td>\n",
              "      <td>0</td>\n",
              "      <td>1</td>\n",
              "      <td>0</td>\n",
              "      <td>1</td>\n",
              "      <td>0</td>\n",
              "      <td>1</td>\n",
              "      <td>0</td>\n",
              "      <td>0</td>\n",
              "      <td>0</td>\n",
              "      <td>0</td>\n",
              "      <td>0</td>\n",
              "    </tr>\n",
              "  </tbody>\n",
              "</table>\n",
              "</div>"
            ],
            "text/plain": [
              "        date  hour  ... Normal_cyccond  Inattentive_cyccond\n",
              "0 2006-02-11    18  ...              0                    0\n",
              "\n",
              "[1 rows x 24 columns]"
            ]
          },
          "metadata": {
            "tags": []
          },
          "execution_count": 165
        }
      ]
    },
    {
      "cell_type": "code",
      "metadata": {
        "colab_type": "code",
        "id": "tTw3eJj4wjqo",
        "colab": {}
      },
      "source": [
        "## CReate dummy variable all 'HourRange', \n",
        "df1=pd.get_dummies(df1, columns=['HourRange','district','Season'], drop_first=True, prefix_sep='_')"
      ],
      "execution_count": null,
      "outputs": []
    },
    {
      "cell_type": "code",
      "metadata": {
        "colab_type": "code",
        "id": "fsfuUWyvFURr",
        "colab": {
          "base_uri": "https://localhost:8080/",
          "height": 135
        },
        "outputId": "e4f71a32-347f-4185-aaae-36d5e057df95"
      },
      "source": [
        "df1.head(1)"
      ],
      "execution_count": null,
      "outputs": [
        {
          "output_type": "execute_result",
          "data": {
            "text/html": [
              "<div>\n",
              "<style scoped>\n",
              "    .dataframe tbody tr th:only-of-type {\n",
              "        vertical-align: middle;\n",
              "    }\n",
              "\n",
              "    .dataframe tbody tr th {\n",
              "        vertical-align: top;\n",
              "    }\n",
              "\n",
              "    .dataframe thead th {\n",
              "        text-align: right;\n",
              "    }\n",
              "</style>\n",
              "<table border=\"1\" class=\"dataframe\">\n",
              "  <thead>\n",
              "    <tr style=\"text-align: right;\">\n",
              "      <th></th>\n",
              "      <th>date</th>\n",
              "      <th>hour</th>\n",
              "      <th>New_Age</th>\n",
              "      <th>automobile</th>\n",
              "      <th>truck</th>\n",
              "      <th>injury</th>\n",
              "      <th>Month</th>\n",
              "      <th>Day</th>\n",
              "      <th>Weekday</th>\n",
              "      <th>Major Arterial_road_class</th>\n",
              "      <th>Minor Arterial_road_class</th>\n",
              "      <th>Intersection_intersection</th>\n",
              "      <th>Mid-Block_intersection</th>\n",
              "      <th>No Control_traffic_control</th>\n",
              "      <th>Traffic Signal_traffic_control</th>\n",
              "      <th>Clear_visibility</th>\n",
              "      <th>Rain_visibility</th>\n",
              "      <th>Daylight_light</th>\n",
              "      <th>Dark, artificial_light</th>\n",
              "      <th>Normal_cyccond</th>\n",
              "      <th>Inattentive_cyccond</th>\n",
              "      <th>HourRange_Hour 12 to 15</th>\n",
              "      <th>HourRange_Hour 16 to 19</th>\n",
              "      <th>HourRange_Hour 20 to 23</th>\n",
              "      <th>HourRange_Hour 4 to 7</th>\n",
              "      <th>HourRange_Hour 8 to 11</th>\n",
              "      <th>district_North York</th>\n",
              "      <th>district_Scarborough</th>\n",
              "      <th>district_Toronto and East York</th>\n",
              "      <th>district_unknown</th>\n",
              "      <th>Season_Spring</th>\n",
              "      <th>Season_Summer</th>\n",
              "      <th>Season_Winter</th>\n",
              "    </tr>\n",
              "  </thead>\n",
              "  <tbody>\n",
              "    <tr>\n",
              "      <th>0</th>\n",
              "      <td>2006-02-11</td>\n",
              "      <td>18</td>\n",
              "      <td>22.0</td>\n",
              "      <td>1</td>\n",
              "      <td>0</td>\n",
              "      <td>Major</td>\n",
              "      <td>2</td>\n",
              "      <td>5</td>\n",
              "      <td>0</td>\n",
              "      <td>0</td>\n",
              "      <td>0</td>\n",
              "      <td>1</td>\n",
              "      <td>0</td>\n",
              "      <td>1</td>\n",
              "      <td>0</td>\n",
              "      <td>1</td>\n",
              "      <td>0</td>\n",
              "      <td>0</td>\n",
              "      <td>0</td>\n",
              "      <td>0</td>\n",
              "      <td>0</td>\n",
              "      <td>0</td>\n",
              "      <td>1</td>\n",
              "      <td>0</td>\n",
              "      <td>0</td>\n",
              "      <td>0</td>\n",
              "      <td>1</td>\n",
              "      <td>0</td>\n",
              "      <td>0</td>\n",
              "      <td>0</td>\n",
              "      <td>0</td>\n",
              "      <td>0</td>\n",
              "      <td>1</td>\n",
              "    </tr>\n",
              "  </tbody>\n",
              "</table>\n",
              "</div>"
            ],
            "text/plain": [
              "        date  hour  New_Age  ...  Season_Spring  Season_Summer Season_Winter\n",
              "0 2006-02-11    18     22.0  ...              0              0             1\n",
              "\n",
              "[1 rows x 33 columns]"
            ]
          },
          "metadata": {
            "tags": []
          },
          "execution_count": 167
        }
      ]
    },
    {
      "cell_type": "code",
      "metadata": {
        "colab_type": "code",
        "id": "blTGHHQYwJYN",
        "colab": {
          "base_uri": "https://localhost:8080/",
          "height": 118
        },
        "outputId": "b5ccfa49-267c-4730-ee8f-934de4fc1765"
      },
      "source": [
        "## Drop the original columns\n",
        "drop_cols =['date','hour', 'Day', 'Month']\n",
        "df1.drop(drop_cols, axis=1,inplace=True)\n",
        "df1.head(1)"
      ],
      "execution_count": null,
      "outputs": [
        {
          "output_type": "execute_result",
          "data": {
            "text/html": [
              "<div>\n",
              "<style scoped>\n",
              "    .dataframe tbody tr th:only-of-type {\n",
              "        vertical-align: middle;\n",
              "    }\n",
              "\n",
              "    .dataframe tbody tr th {\n",
              "        vertical-align: top;\n",
              "    }\n",
              "\n",
              "    .dataframe thead th {\n",
              "        text-align: right;\n",
              "    }\n",
              "</style>\n",
              "<table border=\"1\" class=\"dataframe\">\n",
              "  <thead>\n",
              "    <tr style=\"text-align: right;\">\n",
              "      <th></th>\n",
              "      <th>New_Age</th>\n",
              "      <th>automobile</th>\n",
              "      <th>truck</th>\n",
              "      <th>injury</th>\n",
              "      <th>Weekday</th>\n",
              "      <th>Major Arterial_road_class</th>\n",
              "      <th>Minor Arterial_road_class</th>\n",
              "      <th>Intersection_intersection</th>\n",
              "      <th>Mid-Block_intersection</th>\n",
              "      <th>No Control_traffic_control</th>\n",
              "      <th>Traffic Signal_traffic_control</th>\n",
              "      <th>Clear_visibility</th>\n",
              "      <th>Rain_visibility</th>\n",
              "      <th>Daylight_light</th>\n",
              "      <th>Dark, artificial_light</th>\n",
              "      <th>Normal_cyccond</th>\n",
              "      <th>Inattentive_cyccond</th>\n",
              "      <th>HourRange_Hour 12 to 15</th>\n",
              "      <th>HourRange_Hour 16 to 19</th>\n",
              "      <th>HourRange_Hour 20 to 23</th>\n",
              "      <th>HourRange_Hour 4 to 7</th>\n",
              "      <th>HourRange_Hour 8 to 11</th>\n",
              "      <th>district_North York</th>\n",
              "      <th>district_Scarborough</th>\n",
              "      <th>district_Toronto and East York</th>\n",
              "      <th>district_unknown</th>\n",
              "      <th>Season_Spring</th>\n",
              "      <th>Season_Summer</th>\n",
              "      <th>Season_Winter</th>\n",
              "    </tr>\n",
              "  </thead>\n",
              "  <tbody>\n",
              "    <tr>\n",
              "      <th>0</th>\n",
              "      <td>22.0</td>\n",
              "      <td>1</td>\n",
              "      <td>0</td>\n",
              "      <td>Major</td>\n",
              "      <td>0</td>\n",
              "      <td>0</td>\n",
              "      <td>0</td>\n",
              "      <td>1</td>\n",
              "      <td>0</td>\n",
              "      <td>1</td>\n",
              "      <td>0</td>\n",
              "      <td>1</td>\n",
              "      <td>0</td>\n",
              "      <td>0</td>\n",
              "      <td>0</td>\n",
              "      <td>0</td>\n",
              "      <td>0</td>\n",
              "      <td>0</td>\n",
              "      <td>1</td>\n",
              "      <td>0</td>\n",
              "      <td>0</td>\n",
              "      <td>0</td>\n",
              "      <td>1</td>\n",
              "      <td>0</td>\n",
              "      <td>0</td>\n",
              "      <td>0</td>\n",
              "      <td>0</td>\n",
              "      <td>0</td>\n",
              "      <td>1</td>\n",
              "    </tr>\n",
              "  </tbody>\n",
              "</table>\n",
              "</div>"
            ],
            "text/plain": [
              "   New_Age  automobile  truck  ... Season_Spring  Season_Summer  Season_Winter\n",
              "0     22.0           1      0  ...             0              0              1\n",
              "\n",
              "[1 rows x 29 columns]"
            ]
          },
          "metadata": {
            "tags": []
          },
          "execution_count": 168
        }
      ]
    },
    {
      "cell_type": "markdown",
      "metadata": {
        "colab_type": "text",
        "id": "yWaSCvvpxyUo"
      },
      "source": [
        "Create Prediction column **Fatal_Prediction** using Injury\n",
        "For Injury = Fatal. Fatal is 1 otherwise 0"
      ]
    },
    {
      "cell_type": "code",
      "metadata": {
        "colab_type": "code",
        "id": "ALeeea3V0X4g",
        "colab": {
          "base_uri": "https://localhost:8080/",
          "height": 121
        },
        "outputId": "cb8c9603-f0ba-4198-a437-160826765c1f"
      },
      "source": [
        "df.injury.value_counts()"
      ],
      "execution_count": null,
      "outputs": [
        {
          "output_type": "execute_result",
          "data": {
            "text/plain": [
              "Major      618\n",
              "Fatal       37\n",
              "None        15\n",
              "Minimal      7\n",
              "Minor        7\n",
              "Name: injury, dtype: int64"
            ]
          },
          "metadata": {
            "tags": []
          },
          "execution_count": 169
        }
      ]
    },
    {
      "cell_type": "code",
      "metadata": {
        "colab_type": "code",
        "id": "VgFX_mUGwYhC",
        "colab": {
          "base_uri": "https://localhost:8080/",
          "height": 149
        },
        "outputId": "cc279c8d-74f4-4c05-dd91-7e865f6d9a3b"
      },
      "source": [
        "df1['Fatal_Prediction']= np.where(df1['injury']=='Fatal',1,0)\n",
        "#drop injury\n",
        "df1.drop(['injury'],axis=1,inplace=True)\n",
        "df1.head(2)"
      ],
      "execution_count": null,
      "outputs": [
        {
          "output_type": "execute_result",
          "data": {
            "text/html": [
              "<div>\n",
              "<style scoped>\n",
              "    .dataframe tbody tr th:only-of-type {\n",
              "        vertical-align: middle;\n",
              "    }\n",
              "\n",
              "    .dataframe tbody tr th {\n",
              "        vertical-align: top;\n",
              "    }\n",
              "\n",
              "    .dataframe thead th {\n",
              "        text-align: right;\n",
              "    }\n",
              "</style>\n",
              "<table border=\"1\" class=\"dataframe\">\n",
              "  <thead>\n",
              "    <tr style=\"text-align: right;\">\n",
              "      <th></th>\n",
              "      <th>New_Age</th>\n",
              "      <th>automobile</th>\n",
              "      <th>truck</th>\n",
              "      <th>Weekday</th>\n",
              "      <th>Major Arterial_road_class</th>\n",
              "      <th>Minor Arterial_road_class</th>\n",
              "      <th>Intersection_intersection</th>\n",
              "      <th>Mid-Block_intersection</th>\n",
              "      <th>No Control_traffic_control</th>\n",
              "      <th>Traffic Signal_traffic_control</th>\n",
              "      <th>Clear_visibility</th>\n",
              "      <th>Rain_visibility</th>\n",
              "      <th>Daylight_light</th>\n",
              "      <th>Dark, artificial_light</th>\n",
              "      <th>Normal_cyccond</th>\n",
              "      <th>Inattentive_cyccond</th>\n",
              "      <th>HourRange_Hour 12 to 15</th>\n",
              "      <th>HourRange_Hour 16 to 19</th>\n",
              "      <th>HourRange_Hour 20 to 23</th>\n",
              "      <th>HourRange_Hour 4 to 7</th>\n",
              "      <th>HourRange_Hour 8 to 11</th>\n",
              "      <th>district_North York</th>\n",
              "      <th>district_Scarborough</th>\n",
              "      <th>district_Toronto and East York</th>\n",
              "      <th>district_unknown</th>\n",
              "      <th>Season_Spring</th>\n",
              "      <th>Season_Summer</th>\n",
              "      <th>Season_Winter</th>\n",
              "      <th>Fatal_Prediction</th>\n",
              "    </tr>\n",
              "  </thead>\n",
              "  <tbody>\n",
              "    <tr>\n",
              "      <th>0</th>\n",
              "      <td>22.0</td>\n",
              "      <td>1</td>\n",
              "      <td>0</td>\n",
              "      <td>0</td>\n",
              "      <td>0</td>\n",
              "      <td>0</td>\n",
              "      <td>1</td>\n",
              "      <td>0</td>\n",
              "      <td>1</td>\n",
              "      <td>0</td>\n",
              "      <td>1</td>\n",
              "      <td>0</td>\n",
              "      <td>0</td>\n",
              "      <td>0</td>\n",
              "      <td>0</td>\n",
              "      <td>0</td>\n",
              "      <td>0</td>\n",
              "      <td>1</td>\n",
              "      <td>0</td>\n",
              "      <td>0</td>\n",
              "      <td>0</td>\n",
              "      <td>1</td>\n",
              "      <td>0</td>\n",
              "      <td>0</td>\n",
              "      <td>0</td>\n",
              "      <td>0</td>\n",
              "      <td>0</td>\n",
              "      <td>1</td>\n",
              "      <td>0</td>\n",
              "    </tr>\n",
              "    <tr>\n",
              "      <th>1</th>\n",
              "      <td>27.0</td>\n",
              "      <td>0</td>\n",
              "      <td>0</td>\n",
              "      <td>1</td>\n",
              "      <td>1</td>\n",
              "      <td>0</td>\n",
              "      <td>1</td>\n",
              "      <td>0</td>\n",
              "      <td>0</td>\n",
              "      <td>1</td>\n",
              "      <td>1</td>\n",
              "      <td>0</td>\n",
              "      <td>0</td>\n",
              "      <td>0</td>\n",
              "      <td>1</td>\n",
              "      <td>0</td>\n",
              "      <td>0</td>\n",
              "      <td>1</td>\n",
              "      <td>0</td>\n",
              "      <td>0</td>\n",
              "      <td>0</td>\n",
              "      <td>0</td>\n",
              "      <td>1</td>\n",
              "      <td>0</td>\n",
              "      <td>0</td>\n",
              "      <td>0</td>\n",
              "      <td>0</td>\n",
              "      <td>1</td>\n",
              "      <td>0</td>\n",
              "    </tr>\n",
              "  </tbody>\n",
              "</table>\n",
              "</div>"
            ],
            "text/plain": [
              "   New_Age  automobile  truck  ...  Season_Summer  Season_Winter  Fatal_Prediction\n",
              "0     22.0           1      0  ...              0              1                 0\n",
              "1     27.0           0      0  ...              0              1                 0\n",
              "\n",
              "[2 rows x 29 columns]"
            ]
          },
          "metadata": {
            "tags": []
          },
          "execution_count": 170
        }
      ]
    },
    {
      "cell_type": "code",
      "metadata": {
        "colab_type": "code",
        "id": "4pVFgR0pzvYO",
        "colab": {
          "base_uri": "https://localhost:8080/",
          "height": 149
        },
        "outputId": "bcb24e57-9861-4c39-a46a-939bd1d083b3"
      },
      "source": [
        "df1.reset_index(drop=True).head(2)"
      ],
      "execution_count": null,
      "outputs": [
        {
          "output_type": "execute_result",
          "data": {
            "text/html": [
              "<div>\n",
              "<style scoped>\n",
              "    .dataframe tbody tr th:only-of-type {\n",
              "        vertical-align: middle;\n",
              "    }\n",
              "\n",
              "    .dataframe tbody tr th {\n",
              "        vertical-align: top;\n",
              "    }\n",
              "\n",
              "    .dataframe thead th {\n",
              "        text-align: right;\n",
              "    }\n",
              "</style>\n",
              "<table border=\"1\" class=\"dataframe\">\n",
              "  <thead>\n",
              "    <tr style=\"text-align: right;\">\n",
              "      <th></th>\n",
              "      <th>New_Age</th>\n",
              "      <th>automobile</th>\n",
              "      <th>truck</th>\n",
              "      <th>Weekday</th>\n",
              "      <th>Major Arterial_road_class</th>\n",
              "      <th>Minor Arterial_road_class</th>\n",
              "      <th>Intersection_intersection</th>\n",
              "      <th>Mid-Block_intersection</th>\n",
              "      <th>No Control_traffic_control</th>\n",
              "      <th>Traffic Signal_traffic_control</th>\n",
              "      <th>Clear_visibility</th>\n",
              "      <th>Rain_visibility</th>\n",
              "      <th>Daylight_light</th>\n",
              "      <th>Dark, artificial_light</th>\n",
              "      <th>Normal_cyccond</th>\n",
              "      <th>Inattentive_cyccond</th>\n",
              "      <th>HourRange_Hour 12 to 15</th>\n",
              "      <th>HourRange_Hour 16 to 19</th>\n",
              "      <th>HourRange_Hour 20 to 23</th>\n",
              "      <th>HourRange_Hour 4 to 7</th>\n",
              "      <th>HourRange_Hour 8 to 11</th>\n",
              "      <th>district_North York</th>\n",
              "      <th>district_Scarborough</th>\n",
              "      <th>district_Toronto and East York</th>\n",
              "      <th>district_unknown</th>\n",
              "      <th>Season_Spring</th>\n",
              "      <th>Season_Summer</th>\n",
              "      <th>Season_Winter</th>\n",
              "      <th>Fatal_Prediction</th>\n",
              "    </tr>\n",
              "  </thead>\n",
              "  <tbody>\n",
              "    <tr>\n",
              "      <th>0</th>\n",
              "      <td>22.0</td>\n",
              "      <td>1</td>\n",
              "      <td>0</td>\n",
              "      <td>0</td>\n",
              "      <td>0</td>\n",
              "      <td>0</td>\n",
              "      <td>1</td>\n",
              "      <td>0</td>\n",
              "      <td>1</td>\n",
              "      <td>0</td>\n",
              "      <td>1</td>\n",
              "      <td>0</td>\n",
              "      <td>0</td>\n",
              "      <td>0</td>\n",
              "      <td>0</td>\n",
              "      <td>0</td>\n",
              "      <td>0</td>\n",
              "      <td>1</td>\n",
              "      <td>0</td>\n",
              "      <td>0</td>\n",
              "      <td>0</td>\n",
              "      <td>1</td>\n",
              "      <td>0</td>\n",
              "      <td>0</td>\n",
              "      <td>0</td>\n",
              "      <td>0</td>\n",
              "      <td>0</td>\n",
              "      <td>1</td>\n",
              "      <td>0</td>\n",
              "    </tr>\n",
              "    <tr>\n",
              "      <th>1</th>\n",
              "      <td>27.0</td>\n",
              "      <td>0</td>\n",
              "      <td>0</td>\n",
              "      <td>1</td>\n",
              "      <td>1</td>\n",
              "      <td>0</td>\n",
              "      <td>1</td>\n",
              "      <td>0</td>\n",
              "      <td>0</td>\n",
              "      <td>1</td>\n",
              "      <td>1</td>\n",
              "      <td>0</td>\n",
              "      <td>0</td>\n",
              "      <td>0</td>\n",
              "      <td>1</td>\n",
              "      <td>0</td>\n",
              "      <td>0</td>\n",
              "      <td>1</td>\n",
              "      <td>0</td>\n",
              "      <td>0</td>\n",
              "      <td>0</td>\n",
              "      <td>0</td>\n",
              "      <td>1</td>\n",
              "      <td>0</td>\n",
              "      <td>0</td>\n",
              "      <td>0</td>\n",
              "      <td>0</td>\n",
              "      <td>1</td>\n",
              "      <td>0</td>\n",
              "    </tr>\n",
              "  </tbody>\n",
              "</table>\n",
              "</div>"
            ],
            "text/plain": [
              "   New_Age  automobile  truck  ...  Season_Summer  Season_Winter  Fatal_Prediction\n",
              "0     22.0           1      0  ...              0              1                 0\n",
              "1     27.0           0      0  ...              0              1                 0\n",
              "\n",
              "[2 rows x 29 columns]"
            ]
          },
          "metadata": {
            "tags": []
          },
          "execution_count": 171
        }
      ]
    },
    {
      "cell_type": "markdown",
      "metadata": {
        "colab_type": "text",
        "id": "1_fuJnXb0t6f"
      },
      "source": [
        "# Dealing with Class imbalance (Part of Data Cleanup)"
      ]
    },
    {
      "cell_type": "code",
      "metadata": {
        "colab_type": "code",
        "id": "GhXRRu7n0jqD",
        "colab": {
          "base_uri": "https://localhost:8080/",
          "height": 276
        },
        "outputId": "28feebc2-7a85-47d8-9875-31dc812c9842"
      },
      "source": [
        "## The targte variable has huge class imbalance. And we can fix this issue using Oversampling technquire\n",
        "df1['Fatal_Prediction'].value_counts().plot(kind='bar')\n",
        "plt.xlabel(\"Fatal or Not\")\n",
        "plt.ylabel(\"Total Injuries\")\n",
        "plt.xticks()\n",
        "plt.show()"
      ],
      "execution_count": null,
      "outputs": [
        {
          "output_type": "display_data",
          "data": {
            "image/png": "[encoded data removed]",
            "text/plain": [
              "<Figure size 432x288 with 1 Axes>"
            ]
          },
          "metadata": {
            "tags": [],
            "needs_background": "light"
          }
        }
      ]
    },
    {
      "cell_type": "code",
      "metadata": {
        "colab_type": "code",
        "id": "I8ZkpW_W074A",
        "colab": {
          "base_uri": "https://localhost:8080/",
          "height": 71
        },
        "outputId": "d938d631-3b53-4786-84f1-b5c8f9e30fb0"
      },
      "source": [
        "# SPlit the dataframe into X and Y ..X is the depednet and Y is independent variable\n",
        "X = df1.iloc[:, :-1]\n",
        "Y = df1.iloc[:, -1]\n",
        "# Save the columns name in X_columns variable\n",
        "X_Columns = list(X.columns)\n",
        "print(X_Columns)\n",
        "len(X_Columns)"
      ],
      "execution_count": null,
      "outputs": [
        {
          "output_type": "stream",
          "text": [
            "['New_Age', 'automobile', 'truck', 'Weekday', 'Major Arterial_road_class', 'Minor Arterial_road_class', 'Intersection_intersection', 'Mid-Block_intersection', 'No Control_traffic_control', 'Traffic Signal_traffic_control', 'Clear_visibility', 'Rain_visibility', 'Daylight_light', 'Dark, artificial_light', 'Normal_cyccond', 'Inattentive_cyccond', 'HourRange_Hour 12 to 15', 'HourRange_Hour 16 to 19', 'HourRange_Hour 20 to 23', 'HourRange_Hour 4 to 7', 'HourRange_Hour 8 to 11', 'district_North York', 'district_Scarborough', 'district_Toronto and East York', 'district_unknown', 'Season_Spring', 'Season_Summer', 'Season_Winter']\n"
          ],
          "name": "stdout"
        },
        {
          "output_type": "execute_result",
          "data": {
            "text/plain": [
              "28"
            ]
          },
          "metadata": {
            "tags": []
          },
          "execution_count": 173
        }
      ]
    },
    {
      "cell_type": "markdown",
      "metadata": {
        "colab_type": "text",
        "id": "iZ5A6-mT8BbE"
      },
      "source": [
        "**Split the data into Train and Test sets**"
      ]
    },
    {
      "cell_type": "code",
      "metadata": {
        "colab_type": "code",
        "id": "k-EGxJTG8AnO",
        "colab": {
          "base_uri": "https://localhost:8080/",
          "height": 218
        },
        "outputId": "550d2862-7dbc-43b4-b061-87697090bfcb"
      },
      "source": [
        "from sklearn.model_selection import train_test_split\n",
        "X_train, X_test, y_train, y_test = train_test_split(X,Y, test_size=0.25, random_state=101)\n",
        "print(f\"X Train shape {X_train.shape}\")\n",
        "print(f\"X Test shape {X_test.shape}\")\n",
        "print(f\"y Train shape {y_train.shape}\")\n",
        "print(f\"y Test shape {y_test.shape}\")\n",
        "\n",
        "X_train.head(2)"
      ],
      "execution_count": null,
      "outputs": [
        {
          "output_type": "stream",
          "text": [
            "X Train shape (513, 28)\n",
            "X Test shape (171, 28)\n",
            "y Train shape (513,)\n",
            "y Test shape (171,)\n"
          ],
          "name": "stdout"
        },
        {
          "output_type": "execute_result",
          "data": {
            "text/html": [
              "<div>\n",
              "<style scoped>\n",
              "    .dataframe tbody tr th:only-of-type {\n",
              "        vertical-align: middle;\n",
              "    }\n",
              "\n",
              "    .dataframe tbody tr th {\n",
              "        vertical-align: top;\n",
              "    }\n",
              "\n",
              "    .dataframe thead th {\n",
              "        text-align: right;\n",
              "    }\n",
              "</style>\n",
              "<table border=\"1\" class=\"dataframe\">\n",
              "  <thead>\n",
              "    <tr style=\"text-align: right;\">\n",
              "      <th></th>\n",
              "      <th>New_Age</th>\n",
              "      <th>automobile</th>\n",
              "      <th>truck</th>\n",
              "      <th>Weekday</th>\n",
              "      <th>Major Arterial_road_class</th>\n",
              "      <th>Minor Arterial_road_class</th>\n",
              "      <th>Intersection_intersection</th>\n",
              "      <th>Mid-Block_intersection</th>\n",
              "      <th>No Control_traffic_control</th>\n",
              "      <th>Traffic Signal_traffic_control</th>\n",
              "      <th>Clear_visibility</th>\n",
              "      <th>Rain_visibility</th>\n",
              "      <th>Daylight_light</th>\n",
              "      <th>Dark, artificial_light</th>\n",
              "      <th>Normal_cyccond</th>\n",
              "      <th>Inattentive_cyccond</th>\n",
              "      <th>HourRange_Hour 12 to 15</th>\n",
              "      <th>HourRange_Hour 16 to 19</th>\n",
              "      <th>HourRange_Hour 20 to 23</th>\n",
              "      <th>HourRange_Hour 4 to 7</th>\n",
              "      <th>HourRange_Hour 8 to 11</th>\n",
              "      <th>district_North York</th>\n",
              "      <th>district_Scarborough</th>\n",
              "      <th>district_Toronto and East York</th>\n",
              "      <th>district_unknown</th>\n",
              "      <th>Season_Spring</th>\n",
              "      <th>Season_Summer</th>\n",
              "      <th>Season_Winter</th>\n",
              "    </tr>\n",
              "  </thead>\n",
              "  <tbody>\n",
              "    <tr>\n",
              "      <th>617</th>\n",
              "      <td>37.0</td>\n",
              "      <td>1</td>\n",
              "      <td>0</td>\n",
              "      <td>0</td>\n",
              "      <td>0</td>\n",
              "      <td>1</td>\n",
              "      <td>0</td>\n",
              "      <td>1</td>\n",
              "      <td>1</td>\n",
              "      <td>0</td>\n",
              "      <td>1</td>\n",
              "      <td>0</td>\n",
              "      <td>0</td>\n",
              "      <td>1</td>\n",
              "      <td>1</td>\n",
              "      <td>0</td>\n",
              "      <td>0</td>\n",
              "      <td>0</td>\n",
              "      <td>1</td>\n",
              "      <td>0</td>\n",
              "      <td>0</td>\n",
              "      <td>0</td>\n",
              "      <td>1</td>\n",
              "      <td>0</td>\n",
              "      <td>0</td>\n",
              "      <td>0</td>\n",
              "      <td>1</td>\n",
              "      <td>0</td>\n",
              "    </tr>\n",
              "    <tr>\n",
              "      <th>336</th>\n",
              "      <td>22.0</td>\n",
              "      <td>1</td>\n",
              "      <td>0</td>\n",
              "      <td>1</td>\n",
              "      <td>1</td>\n",
              "      <td>0</td>\n",
              "      <td>1</td>\n",
              "      <td>0</td>\n",
              "      <td>1</td>\n",
              "      <td>0</td>\n",
              "      <td>0</td>\n",
              "      <td>1</td>\n",
              "      <td>1</td>\n",
              "      <td>0</td>\n",
              "      <td>0</td>\n",
              "      <td>0</td>\n",
              "      <td>0</td>\n",
              "      <td>1</td>\n",
              "      <td>0</td>\n",
              "      <td>0</td>\n",
              "      <td>0</td>\n",
              "      <td>0</td>\n",
              "      <td>0</td>\n",
              "      <td>1</td>\n",
              "      <td>0</td>\n",
              "      <td>1</td>\n",
              "      <td>0</td>\n",
              "      <td>0</td>\n",
              "    </tr>\n",
              "  </tbody>\n",
              "</table>\n",
              "</div>"
            ],
            "text/plain": [
              "     New_Age  automobile  truck  ...  Season_Spring  Season_Summer  Season_Winter\n",
              "617     37.0           1      0  ...              0              1              0\n",
              "336     22.0           1      0  ...              1              0              0\n",
              "\n",
              "[2 rows x 28 columns]"
            ]
          },
          "metadata": {
            "tags": []
          },
          "execution_count": 174
        }
      ]
    },
    {
      "cell_type": "code",
      "metadata": {
        "colab_type": "code",
        "id": "PEjB0P5S1Npy",
        "colab": {
          "base_uri": "https://localhost:8080/",
          "height": 141
        },
        "outputId": "1eefb688-dd09-4c99-8a2d-308f627ec06c"
      },
      "source": [
        "## \n",
        "from imblearn.over_sampling import SMOTENC\n",
        "#sm = SMOTE(random_state = 12, ratio=0.25)\n",
        "os = SMOTENC(sampling_strategy=0.25, categorical_features=range(1,X_train.shape[1]), random_state = 12)\n",
        "X_train_res, y_train_res = os.fit_sample(X_train,y_train)\n",
        "print(f\"X Train shape after sampling {X_train_res.shape}\")\n",
        "print(f\"y train shape after sampling  {y_train_res.shape}\")\n"
      ],
      "execution_count": null,
      "outputs": [
        {
          "output_type": "stream",
          "text": [
            "/usr/local/lib/python3.6/dist-packages/sklearn/utils/deprecation.py:87: FutureWarning: Function safe_indexing is deprecated; safe_indexing is deprecated in version 0.22 and will be removed in version 0.24.\n",
            "  warnings.warn(msg, category=FutureWarning)\n",
            "/usr/local/lib/python3.6/dist-packages/sklearn/utils/deprecation.py:87: FutureWarning: Function safe_indexing is deprecated; safe_indexing is deprecated in version 0.22 and will be removed in version 0.24.\n",
            "  warnings.warn(msg, category=FutureWarning)\n"
          ],
          "name": "stderr"
        },
        {
          "output_type": "stream",
          "text": [
            "X Train shape after sampling (603, 28)\n",
            "y train shape after sampling  (603,)\n"
          ],
          "name": "stdout"
        }
      ]
    },
    {
      "cell_type": "code",
      "metadata": {
        "colab_type": "code",
        "id": "nJJxfB-a1UtJ",
        "colab": {
          "base_uri": "https://localhost:8080/",
          "height": 34
        },
        "outputId": "705193fc-e6af-46c2-c360-9c842052bcba"
      },
      "source": [
        "## Check the Y column (which is Fatal_prediction).. Y column should have balanced 1's and 0's (1 is to 4 ratio)\n",
        "X_train_res.shape, y_train_res.shape\n",
        "import collections as cl\n",
        "cl.Counter(y_train_res)"
      ],
      "execution_count": null,
      "outputs": [
        {
          "output_type": "execute_result",
          "data": {
            "text/plain": [
              "Counter({0: 483, 1: 120})"
            ]
          },
          "metadata": {
            "tags": []
          },
          "execution_count": 176
        }
      ]
    },
    {
      "cell_type": "markdown",
      "metadata": {
        "colab_type": "text",
        "id": "Ml6I9qqh7xYX"
      },
      "source": [
        "# Model Building "
      ]
    },
    {
      "cell_type": "markdown",
      "metadata": {
        "colab_type": "text",
        "id": "VkF_LYUozJnV"
      },
      "source": [
        "**Import Logistic model function and train the data on training set in the model**\n"
      ]
    },
    {
      "cell_type": "code",
      "metadata": {
        "colab_type": "code",
        "id": "Gpdz9dKuG7O1",
        "colab": {
          "base_uri": "https://localhost:8080/",
          "height": 34
        },
        "outputId": "99239c5f-8587-43a2-f75c-4e46f5180d8d"
      },
      "source": [
        "### Putting the X_train_res1 array into a dataframe..in order to have a clear column label\n",
        "X_train_res_df=pd.DataFrame(data=X_train_res, index=range(0,X_train_res.shape[0]), columns=X_Columns)\n",
        "X_train_res_df.head(2)\n",
        "print(X_train_res_df.shape)"
      ],
      "execution_count": null,
      "outputs": [
        {
          "output_type": "stream",
          "text": [
            "(603, 28)\n"
          ],
          "name": "stdout"
        }
      ]
    },
    {
      "cell_type": "code",
      "metadata": {
        "colab_type": "code",
        "id": "e-Q9CySSG1lk",
        "colab": {}
      },
      "source": [
        "### Add constatnt in X for the intercept\n",
        "import statsmodels.tools as c\n",
        "X_train_res_df = c.add_constant(X_train_res_df)\n",
        "X_test = c.add_constant(X_test)"
      ],
      "execution_count": null,
      "outputs": []
    },
    {
      "cell_type": "code",
      "metadata": {
        "colab_type": "code",
        "id": "rqzBlRIw5QgX",
        "colab": {
          "base_uri": "https://localhost:8080/",
          "height": 851
        },
        "outputId": "d43486b2-e9d1-47af-dd30-ed50f67dcf9b"
      },
      "source": [
        "from statsmodels.discrete import discrete_model as sm\n",
        "model = sm.Logit(y_train_res,X_train_res_df)\n",
        "result = model.fit()\n",
        "print(result.summary())\n",
        "##** The model is giving error \"Perfect separation detected, results not available\".\n",
        "## we may have some variables which are highly imbalanced..Drop highly imbalanced variables"
      ],
      "execution_count": null,
      "outputs": [
        {
          "output_type": "stream",
          "text": [
            "Warning: Maximum number of iterations has been exceeded.\n",
            "         Current function value: 0.227232\n",
            "         Iterations: 35\n",
            "                           Logit Regression Results                           \n",
            "==============================================================================\n",
            "Dep. Variable:                      y   No. Observations:                  603\n",
            "Model:                          Logit   Df Residuals:                      574\n",
            "Method:                           MLE   Df Model:                           28\n",
            "Date:                Sun, 09 Aug 2020   Pseudo R-squ.:                  0.5446\n",
            "Time:                        18:41:36   Log-Likelihood:                -137.02\n",
            "converged:                      False   LL-Null:                       -300.91\n",
            "Covariance Type:            nonrobust   LLR p-value:                 7.156e-53\n",
            "==================================================================================================\n",
            "                                     coef    std err          z      P>|z|      [0.025      0.975]\n",
            "--------------------------------------------------------------------------------------------------\n",
            "const                            -20.8478   5.04e+05  -4.14e-05      1.000   -9.87e+05    9.87e+05\n",
            "New_Age                            0.0369      0.011      3.223      0.001       0.014       0.059\n",
            "automobile                        -1.6993      0.439     -3.867      0.000      -2.561      -0.838\n",
            "truck                              0.2006      0.600      0.334      0.738      -0.975       1.376\n",
            "Weekday                            0.7450      0.529      1.408      0.159      -0.292       1.782\n",
            "Major Arterial_road_class          1.7363      0.783      2.217      0.027       0.201       3.271\n",
            "Minor Arterial_road_class          0.4948      0.898      0.551      0.582      -1.265       2.255\n",
            "Intersection_intersection         24.5117   5.04e+05   4.87e-05      1.000   -9.87e+05    9.87e+05\n",
            "Mid-Block_intersection            23.5832   5.04e+05   4.68e-05      1.000   -9.87e+05    9.87e+05\n",
            "No Control_traffic_control        -0.6206      0.571     -1.088      0.277      -1.739       0.498\n",
            "Traffic Signal_traffic_control    -0.6151      0.513     -1.199      0.231      -1.621       0.390\n",
            "Clear_visibility                  -1.1502      2.343     -0.491      0.624      -5.743       3.442\n",
            "Rain_visibility                   -2.9135      2.605     -1.118      0.263      -8.019       2.193\n",
            "Daylight_light                     0.1105      0.633      0.175      0.861      -1.129       1.350\n",
            "Dark, artificial_light            -2.3308      0.792     -2.943      0.003      -3.883      -0.779\n",
            "Normal_cyccond                    -1.7436      0.397     -4.392      0.000      -2.522      -0.965\n",
            "Inattentive_cyccond               -3.6524      1.138     -3.210      0.001      -5.883      -1.422\n",
            "HourRange_Hour 12 to 15           -2.2944      0.705     -3.254      0.001      -3.677      -0.912\n",
            "HourRange_Hour 16 to 19           -3.8885      0.716     -5.434      0.000      -5.291      -2.486\n",
            "HourRange_Hour 20 to 23           -2.3631      0.661     -3.575      0.000      -3.659      -1.068\n",
            "HourRange_Hour 4 to 7             -2.6040      0.910     -2.861      0.004      -4.388      -0.820\n",
            "HourRange_Hour 8 to 11            -2.5631      0.727     -3.525      0.000      -3.988      -1.138\n",
            "district_North York               -2.1470      0.745     -2.881      0.004      -3.608      -0.686\n",
            "district_Scarborough              -1.8376      0.704     -2.611      0.009      -3.217      -0.458\n",
            "district_Toronto and East York    -1.2676      0.454     -2.793      0.005      -2.157      -0.378\n",
            "district_unknown                 -11.7043   2504.803     -0.005      0.996   -4921.027    4897.619\n",
            "Season_Spring                     -0.9884      0.397     -2.489      0.013      -1.767      -0.210\n",
            "Season_Summer                     -1.8047      0.428     -4.219      0.000      -2.643      -0.966\n",
            "Season_Winter                    -22.3515   2.07e+04     -0.001      0.999   -4.07e+04    4.06e+04\n",
            "==================================================================================================\n"
          ],
          "name": "stdout"
        },
        {
          "output_type": "stream",
          "text": [
            "/usr/local/lib/python3.6/dist-packages/statsmodels/base/model.py:512: ConvergenceWarning: Maximum Likelihood optimization failed to converge. Check mle_retvals\n",
            "  \"Check mle_retvals\", ConvergenceWarning)\n"
          ],
          "name": "stderr"
        }
      ]
    },
    {
      "cell_type": "markdown",
      "metadata": {
        "colab_type": "text",
        "id": "aN8iZdN4Jum4"
      },
      "source": [
        "Calculating the Accuracy of the Model by testing on the test data set "
      ]
    },
    {
      "cell_type": "code",
      "metadata": {
        "colab_type": "code",
        "id": "K2b0AVb1NsvX",
        "colab": {}
      },
      "source": [
        "## Y prediction based on the test set\n",
        "y_test_pred = result.predict(X_test)\n",
        "# Covert prediction probality to 0 or 1\n",
        "y_prediction = np.where(y_test_pred> 0.5, 1, 0)"
      ],
      "execution_count": null,
      "outputs": []
    },
    {
      "cell_type": "code",
      "metadata": {
        "colab_type": "code",
        "id": "cyATI5coEddO",
        "colab": {
          "base_uri": "https://localhost:8080/",
          "height": 173
        },
        "outputId": "7070423b-8d14-4eff-e455-ef54886915a0"
      },
      "source": [
        "## Model accuracy evaluation  #####\n",
        "from sklearn import metrics\n",
        "print(f\"Accuracy Score   :  {metrics.accuracy_score(y_test,y_prediction)}\")\n",
        "## Confusion matrix\n",
        "print(f\"\\nConfusion matrix : \\n {metrics.confusion_matrix(y_test,y_prediction)}\")\n",
        "## Prescision score\n",
        "print(f\"\\nPrecision Score  :  {metrics.precision_score(y_test,y_prediction)}\")\n",
        "## Recall Score\n",
        "print(f\"\\nRecall Score     :  {metrics.recall_score(y_test,y_prediction)}\")"
      ],
      "execution_count": null,
      "outputs": [
        {
          "output_type": "stream",
          "text": [
            "Accuracy Score   :  0.9298245614035088\n",
            "\n",
            "Confusion matrix : \n",
            " [[156   8]\n",
            " [  4   3]]\n",
            "\n",
            "Precision Score  :  0.2727272727272727\n",
            "\n",
            "Recall Score     :  0.42857142857142855\n"
          ],
          "name": "stdout"
        }
      ]
    },
    {
      "cell_type": "markdown",
      "metadata": {
        "colab_type": "text",
        "id": "Atl0GTaWD29S"
      },
      "source": [
        "**Drop the insignificant variables as per the result**"
      ]
    },
    {
      "cell_type": "code",
      "metadata": {
        "colab_type": "code",
        "id": "HK-twNBlENBj",
        "colab": {}
      },
      "source": [
        "### List of vaiables to be dropped with p-value > 0.5\n",
        "Significant_variable =['const','New_Age','automobile','Major Arterial_road_class','Dark','artificial_light','Normal_cyccond','Inattentive_cyccond', \\\n",
        "'HourRange_Hour 12 to 15','HourRange_Hour 16 to 19','HourRange_Hour 20 to 23','HourRange_Hour 4 to 7','HourRange_Hour 8 to 11',\\\n",
        "'district_North York','district_Scarborough','district_Toronto and East York','Season_Spring','Season_Summer']\n",
        "drop=set(X_train_res_df.columns) - set(Significant_variable)\n",
        "X_train_res_df1 = X_train_res_df.drop(drop, axis=1)\n",
        "## update the X_test1 \n",
        "X_test1 = X_test.drop(drop, axis=1)"
      ],
      "execution_count": null,
      "outputs": []
    },
    {
      "cell_type": "code",
      "metadata": {
        "colab_type": "code",
        "id": "-J64UDJN6LDW",
        "colab": {
          "base_uri": "https://localhost:8080/",
          "height": 138
        },
        "outputId": "b0e8955f-3b88-418d-e51b-a8509a8faccb"
      },
      "source": [
        "X_train_res_df1.columns"
      ],
      "execution_count": null,
      "outputs": [
        {
          "output_type": "execute_result",
          "data": {
            "text/plain": [
              "Index(['const', 'New_Age', 'automobile', 'Major Arterial_road_class',\n",
              "       'Normal_cyccond', 'Inattentive_cyccond', 'HourRange_Hour 12 to 15',\n",
              "       'HourRange_Hour 16 to 19', 'HourRange_Hour 20 to 23',\n",
              "       'HourRange_Hour 4 to 7', 'HourRange_Hour 8 to 11',\n",
              "       'district_North York', 'district_Scarborough',\n",
              "       'district_Toronto and East York', 'Season_Spring', 'Season_Summer'],\n",
              "      dtype='object')"
            ]
          },
          "metadata": {
            "tags": []
          },
          "execution_count": 184
        }
      ]
    },
    {
      "cell_type": "code",
      "metadata": {
        "colab_type": "code",
        "id": "5tlxsjAJ50cr",
        "colab": {
          "base_uri": "https://localhost:8080/",
          "height": 571
        },
        "outputId": "e670f985-0ede-497a-c250-62cdd12bbde5"
      },
      "source": [
        "## train the logistic reg model on new set of X variables\n",
        "from statsmodels.discrete import discrete_model as sm\n",
        "model2 = sm.Logit(y_train_res,X_train_res_df1)\n",
        "result2 = model2.fit()\n",
        "print(result2.summary())"
      ],
      "execution_count": null,
      "outputs": [
        {
          "output_type": "stream",
          "text": [
            "Optimization terminated successfully.\n",
            "         Current function value: 0.265460\n",
            "         Iterations 9\n",
            "                           Logit Regression Results                           \n",
            "==============================================================================\n",
            "Dep. Variable:                      y   No. Observations:                  603\n",
            "Model:                          Logit   Df Residuals:                      587\n",
            "Method:                           MLE   Df Model:                           15\n",
            "Date:                Sun, 09 Aug 2020   Pseudo R-squ.:                  0.4680\n",
            "Time:                        18:41:36   Log-Likelihood:                -160.07\n",
            "converged:                       True   LL-Null:                       -300.91\n",
            "Covariance Type:            nonrobust   LLR p-value:                 3.551e-51\n",
            "==================================================================================================\n",
            "                                     coef    std err          z      P>|z|      [0.025      0.975]\n",
            "--------------------------------------------------------------------------------------------------\n",
            "const                              1.3743      0.765      1.796      0.072      -0.125       2.874\n",
            "New_Age                            0.0446      0.010      4.460      0.000       0.025       0.064\n",
            "automobile                        -1.6678      0.337     -4.942      0.000      -2.329      -1.006\n",
            "Major Arterial_road_class          1.6844      0.410      4.110      0.000       0.881       2.488\n",
            "Normal_cyccond                    -1.3217      0.332     -3.983      0.000      -1.972      -0.671\n",
            "Inattentive_cyccond               -3.2132      1.068     -3.009      0.003      -5.306      -1.120\n",
            "HourRange_Hour 12 to 15           -2.1208      0.482     -4.401      0.000      -3.065      -1.176\n",
            "HourRange_Hour 16 to 19           -4.0205      0.612     -6.574      0.000      -5.219      -2.822\n",
            "HourRange_Hour 20 to 23           -2.7615      0.588     -4.700      0.000      -3.913      -1.610\n",
            "HourRange_Hour 4 to 7             -3.0443      0.769     -3.957      0.000      -4.552      -1.537\n",
            "HourRange_Hour 8 to 11            -1.9000      0.512     -3.713      0.000      -2.903      -0.897\n",
            "district_North York               -2.1875      0.675     -3.239      0.001      -3.511      -0.864\n",
            "district_Scarborough              -2.1349      0.654     -3.263      0.001      -3.417      -0.853\n",
            "district_Toronto and East York    -1.1936      0.392     -3.045      0.002      -1.962      -0.425\n",
            "Season_Spring                     -0.7386      0.342     -2.158      0.031      -1.410      -0.068\n",
            "Season_Summer                     -1.7188      0.388     -4.433      0.000      -2.479      -0.959\n",
            "==================================================================================================\n"
          ],
          "name": "stdout"
        }
      ]
    },
    {
      "cell_type": "markdown",
      "metadata": {
        "colab_type": "text",
        "id": "TzBndFGk61Vz"
      },
      "source": [
        "Calculating the Accuracy of the Model by testing on the test data set "
      ]
    },
    {
      "cell_type": "code",
      "metadata": {
        "colab_type": "code",
        "id": "fYR1MsgD6m75",
        "colab": {}
      },
      "source": [
        "## Y prediction based on the test set\n",
        "y_test_pred1 = result2.predict(X_test1)\n",
        "# Covert prediction probality to 0 or 1\n",
        "y_prediction1 = np.where(y_test_pred1> 0.5, 1, 0)"
      ],
      "execution_count": null,
      "outputs": []
    },
    {
      "cell_type": "code",
      "metadata": {
        "id": "cSGX3lb4k4-Q",
        "colab_type": "code",
        "colab": {
          "base_uri": "https://localhost:8080/",
          "height": 380
        },
        "outputId": "cad6609d-8b22-4805-8d4f-bc5d74e2a2ac"
      },
      "source": [
        "### Probablity Density \n",
        "plt.hist(y_test_pred1, bins=8, color='c')\n",
        "plt.title(\"Histogram of Predicted Probalities\")\n",
        "plt.xlabel(\"Predicted probablity of 'Fatal' Injury\")\n",
        "plt.ylabel(\"Frequency\")\n",
        "plt.show()"
      ],
      "execution_count": 251,
      "outputs": [
        {
          "output_type": "display_data",
          "data": {
            "image/png": "[encoded data removed]",
            "text/plain": [
              "<Figure size 576x396 with 1 Axes>"
            ]
          },
          "metadata": {
            "tags": []
          }
        }
      ]
    },
    {
      "cell_type": "code",
      "metadata": {
        "colab_type": "code",
        "id": "NNkt7G7o65BE",
        "colab": {
          "base_uri": "https://localhost:8080/",
          "height": 173
        },
        "outputId": "c2779053-25a2-438c-d1f1-48a251cb5bca"
      },
      "source": [
        "## Model accuracy evaluation  #####\n",
        "from sklearn import metrics\n",
        "print(f\"Accuracy Score   :  {metrics.accuracy_score(y_test,y_prediction1)}\")\n",
        "## Confusion matrix\n",
        "print(f\"\\nConfusion matrix : \\n {metrics.confusion_matrix(y_test,y_prediction1)}\")\n",
        "## Prescision score\n",
        "print(f\"\\nPrecision Score  :  {metrics.precision_score(y_test,y_prediction1)}\")\n",
        "## Recall Score\n",
        "print(f\"\\nRecall Score     :  {metrics.recall_score(y_test,y_prediction1)}\")"
      ],
      "execution_count": null,
      "outputs": [
        {
          "output_type": "stream",
          "text": [
            "Accuracy Score   :  0.9415204678362573\n",
            "\n",
            "Confusion matrix : \n",
            " [[158   6]\n",
            " [  4   3]]\n",
            "\n",
            "Precision Score  :  0.3333333333333333\n",
            "\n",
            "Recall Score     :  0.42857142857142855\n"
          ],
          "name": "stdout"
        }
      ]
    },
    {
      "cell_type": "markdown",
      "metadata": {
        "id": "UXUx58jQwtAT",
        "colab_type": "text"
      },
      "source": [
        "# Exponenitate the model results"
      ]
    },
    {
      "cell_type": "code",
      "metadata": {
        "id": "Q1BSdV20xFp2",
        "colab_type": "code",
        "colab": {
          "base_uri": "https://localhost:8080/",
          "height": 311
        },
        "outputId": "47a41197-238f-4157-b049-e289c148dc05"
      },
      "source": [
        "result2.params"
      ],
      "execution_count": null,
      "outputs": [
        {
          "output_type": "execute_result",
          "data": {
            "text/plain": [
              "const                             1.374255\n",
              "New_Age                           0.044640\n",
              "automobile                       -1.667824\n",
              "Major Arterial_road_class         1.684399\n",
              "Normal_cyccond                   -1.321668\n",
              "Inattentive_cyccond              -3.213161\n",
              "HourRange_Hour 12 to 15          -2.120780\n",
              "HourRange_Hour 16 to 19          -4.020454\n",
              "HourRange_Hour 20 to 23          -2.761521\n",
              "HourRange_Hour 4 to 7            -3.044285\n",
              "HourRange_Hour 8 to 11           -1.899988\n",
              "district_North York              -2.187495\n",
              "district_Scarborough             -2.134857\n",
              "district_Toronto and East York   -1.193579\n",
              "Season_Spring                    -0.738592\n",
              "Season_Summer                    -1.718764\n",
              "dtype: float64"
            ]
          },
          "metadata": {
            "tags": []
          },
          "execution_count": 188
        }
      ]
    },
    {
      "cell_type": "code",
      "metadata": {
        "id": "HGkmKyynxJZH",
        "colab_type": "code",
        "colab": {
          "base_uri": "https://localhost:8080/",
          "height": 550
        },
        "outputId": "7bb0fa63-00cf-4ef6-c679-8feae93b1452"
      },
      "source": [
        "result2.conf_int()"
      ],
      "execution_count": null,
      "outputs": [
        {
          "output_type": "execute_result",
          "data": {
            "text/html": [
              "<div>\n",
              "<style scoped>\n",
              "    .dataframe tbody tr th:only-of-type {\n",
              "        vertical-align: middle;\n",
              "    }\n",
              "\n",
              "    .dataframe tbody tr th {\n",
              "        vertical-align: top;\n",
              "    }\n",
              "\n",
              "    .dataframe thead th {\n",
              "        text-align: right;\n",
              "    }\n",
              "</style>\n",
              "<table border=\"1\" class=\"dataframe\">\n",
              "  <thead>\n",
              "    <tr style=\"text-align: right;\">\n",
              "      <th></th>\n",
              "      <th>0</th>\n",
              "      <th>1</th>\n",
              "    </tr>\n",
              "  </thead>\n",
              "  <tbody>\n",
              "    <tr>\n",
              "      <th>const</th>\n",
              "      <td>-0.125325</td>\n",
              "      <td>2.873835</td>\n",
              "    </tr>\n",
              "    <tr>\n",
              "      <th>New_Age</th>\n",
              "      <td>0.025024</td>\n",
              "      <td>0.064256</td>\n",
              "    </tr>\n",
              "    <tr>\n",
              "      <th>automobile</th>\n",
              "      <td>-2.329275</td>\n",
              "      <td>-1.006374</td>\n",
              "    </tr>\n",
              "    <tr>\n",
              "      <th>Major Arterial_road_class</th>\n",
              "      <td>0.881146</td>\n",
              "      <td>2.487652</td>\n",
              "    </tr>\n",
              "    <tr>\n",
              "      <th>Normal_cyccond</th>\n",
              "      <td>-1.972014</td>\n",
              "      <td>-0.671321</td>\n",
              "    </tr>\n",
              "    <tr>\n",
              "      <th>Inattentive_cyccond</th>\n",
              "      <td>-5.306350</td>\n",
              "      <td>-1.119971</td>\n",
              "    </tr>\n",
              "    <tr>\n",
              "      <th>HourRange_Hour 12 to 15</th>\n",
              "      <td>-3.065291</td>\n",
              "      <td>-1.176270</td>\n",
              "    </tr>\n",
              "    <tr>\n",
              "      <th>HourRange_Hour 16 to 19</th>\n",
              "      <td>-5.219028</td>\n",
              "      <td>-2.821881</td>\n",
              "    </tr>\n",
              "    <tr>\n",
              "      <th>HourRange_Hour 20 to 23</th>\n",
              "      <td>-3.913033</td>\n",
              "      <td>-1.610009</td>\n",
              "    </tr>\n",
              "    <tr>\n",
              "      <th>HourRange_Hour 4 to 7</th>\n",
              "      <td>-4.552048</td>\n",
              "      <td>-1.536522</td>\n",
              "    </tr>\n",
              "    <tr>\n",
              "      <th>HourRange_Hour 8 to 11</th>\n",
              "      <td>-2.902811</td>\n",
              "      <td>-0.897166</td>\n",
              "    </tr>\n",
              "    <tr>\n",
              "      <th>district_North York</th>\n",
              "      <td>-3.511343</td>\n",
              "      <td>-0.863647</td>\n",
              "    </tr>\n",
              "    <tr>\n",
              "      <th>district_Scarborough</th>\n",
              "      <td>-3.417059</td>\n",
              "      <td>-0.852656</td>\n",
              "    </tr>\n",
              "    <tr>\n",
              "      <th>district_Toronto and East York</th>\n",
              "      <td>-1.961816</td>\n",
              "      <td>-0.425343</td>\n",
              "    </tr>\n",
              "    <tr>\n",
              "      <th>Season_Spring</th>\n",
              "      <td>-1.409560</td>\n",
              "      <td>-0.067624</td>\n",
              "    </tr>\n",
              "    <tr>\n",
              "      <th>Season_Summer</th>\n",
              "      <td>-2.478701</td>\n",
              "      <td>-0.958827</td>\n",
              "    </tr>\n",
              "  </tbody>\n",
              "</table>\n",
              "</div>"
            ],
            "text/plain": [
              "                                       0         1\n",
              "const                          -0.125325  2.873835\n",
              "New_Age                         0.025024  0.064256\n",
              "automobile                     -2.329275 -1.006374\n",
              "Major Arterial_road_class       0.881146  2.487652\n",
              "Normal_cyccond                 -1.972014 -0.671321\n",
              "Inattentive_cyccond            -5.306350 -1.119971\n",
              "HourRange_Hour 12 to 15        -3.065291 -1.176270\n",
              "HourRange_Hour 16 to 19        -5.219028 -2.821881\n",
              "HourRange_Hour 20 to 23        -3.913033 -1.610009\n",
              "HourRange_Hour 4 to 7          -4.552048 -1.536522\n",
              "HourRange_Hour 8 to 11         -2.902811 -0.897166\n",
              "district_North York            -3.511343 -0.863647\n",
              "district_Scarborough           -3.417059 -0.852656\n",
              "district_Toronto and East York -1.961816 -0.425343\n",
              "Season_Spring                  -1.409560 -0.067624\n",
              "Season_Summer                  -2.478701 -0.958827"
            ]
          },
          "metadata": {
            "tags": []
          },
          "execution_count": 189
        }
      ]
    },
    {
      "cell_type": "code",
      "metadata": {
        "id": "q5fqV4f1wtAU",
        "colab_type": "code",
        "colab": {}
      },
      "source": [
        "coefs_exped = np.exp(result2.params)"
      ],
      "execution_count": null,
      "outputs": []
    },
    {
      "cell_type": "code",
      "metadata": {
        "id": "0k0_ouVRwtAW",
        "colab_type": "code",
        "colab": {}
      },
      "source": [
        "CIs_exped = np.exp(result2.conf_int())"
      ],
      "execution_count": null,
      "outputs": []
    },
    {
      "cell_type": "code",
      "metadata": {
        "id": "Xlo4maBGwtAY",
        "colab_type": "code",
        "colab": {
          "base_uri": "https://localhost:8080/",
          "height": 488
        },
        "outputId": "4c94337b-7440-4744-a84f-2b47b1909390"
      },
      "source": [
        "CIs_exped[\"coef\"] = coefs_exped\n",
        "CIs_exped.columns = [\"2.5% CI\", \"97.5% CI\", \"coef\"]\n",
        "CIs_exped1 = CIs_exped.iloc[1:-1, :]\n",
        "CIs_exped1"
      ],
      "execution_count": 273,
      "outputs": [
        {
          "output_type": "execute_result",
          "data": {
            "text/html": [
              "<div>\n",
              "<style scoped>\n",
              "    .dataframe tbody tr th:only-of-type {\n",
              "        vertical-align: middle;\n",
              "    }\n",
              "\n",
              "    .dataframe tbody tr th {\n",
              "        vertical-align: top;\n",
              "    }\n",
              "\n",
              "    .dataframe thead th {\n",
              "        text-align: right;\n",
              "    }\n",
              "</style>\n",
              "<table border=\"1\" class=\"dataframe\">\n",
              "  <thead>\n",
              "    <tr style=\"text-align: right;\">\n",
              "      <th></th>\n",
              "      <th>2.5% CI</th>\n",
              "      <th>97.5% CI</th>\n",
              "      <th>coef</th>\n",
              "    </tr>\n",
              "  </thead>\n",
              "  <tbody>\n",
              "    <tr>\n",
              "      <th>New_Age</th>\n",
              "      <td>1.025340</td>\n",
              "      <td>1.066365</td>\n",
              "      <td>1.045651</td>\n",
              "    </tr>\n",
              "    <tr>\n",
              "      <th>automobile</th>\n",
              "      <td>0.097366</td>\n",
              "      <td>0.365542</td>\n",
              "      <td>0.188657</td>\n",
              "    </tr>\n",
              "    <tr>\n",
              "      <th>Major Arterial_road_class</th>\n",
              "      <td>2.413664</td>\n",
              "      <td>12.032994</td>\n",
              "      <td>5.389212</td>\n",
              "    </tr>\n",
              "    <tr>\n",
              "      <th>Normal_cyccond</th>\n",
              "      <td>0.139176</td>\n",
              "      <td>0.511033</td>\n",
              "      <td>0.266690</td>\n",
              "    </tr>\n",
              "    <tr>\n",
              "      <th>Inattentive_cyccond</th>\n",
              "      <td>0.004960</td>\n",
              "      <td>0.326289</td>\n",
              "      <td>0.040229</td>\n",
              "    </tr>\n",
              "    <tr>\n",
              "      <th>HourRange_Hour 12 to 15</th>\n",
              "      <td>0.046640</td>\n",
              "      <td>0.308427</td>\n",
              "      <td>0.119938</td>\n",
              "    </tr>\n",
              "    <tr>\n",
              "      <th>HourRange_Hour 16 to 19</th>\n",
              "      <td>0.005413</td>\n",
              "      <td>0.059494</td>\n",
              "      <td>0.017945</td>\n",
              "    </tr>\n",
              "    <tr>\n",
              "      <th>HourRange_Hour 20 to 23</th>\n",
              "      <td>0.019980</td>\n",
              "      <td>0.199886</td>\n",
              "      <td>0.063196</td>\n",
              "    </tr>\n",
              "    <tr>\n",
              "      <th>HourRange_Hour 4 to 7</th>\n",
              "      <td>0.010546</td>\n",
              "      <td>0.215128</td>\n",
              "      <td>0.047630</td>\n",
              "    </tr>\n",
              "    <tr>\n",
              "      <th>HourRange_Hour 8 to 11</th>\n",
              "      <td>0.054869</td>\n",
              "      <td>0.407724</td>\n",
              "      <td>0.149570</td>\n",
              "    </tr>\n",
              "    <tr>\n",
              "      <th>district_North York</th>\n",
              "      <td>0.029857</td>\n",
              "      <td>0.421621</td>\n",
              "      <td>0.112197</td>\n",
              "    </tr>\n",
              "    <tr>\n",
              "      <th>district_Scarborough</th>\n",
              "      <td>0.032809</td>\n",
              "      <td>0.426281</td>\n",
              "      <td>0.118261</td>\n",
              "    </tr>\n",
              "    <tr>\n",
              "      <th>district_Toronto and East York</th>\n",
              "      <td>0.140603</td>\n",
              "      <td>0.653546</td>\n",
              "      <td>0.303134</td>\n",
              "    </tr>\n",
              "    <tr>\n",
              "      <th>Season_Spring</th>\n",
              "      <td>0.244251</td>\n",
              "      <td>0.934612</td>\n",
              "      <td>0.477786</td>\n",
              "    </tr>\n",
              "  </tbody>\n",
              "</table>\n",
              "</div>"
            ],
            "text/plain": [
              "                                 2.5% CI   97.5% CI      coef\n",
              "New_Age                         1.025340   1.066365  1.045651\n",
              "automobile                      0.097366   0.365542  0.188657\n",
              "Major Arterial_road_class       2.413664  12.032994  5.389212\n",
              "Normal_cyccond                  0.139176   0.511033  0.266690\n",
              "Inattentive_cyccond             0.004960   0.326289  0.040229\n",
              "HourRange_Hour 12 to 15         0.046640   0.308427  0.119938\n",
              "HourRange_Hour 16 to 19         0.005413   0.059494  0.017945\n",
              "HourRange_Hour 20 to 23         0.019980   0.199886  0.063196\n",
              "HourRange_Hour 4 to 7           0.010546   0.215128  0.047630\n",
              "HourRange_Hour 8 to 11          0.054869   0.407724  0.149570\n",
              "district_North York             0.029857   0.421621  0.112197\n",
              "district_Scarborough            0.032809   0.426281  0.118261\n",
              "district_Toronto and East York  0.140603   0.653546  0.303134\n",
              "Season_Spring                   0.244251   0.934612  0.477786"
            ]
          },
          "metadata": {
            "tags": []
          },
          "execution_count": 273
        }
      ]
    },
    {
      "cell_type": "code",
      "metadata": {
        "id": "964jkUdSy0UX",
        "colab_type": "code",
        "colab": {
          "base_uri": "https://localhost:8080/",
          "height": 155
        },
        "outputId": "c1d31457-6e8c-4628-9046-30f5666cebb4"
      },
      "source": [
        "error=np.transpose(np.array(CIs_exped1.loc[:,['2.5% CI','97.5% CI']]))\n",
        "error"
      ],
      "execution_count": 274,
      "outputs": [
        {
          "output_type": "execute_result",
          "data": {
            "text/plain": [
              "array([[1.02533963e+00, 9.73663484e-02, 2.41366448e+00, 1.39176277e-01,\n",
              "        4.95999747e-03, 4.66402815e-02, 5.41258885e-03, 1.99798037e-02,\n",
              "        1.05455853e-02, 5.48687636e-02, 2.98567969e-02, 3.28087842e-02,\n",
              "        1.40602856e-01, 2.44250713e-01],\n",
              "       [1.06636482e+00, 3.65542032e-01, 1.20329944e+01, 5.11032834e-01,\n",
              "        3.26289174e-01, 3.08427041e-01, 5.94939518e-02, 1.99885883e-01,\n",
              "        2.15128058e-01, 4.07723613e-01, 4.21621436e-01, 4.26281414e-01,\n",
              "        6.53545584e-01, 9.34611740e-01]])"
            ]
          },
          "metadata": {
            "tags": []
          },
          "execution_count": 274
        }
      ]
    },
    {
      "cell_type": "code",
      "metadata": {
        "id": "FBwwuvpRvpwJ",
        "colab_type": "code",
        "colab": {
          "base_uri": "https://localhost:8080/",
          "height": 790
        },
        "outputId": "082a1cd3-2306-4a83-e778-f4d620f5a8f3"
      },
      "source": [
        "plt.style.use('seaborn-white')\n",
        "axes=plt.errorbar(x=CIs_exped1.index, y=CIs_exped1.coef, yerr=error, fmt='ok',\\\n",
        "             ecolor='gray', elinewidth=3, capsize=0)\n",
        "plt.xlabel(\"Model Variables\")\n",
        "plt.ylabel(\"Coefficient\")\n",
        "plt.title(\"Coefficient Confidence Interval plot\")\n",
        "plt.xticks()\n",
        "axes = plt.gca()\n",
        "plt.setp(axes.get_xticklabels(), rotation = 90)\n",
        "axes.set_facecolor('#F5F5F5')\n",
        "#axes.set_facecolor((204, 229, 255))\n",
        "plt.show()"
      ],
      "execution_count": 331,
      "outputs": [
        {
          "output_type": "display_data",
          "data": {
            "image/png": "[encoded data removed]",
            "text/plain": [
              "<Figure size 921.6x633.6 with 1 Axes>"
            ]
          },
          "metadata": {
            "tags": []
          }
        }
      ]
    },
    {
      "cell_type": "markdown",
      "metadata": {
        "id": "ptUtq5wgwtAb",
        "colab_type": "text"
      },
      "source": [
        "# Illustrating the Odds Ratio Mentioned in Email Using figure from Original Summary"
      ]
    },
    {
      "cell_type": "code",
      "metadata": {
        "id": "KDmUTV7wwtAb",
        "colab_type": "code",
        "colab": {
          "base_uri": "https://localhost:8080/",
          "height": 34
        },
        "outputId": "cbe874cc-3d54-43da-be01-337712085a80"
      },
      "source": [
        "1/np.exp(-3.8261)"
      ],
      "execution_count": null,
      "outputs": [
        {
          "output_type": "execute_result",
          "data": {
            "text/plain": [
              "45.88324418575068"
            ]
          },
          "metadata": {
            "tags": []
          },
          "execution_count": 193
        }
      ]
    },
    {
      "cell_type": "code",
      "metadata": {
        "id": "JEPh0ENIwtAd",
        "colab_type": "code",
        "colab": {
          "base_uri": "https://localhost:8080/",
          "height": 34
        },
        "outputId": "9aa700e7-7567-4dc2-e2d2-c5e79d00eb7b"
      },
      "source": [
        "np.exp(2.0476)"
      ],
      "execution_count": null,
      "outputs": [
        {
          "output_type": "execute_result",
          "data": {
            "text/plain": [
              "7.749280497320312"
            ]
          },
          "metadata": {
            "tags": []
          },
          "execution_count": 194
        }
      ]
    },
    {
      "cell_type": "code",
      "metadata": {
        "id": "wZYpaL5OwtAe",
        "colab_type": "code",
        "colab": {
          "base_uri": "https://localhost:8080/",
          "height": 34
        },
        "outputId": "7553fc03-10a4-4aaa-d251-686408de50de"
      },
      "source": [
        "result2.llr_pvalue"
      ],
      "execution_count": null,
      "outputs": [
        {
          "output_type": "execute_result",
          "data": {
            "text/plain": [
              "3.5510371298202444e-51"
            ]
          },
          "metadata": {
            "tags": []
          },
          "execution_count": 195
        }
      ]
    },
    {
      "cell_type": "code",
      "metadata": {
        "id": "Z1FUhTkNwtAh",
        "colab_type": "code",
        "colab": {
          "base_uri": "https://localhost:8080/",
          "height": 295
        },
        "outputId": "3a73ad0f-7e59-4bb2-f7c4-1824258e0d20"
      },
      "source": [
        "## Confusion Matrix\n",
        "confu =metrics.confusion_matrix(y_test,y_prediction1)\n",
        "import seaborn as sns\n",
        "axes = sns.heatmap(confu, square=True, annot=True, fmt='d', cbar=True,cmap=plt.cm.Blues)\n",
        "Class_label = ['Non-Fatal', 'Fatal']\n",
        "axes.set_xlabel('Model Prediction')\n",
        "axes.set_ylabel('Actual')\n",
        "\n",
        "tick_marks = np.arange(len(Class_label)) + 0.5\n",
        "axes.set_xticks(tick_marks)\n",
        "axes.set_xticklabels(Class_label, rotation=0)\n",
        "\n",
        "axes.set_yticks(tick_marks)\n",
        "axes.set_yticklabels(Class_label, rotation=0)\n",
        "\n",
        "axes.set_title('Confusion Matrix')\n",
        "plt.show()"
      ],
      "execution_count": null,
      "outputs": [
        {
          "output_type": "display_data",
          "data": {
            "image/png": "[encoded data removed]",
            "text/plain": [
              "<Figure size 432x288 with 2 Axes>"
            ]
          },
          "metadata": {
            "tags": [],
            "needs_background": "light"
          }
        }
      ]
    },
    {
      "cell_type": "code",
      "metadata": {
        "id": "Yxewt1irrBDt",
        "colab_type": "code",
        "colab": {
          "base_uri": "https://localhost:8080/",
          "height": 34
        },
        "outputId": "1b8cfdd6-b23a-4564-f17d-3cea32aa19e1"
      },
      "source": [
        "import collections\n",
        "collections.Counter(y_test)"
      ],
      "execution_count": null,
      "outputs": [
        {
          "output_type": "execute_result",
          "data": {
            "text/plain": [
              "Counter({0: 164, 1: 7})"
            ]
          },
          "metadata": {
            "tags": []
          },
          "execution_count": 209
        }
      ]
    },
    {
      "cell_type": "code",
      "metadata": {
        "id": "JXo5eih6tGr-",
        "colab_type": "code",
        "colab": {
          "base_uri": "https://localhost:8080/",
          "height": 86
        },
        "outputId": "69dd139f-0784-4dda-d2b3-2982404dd95c"
      },
      "source": [
        "# TP, FP, TN, FN\n",
        "y_test,y_prediction1\n",
        "tp = sum((y_test==1) & (y_prediction1==1))\n",
        "fp = sum((y_test==0) & (y_prediction1==1))\n",
        "tn = sum((y_test==0) & (y_prediction1==0))\n",
        "fn = sum((y_test==1) & (y_prediction1==0))\n",
        "\n",
        "print(f\"True Positive {tp}\")\n",
        "print(f\"False Positive {fp}\")\n",
        "print(f\"True Negative {tn}\")\n",
        "print(f\"False Negative {fn}\")"
      ],
      "execution_count": null,
      "outputs": [
        {
          "output_type": "stream",
          "text": [
            "True Positive 3\n",
            "False Positive 6\n",
            "True Negative 158\n",
            "False Negative 4\n"
          ],
          "name": "stdout"
        }
      ]
    },
    {
      "cell_type": "code",
      "metadata": {
        "id": "jUrE2g-Y4COy",
        "colab_type": "code",
        "colab": {
          "base_uri": "https://localhost:8080/",
          "height": 34
        },
        "outputId": "6841255e-6f1f-4230-bb84-b002d5da8dce"
      },
      "source": [
        "metrics.f1_score(y_test,y_prediction1)"
      ],
      "execution_count": null,
      "outputs": [
        {
          "output_type": "execute_result",
          "data": {
            "text/plain": [
              "0.375"
            ]
          },
          "metadata": {
            "tags": []
          },
          "execution_count": 213
        }
      ]
    },
    {
      "cell_type": "code",
      "metadata": {
        "id": "kv6NN1XlIwJD",
        "colab_type": "code",
        "colab": {}
      },
      "source": [
        "# Prediction probality\n",
        "# Random probality\n",
        "r_probs = [0 for _ in range(len(y_test))]\n"
      ],
      "execution_count": 224,
      "outputs": []
    },
    {
      "cell_type": "code",
      "metadata": {
        "id": "qVQY08BnJjzu",
        "colab_type": "code",
        "colab": {
          "base_uri": "https://localhost:8080/",
          "height": 51
        },
        "outputId": "1f1ec8f8-ab87-4e05-de6b-8e3320125c50"
      },
      "source": [
        "## Auc values\n",
        "r_auc = roc_auc_score(y_test, r_probs)\n",
        "rlogistic_auc = roc_auc_score(y_test, y_prediction1)\n",
        "print(r_auc)\n",
        "print(rlogistic_auc)"
      ],
      "execution_count": 229,
      "outputs": [
        {
          "output_type": "stream",
          "text": [
            "0.5\n",
            "0.695993031358885\n"
          ],
          "name": "stdout"
        }
      ]
    },
    {
      "cell_type": "code",
      "metadata": {
        "id": "j4979-nY7kyg",
        "colab_type": "code",
        "colab": {}
      },
      "source": [
        "## ROC curve values\n",
        "from sklearn.metrics import roc_curve, roc_auc_score\n",
        "logistic_fpr, logistic_tpr, threshol = roc_curve(y_test,y_prediction1)\n",
        "r_fpr, r_tpr, threshol = roc_curve(y_test,r_probs)"
      ],
      "execution_count": 233,
      "outputs": []
    },
    {
      "cell_type": "code",
      "metadata": {
        "id": "Eujd8PXp-Zlc",
        "colab_type": "code",
        "colab": {
          "base_uri": "https://localhost:8080/",
          "height": 380
        },
        "outputId": "444246e4-cd0f-4c3b-cef9-299f3afe481d"
      },
      "source": [
        "plt.style.use('ggplot')\n",
        "plt.plot(logistic_fpr, logistic_tpr,marker='.' , label='Logistic Model (AUROC = %0.3f)' % rlogistic_auc)\n",
        "plt.plot(r_fpr, r_tpr, linestyle='--', label='Random prediction (AUROC = %0.3f)' % r_auc)\n",
        "\n",
        "# Title\n",
        "plt.title('ROC Plot')\n",
        "# Axis labels\n",
        "plt.xlabel('False Positive Rate')\n",
        "plt.ylabel('True Positive Rate')\n",
        "# Show legend\n",
        "plt.legend() # \n",
        "# Show plot\n",
        "plt.show()"
      ],
      "execution_count": 244,
      "outputs": [
        {
          "output_type": "display_data",
          "data": {
            "image/png": "[encoded data removed]",
            "text/plain": [
              "<Figure size 576x396 with 1 Axes>"
            ]
          },
          "metadata": {
            "tags": []
          }
        }
      ]
    }
  ]
}