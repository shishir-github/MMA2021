{
  "nbformat": 4,
  "nbformat_minor": 0,
  "metadata": {
    "colab": {
      "name": "860_Model2.ipynb",
      "provenance": [],
      "collapsed_sections": [],
      "authorship_tag": "ABX9TyOE6WaOquz5hV74q0G9lG4X",
      "include_colab_link": true
    },
    "kernelspec": {
      "name": "python3",
      "display_name": "Python 3"
    }
  },
  "cells": [
    {
      "cell_type": "markdown",
      "metadata": {
        "id": "view-in-github",
        "colab_type": "text"
      },
      "source": [
        "<a href=\"https://colab.research.google.com/github/shishir-github/MMA2021/blob/master/860_Model2.ipynb\" target=\"_parent\"><img src=\"https://colab.research.google.com/assets/colab-badge.svg\" alt=\"Open In Colab\"/></a>"
      ]
    },
    {
      "cell_type": "code",
      "metadata": {
        "id": "KPRa1KJ3nmTO",
        "colab_type": "code",
        "colab": {}
      },
      "source": [
        "import pandas as pd\n",
        "import numpy as np  \n",
        "import matplotlib.pyplot as plt"
      ],
      "execution_count": 112,
      "outputs": []
    },
    {
      "cell_type": "code",
      "metadata": {
        "id": "XYEH3Ne_nw-R",
        "colab_type": "code",
        "colab": {}
      },
      "source": [
        "df= pd.read_excel(\"updateddata.xlsx\")"
      ],
      "execution_count": 113,
      "outputs": []
    },
    {
      "cell_type": "markdown",
      "metadata": {
        "id": "umUJiJMvoAIl",
        "colab_type": "text"
      },
      "source": [
        " **--- Fill the NAs with zeroes\n",
        "--- Update the Yes to 1**\n",
        "for columns\n",
        "*\"alcohol\",\"redlight\",\"ag_driv\",\"speeding\",\"passenger\",\"emerg_veh\",\"trsn_city_veh\"* columns\n"
      ]
    },
    {
      "cell_type": "code",
      "metadata": {
        "id": "XMHOwm7qn8XR",
        "colab_type": "code",
        "colab": {}
      },
      "source": [
        "cols = [\"alcohol\",\"redlight\",\"ag_driv\",\"speeding\",\"passenger\",\"emerg_veh\",\"trsn_city_veh\", \\\n",
        "    \"truck\",\"automobile\",\"pedestrian\"]\n",
        "for col in cols:\n",
        "  df[col].fillna(0,inplace=True)\n",
        "  df[col].replace(\"Yes\",1,inplace=True)"
      ],
      "execution_count": 114,
      "outputs": []
    },
    {
      "cell_type": "markdown",
      "metadata": {
        "id": "djjk7uT5oKCY",
        "colab_type": "text"
      },
      "source": [
        "**Analysing the Missing data**"
      ]
    },
    {
      "cell_type": "code",
      "metadata": {
        "id": "iOfNuWDCoPLx",
        "colab_type": "code",
        "colab": {
          "base_uri": "https://localhost:8080/",
          "height": 201
        },
        "outputId": "b165996e-3ba4-471c-ca14-9f81a416a552"
      },
      "source": [
        "## Dropping Variables not needed for model\n",
        "df.columns\n",
        "cols = ['event_id','year','date','street1','street2','district','ward_num','division','latitude',\\\n",
        "        'loc_to_inter','hood_id','neighbourhood','minute','longitude','pedtype','drivact','drivcond',\\\n",
        "        'pedact','pedcond','cyclistype', 'fatal_no', 'Unnamed: 0']\n",
        "df=df.drop(cols, axis=1)\n",
        "df.head(2)"
      ],
      "execution_count": 115,
      "outputs": [
        {
          "output_type": "execute_result",
          "data": {
            "text/html": [
              "<div>\n",
              "<style scoped>\n",
              "    .dataframe tbody tr th:only-of-type {\n",
              "        vertical-align: middle;\n",
              "    }\n",
              "\n",
              "    .dataframe tbody tr th {\n",
              "        vertical-align: top;\n",
              "    }\n",
              "\n",
              "    .dataframe thead th {\n",
              "        text-align: right;\n",
              "    }\n",
              "</style>\n",
              "<table border=\"1\" class=\"dataframe\">\n",
              "  <thead>\n",
              "    <tr style=\"text-align: right;\">\n",
              "      <th></th>\n",
              "      <th>hour</th>\n",
              "      <th>road_class</th>\n",
              "      <th>intersection</th>\n",
              "      <th>traffic_control</th>\n",
              "      <th>visibility</th>\n",
              "      <th>light</th>\n",
              "      <th>road_cond</th>\n",
              "      <th>acclass</th>\n",
              "      <th>impactype</th>\n",
              "      <th>invtype</th>\n",
              "      <th>age</th>\n",
              "      <th>injury</th>\n",
              "      <th>initdir</th>\n",
              "      <th>vehtype</th>\n",
              "      <th>manoeuver</th>\n",
              "      <th>cycact</th>\n",
              "      <th>cyccond</th>\n",
              "      <th>pedestrian</th>\n",
              "      <th>automobile</th>\n",
              "      <th>truck</th>\n",
              "      <th>trsn_city_veh</th>\n",
              "      <th>emerg_veh</th>\n",
              "      <th>passenger</th>\n",
              "      <th>speeding</th>\n",
              "      <th>ag_driv</th>\n",
              "      <th>redlight</th>\n",
              "      <th>alcohol</th>\n",
              "    </tr>\n",
              "  </thead>\n",
              "  <tbody>\n",
              "    <tr>\n",
              "      <th>0</th>\n",
              "      <td>18</td>\n",
              "      <td>Collector</td>\n",
              "      <td>Intersection</td>\n",
              "      <td>No Control</td>\n",
              "      <td>Clear</td>\n",
              "      <td>Dark</td>\n",
              "      <td>Dry</td>\n",
              "      <td>Non-Fatal Injury</td>\n",
              "      <td>Cyclist Collisions</td>\n",
              "      <td>Driver</td>\n",
              "      <td>65 to 69</td>\n",
              "      <td>None</td>\n",
              "      <td>North</td>\n",
              "      <td>Automobile, Station Wagon</td>\n",
              "      <td>Turning Left</td>\n",
              "      <td>NaN</td>\n",
              "      <td>NaN</td>\n",
              "      <td>0</td>\n",
              "      <td>1</td>\n",
              "      <td>0</td>\n",
              "      <td>0</td>\n",
              "      <td>0</td>\n",
              "      <td>0</td>\n",
              "      <td>0</td>\n",
              "      <td>0</td>\n",
              "      <td>0</td>\n",
              "      <td>0</td>\n",
              "    </tr>\n",
              "    <tr>\n",
              "      <th>1</th>\n",
              "      <td>18</td>\n",
              "      <td>Collector</td>\n",
              "      <td>Intersection</td>\n",
              "      <td>No Control</td>\n",
              "      <td>Clear</td>\n",
              "      <td>Dark</td>\n",
              "      <td>Dry</td>\n",
              "      <td>Non-Fatal Injury</td>\n",
              "      <td>Cyclist Collisions</td>\n",
              "      <td>Cyclist</td>\n",
              "      <td>20 to 24</td>\n",
              "      <td>Major</td>\n",
              "      <td>South</td>\n",
              "      <td>Bicycle</td>\n",
              "      <td>Going Ahead</td>\n",
              "      <td>NaN</td>\n",
              "      <td>NaN</td>\n",
              "      <td>0</td>\n",
              "      <td>1</td>\n",
              "      <td>0</td>\n",
              "      <td>0</td>\n",
              "      <td>0</td>\n",
              "      <td>0</td>\n",
              "      <td>0</td>\n",
              "      <td>0</td>\n",
              "      <td>0</td>\n",
              "      <td>0</td>\n",
              "    </tr>\n",
              "  </tbody>\n",
              "</table>\n",
              "</div>"
            ],
            "text/plain": [
              "   hour road_class  intersection  ... ag_driv redlight alcohol\n",
              "0    18  Collector  Intersection  ...       0        0       0\n",
              "1    18  Collector  Intersection  ...       0        0       0\n",
              "\n",
              "[2 rows x 27 columns]"
            ]
          },
          "metadata": {
            "tags": []
          },
          "execution_count": 115
        }
      ]
    },
    {
      "cell_type": "markdown",
      "metadata": {
        "id": "JRr7SOSrqPcv",
        "colab_type": "text"
      },
      "source": [
        "Filter the data by cyclist"
      ]
    },
    {
      "cell_type": "code",
      "metadata": {
        "id": "GgVRpecPqhgQ",
        "colab_type": "code",
        "colab": {
          "base_uri": "https://localhost:8080/",
          "height": 201
        },
        "outputId": "2bbfdbff-e129-4e17-aa0a-e436065ccdff"
      },
      "source": [
        "## df1 has only rows where invtype is cyclist\n",
        "df1=df.loc[df.invtype=='Cyclist']\n",
        "df1.reset_index(drop=True, inplace=True)\n",
        "df1.head(2)"
      ],
      "execution_count": 116,
      "outputs": [
        {
          "output_type": "execute_result",
          "data": {
            "text/html": [
              "<div>\n",
              "<style scoped>\n",
              "    .dataframe tbody tr th:only-of-type {\n",
              "        vertical-align: middle;\n",
              "    }\n",
              "\n",
              "    .dataframe tbody tr th {\n",
              "        vertical-align: top;\n",
              "    }\n",
              "\n",
              "    .dataframe thead th {\n",
              "        text-align: right;\n",
              "    }\n",
              "</style>\n",
              "<table border=\"1\" class=\"dataframe\">\n",
              "  <thead>\n",
              "    <tr style=\"text-align: right;\">\n",
              "      <th></th>\n",
              "      <th>hour</th>\n",
              "      <th>road_class</th>\n",
              "      <th>intersection</th>\n",
              "      <th>traffic_control</th>\n",
              "      <th>visibility</th>\n",
              "      <th>light</th>\n",
              "      <th>road_cond</th>\n",
              "      <th>acclass</th>\n",
              "      <th>impactype</th>\n",
              "      <th>invtype</th>\n",
              "      <th>age</th>\n",
              "      <th>injury</th>\n",
              "      <th>initdir</th>\n",
              "      <th>vehtype</th>\n",
              "      <th>manoeuver</th>\n",
              "      <th>cycact</th>\n",
              "      <th>cyccond</th>\n",
              "      <th>pedestrian</th>\n",
              "      <th>automobile</th>\n",
              "      <th>truck</th>\n",
              "      <th>trsn_city_veh</th>\n",
              "      <th>emerg_veh</th>\n",
              "      <th>passenger</th>\n",
              "      <th>speeding</th>\n",
              "      <th>ag_driv</th>\n",
              "      <th>redlight</th>\n",
              "      <th>alcohol</th>\n",
              "    </tr>\n",
              "  </thead>\n",
              "  <tbody>\n",
              "    <tr>\n",
              "      <th>0</th>\n",
              "      <td>18</td>\n",
              "      <td>Collector</td>\n",
              "      <td>Intersection</td>\n",
              "      <td>No Control</td>\n",
              "      <td>Clear</td>\n",
              "      <td>Dark</td>\n",
              "      <td>Dry</td>\n",
              "      <td>Non-Fatal Injury</td>\n",
              "      <td>Cyclist Collisions</td>\n",
              "      <td>Cyclist</td>\n",
              "      <td>20 to 24</td>\n",
              "      <td>Major</td>\n",
              "      <td>South</td>\n",
              "      <td>Bicycle</td>\n",
              "      <td>Going Ahead</td>\n",
              "      <td>NaN</td>\n",
              "      <td>NaN</td>\n",
              "      <td>0</td>\n",
              "      <td>1</td>\n",
              "      <td>0</td>\n",
              "      <td>0</td>\n",
              "      <td>0</td>\n",
              "      <td>0</td>\n",
              "      <td>0</td>\n",
              "      <td>0</td>\n",
              "      <td>0</td>\n",
              "      <td>0</td>\n",
              "    </tr>\n",
              "    <tr>\n",
              "      <th>1</th>\n",
              "      <td>19</td>\n",
              "      <td>Major Arterial</td>\n",
              "      <td>Intersection</td>\n",
              "      <td>Traffic Signal</td>\n",
              "      <td>Clear</td>\n",
              "      <td>Dark</td>\n",
              "      <td>Wet</td>\n",
              "      <td>Non-Fatal Injury</td>\n",
              "      <td>Cyclist Collisions</td>\n",
              "      <td>Cyclist</td>\n",
              "      <td>25 to 29</td>\n",
              "      <td>Major</td>\n",
              "      <td>West</td>\n",
              "      <td>Bicycle</td>\n",
              "      <td>Going Ahead</td>\n",
              "      <td>Driving Properly</td>\n",
              "      <td>Normal</td>\n",
              "      <td>0</td>\n",
              "      <td>0</td>\n",
              "      <td>0</td>\n",
              "      <td>1</td>\n",
              "      <td>0</td>\n",
              "      <td>0</td>\n",
              "      <td>0</td>\n",
              "      <td>1</td>\n",
              "      <td>0</td>\n",
              "      <td>0</td>\n",
              "    </tr>\n",
              "  </tbody>\n",
              "</table>\n",
              "</div>"
            ],
            "text/plain": [
              "   hour      road_class  intersection  ... ag_driv redlight alcohol\n",
              "0    18       Collector  Intersection  ...       0        0       0\n",
              "1    19  Major Arterial  Intersection  ...       1        0       0\n",
              "\n",
              "[2 rows x 27 columns]"
            ]
          },
          "metadata": {
            "tags": []
          },
          "execution_count": 116
        }
      ]
    },
    {
      "cell_type": "code",
      "metadata": {
        "id": "D9bi51JVt704",
        "colab_type": "code",
        "colab": {
          "base_uri": "https://localhost:8080/",
          "height": 51
        },
        "outputId": "caff94b0-0a77-4133-cdd6-b67f1eb7b989"
      },
      "source": [
        "df1.shape\n",
        "print(f\"Columns:{df1.shape[0]}\")\n",
        "print(f\"Rows:{df1.shape[1]}\")"
      ],
      "execution_count": 117,
      "outputs": [
        {
          "output_type": "stream",
          "text": [
            "Columns:684\n",
            "Rows:27\n"
          ],
          "name": "stdout"
        }
      ]
    },
    {
      "cell_type": "code",
      "metadata": {
        "id": "P9C7-OVYoqCs",
        "colab_type": "code",
        "colab": {
          "base_uri": "https://localhost:8080/",
          "height": 121
        },
        "outputId": "b437819d-d0f1-42ce-b603-4f3266cebc51"
      },
      "source": [
        "# Print the no of Null values\n",
        "cols = df1.columns\n",
        "for x in cols:\n",
        "  n = df1[x].isnull().sum()\n",
        "  if n>0:\n",
        "    print(f\"Total Null values in column {x} is {n}\")"
      ],
      "execution_count": 118,
      "outputs": [
        {
          "output_type": "stream",
          "text": [
            "Total Null values in column intersection is 5\n",
            "Total Null values in column initdir is 2\n",
            "Total Null values in column vehtype is 3\n",
            "Total Null values in column manoeuver is 2\n",
            "Total Null values in column cycact is 18\n",
            "Total Null values in column cyccond is 19\n"
          ],
          "name": "stdout"
        }
      ]
    },
    {
      "cell_type": "markdown",
      "metadata": {
        "id": "xPb3fV5srT3f",
        "colab_type": "text"
      },
      "source": [
        "Fill the missing data"
      ]
    },
    {
      "cell_type": "code",
      "metadata": {
        "id": "aHcPjXFxqJZQ",
        "colab_type": "code",
        "colab": {
          "base_uri": "https://localhost:8080/",
          "height": 123
        },
        "outputId": "38980630-1991-46a4-e552-74cfc6a1ad28"
      },
      "source": [
        "df1.fillna(value='unknown', inplace=True)"
      ],
      "execution_count": 119,
      "outputs": [
        {
          "output_type": "stream",
          "text": [
            "/usr/local/lib/python3.6/dist-packages/pandas/core/frame.py:4153: SettingWithCopyWarning: \n",
            "A value is trying to be set on a copy of a slice from a DataFrame\n",
            "\n",
            "See the caveats in the documentation: https://pandas.pydata.org/pandas-docs/stable/user_guide/indexing.html#returning-a-view-versus-a-copy\n",
            "  downcast=downcast,\n"
          ],
          "name": "stderr"
        }
      ]
    },
    {
      "cell_type": "markdown",
      "metadata": {
        "id": "Bql42rthByvc",
        "colab_type": "text"
      },
      "source": [
        "CReate hour range categories from hour variable"
      ]
    },
    {
      "cell_type": "code",
      "metadata": {
        "id": "nbLBBz5qDNmu",
        "colab_type": "code",
        "colab": {
          "base_uri": "https://localhost:8080/",
          "height": 245
        },
        "outputId": "b6c1e38e-4c63-4215-9444-6c54f3e0a4a0"
      },
      "source": [
        "df1['HourRange'] = ''\n",
        "hour = df1.loc[:,'hour']\n",
        "df1.loc[:,'HourRange'] = np.where((0<=hour) & (hour<=3),'Hour 0 to 3', df1.loc[:,'HourRange'])\n",
        "df1.loc[:,'HourRange'] = np.where((4<=hour) & (hour<=7),'Hour 4 to 7', df1.loc[:,'HourRange'])\n",
        "df1.loc[:,'HourRange'] = np.where((8<=hour) & (hour<=11),'Hour 8 to 11', df1.loc[:,'HourRange'])\n",
        "df1.loc[:,'HourRange'] = np.where((12<=hour) & (hour<=15),'Hour 12 to 15', df1.loc[:,'HourRange'])\n",
        "df1.loc[:,'HourRange'] = np.where((12<=hour) & (hour<=15),'Hour 12 to 15', df1.loc[:,'HourRange'])\n",
        "df1.loc[:,'HourRange'] = np.where((16<=hour) & (hour<=19),'Hour 16 to 19', df1.loc[:,'HourRange'])\n",
        "df1.loc[:,'HourRange'] = np.where((20<=hour) & (hour<=23),'Hour 20 to 23', df1.loc[:,'HourRange'])"
      ],
      "execution_count": 120,
      "outputs": [
        {
          "output_type": "stream",
          "text": [
            "/usr/local/lib/python3.6/dist-packages/ipykernel_launcher.py:1: SettingWithCopyWarning: \n",
            "A value is trying to be set on a copy of a slice from a DataFrame.\n",
            "Try using .loc[row_indexer,col_indexer] = value instead\n",
            "\n",
            "See the caveats in the documentation: https://pandas.pydata.org/pandas-docs/stable/user_guide/indexing.html#returning-a-view-versus-a-copy\n",
            "  \"\"\"Entry point for launching an IPython kernel.\n",
            "/usr/local/lib/python3.6/dist-packages/pandas/core/indexing.py:966: SettingWithCopyWarning: \n",
            "A value is trying to be set on a copy of a slice from a DataFrame.\n",
            "Try using .loc[row_indexer,col_indexer] = value instead\n",
            "\n",
            "See the caveats in the documentation: https://pandas.pydata.org/pandas-docs/stable/user_guide/indexing.html#returning-a-view-versus-a-copy\n",
            "  self.obj[item] = s\n"
          ],
          "name": "stderr"
        }
      ]
    },
    {
      "cell_type": "code",
      "metadata": {
        "id": "NR86PSTlU-00",
        "colab_type": "code",
        "colab": {
          "base_uri": "https://localhost:8080/",
          "height": 138
        },
        "outputId": "6fd24e8b-acf1-4d48-a86f-b53977bd333a"
      },
      "source": [
        "df1.HourRange.value_counts()"
      ],
      "execution_count": 121,
      "outputs": [
        {
          "output_type": "execute_result",
          "data": {
            "text/plain": [
              "Hour 16 to 19    201\n",
              "Hour 12 to 15    160\n",
              "Hour 8 to 11     137\n",
              "Hour 20 to 23    104\n",
              "Hour 4 to 7       51\n",
              "Hour 0 to 3       31\n",
              "Name: HourRange, dtype: int64"
            ]
          },
          "metadata": {
            "tags": []
          },
          "execution_count": 121
        }
      ]
    },
    {
      "cell_type": "markdown",
      "metadata": {
        "id": "wWATtOvcv7GN",
        "colab_type": "text"
      },
      "source": [
        "**Create Dummy variables** for \"road_class\",\"loc_to_inter\",\"traffic_control\",\"visibility\",\"light\", \"road_cond\", \"acclass\", \"impactype\",\"invtype\", \"injury\", \"initdir\", \"vehtype\",\"manoeuver\", \"drivact\", \"drivcond\", \"pedtype\", \"pedact\", \"pedcond\", \"cycact\", \"cyccond\", HourRange Columns\n"
      ]
    },
    {
      "cell_type": "code",
      "metadata": {
        "id": "XFz8wCWrxfMA",
        "colab_type": "code",
        "colab": {
          "base_uri": "https://localhost:8080/",
          "height": 103
        },
        "outputId": "cdaae4e5-0ecc-4f04-f765-a7c4f91c07b6"
      },
      "source": [
        "df1.road_class.value_counts()"
      ],
      "execution_count": 122,
      "outputs": [
        {
          "output_type": "execute_result",
          "data": {
            "text/plain": [
              "Major Arterial    441\n",
              "Minor Arterial    152\n",
              "Collector          49\n",
              "Local              42\n",
              "Name: road_class, dtype: int64"
            ]
          },
          "metadata": {
            "tags": []
          },
          "execution_count": 122
        }
      ]
    },
    {
      "cell_type": "code",
      "metadata": {
        "id": "Es7GVOVAwBtD",
        "colab_type": "code",
        "colab": {
          "base_uri": "https://localhost:8080/",
          "height": 141
        },
        "outputId": "f6c48f63-732f-4a11-e426-3c0e580bb7c4"
      },
      "source": [
        "all_cols = df1.columns\n",
        "dummy_cols=[\"road_class\",\"intersection\",\"traffic_control\",\"visibility\",\"light\", \"road_cond\", \"acclass\", \"impactype\",\\\n",
        "          \"invtype\", \"initdir\", \"vehtype\",\"manoeuver\", \"cycact\", \"cyccond\"]\n",
        "## Take the top 2 categories of the variable\n",
        "top_2_lists =[]\n",
        "for cols in dummy_cols:\n",
        "  col_series = df[cols]\n",
        "  top_2 = [x for x in col_series.value_counts().sort_values(ascending=False).head(2).index]\n",
        "  top_2_lists.append(top_2)\n",
        "## loop to create dummy variable columns for all the columns in the list..only top2 categories are used \n",
        "# in creating these dummy variables\n",
        "i = 0\n",
        "for cols in dummy_cols:\n",
        "  new_l = top_2_lists[i]\n",
        "  for label in new_l:\n",
        "    df1[label+\"_\"+cols] = np.where(df1[cols]==label,1,0)\n",
        "  i+=1\n"
      ],
      "execution_count": 123,
      "outputs": [
        {
          "output_type": "stream",
          "text": [
            "/usr/local/lib/python3.6/dist-packages/ipykernel_launcher.py:15: SettingWithCopyWarning: \n",
            "A value is trying to be set on a copy of a slice from a DataFrame.\n",
            "Try using .loc[row_indexer,col_indexer] = value instead\n",
            "\n",
            "See the caveats in the documentation: https://pandas.pydata.org/pandas-docs/stable/user_guide/indexing.html#returning-a-view-versus-a-copy\n",
            "  from ipykernel import kernelapp as app\n"
          ],
          "name": "stderr"
        }
      ]
    },
    {
      "cell_type": "code",
      "metadata": {
        "id": "tTw3eJj4wjqo",
        "colab_type": "code",
        "colab": {}
      },
      "source": [
        "## CReate dummy variable  for HourRange colum\n",
        "df1=pd.get_dummies(df1, columns=['HourRange'], drop_first=True, prefix_sep='_')"
      ],
      "execution_count": 124,
      "outputs": []
    },
    {
      "cell_type": "code",
      "metadata": {
        "id": "blTGHHQYwJYN",
        "colab_type": "code",
        "colab": {
          "base_uri": "https://localhost:8080/",
          "height": 170
        },
        "outputId": "98f2c95f-0ebe-46c1-b72d-ad16f52068e1"
      },
      "source": [
        "## Drop the original columns\n",
        "dummy_cols =[\"road_class\",\"intersection\",\"traffic_control\",\"visibility\",\"light\", \"road_cond\", \"acclass\", \"impactype\",\\\n",
        "          \"invtype\", \"initdir\", \"vehtype\",\"manoeuver\", \"cycact\", \"cyccond\", 'hour']\n",
        "df1.drop(dummy_cols, axis=1,inplace=True)\n",
        "df1.head(1)"
      ],
      "execution_count": 125,
      "outputs": [
        {
          "output_type": "execute_result",
          "data": {
            "text/html": [
              "<div>\n",
              "<style scoped>\n",
              "    .dataframe tbody tr th:only-of-type {\n",
              "        vertical-align: middle;\n",
              "    }\n",
              "\n",
              "    .dataframe tbody tr th {\n",
              "        vertical-align: top;\n",
              "    }\n",
              "\n",
              "    .dataframe thead th {\n",
              "        text-align: right;\n",
              "    }\n",
              "</style>\n",
              "<table border=\"1\" class=\"dataframe\">\n",
              "  <thead>\n",
              "    <tr style=\"text-align: right;\">\n",
              "      <th></th>\n",
              "      <th>age</th>\n",
              "      <th>injury</th>\n",
              "      <th>pedestrian</th>\n",
              "      <th>automobile</th>\n",
              "      <th>truck</th>\n",
              "      <th>trsn_city_veh</th>\n",
              "      <th>emerg_veh</th>\n",
              "      <th>passenger</th>\n",
              "      <th>speeding</th>\n",
              "      <th>ag_driv</th>\n",
              "      <th>redlight</th>\n",
              "      <th>alcohol</th>\n",
              "      <th>Major Arterial_road_class</th>\n",
              "      <th>Minor Arterial_road_class</th>\n",
              "      <th>Intersection_intersection</th>\n",
              "      <th>Mid-Block_intersection</th>\n",
              "      <th>No Control_traffic_control</th>\n",
              "      <th>Traffic Signal_traffic_control</th>\n",
              "      <th>Clear_visibility</th>\n",
              "      <th>Rain_visibility</th>\n",
              "      <th>Daylight_light</th>\n",
              "      <th>Dark_light</th>\n",
              "      <th>Dry_road_cond</th>\n",
              "      <th>Wet_road_cond</th>\n",
              "      <th>Non-Fatal Injury_acclass</th>\n",
              "      <th>Fatal_acclass</th>\n",
              "      <th>Cyclist Collisions_impactype</th>\n",
              "      <th>Pedestrian Collisions_impactype</th>\n",
              "      <th>Cyclist_invtype</th>\n",
              "      <th>Driver_invtype</th>\n",
              "      <th>East_initdir</th>\n",
              "      <th>West_initdir</th>\n",
              "      <th>Bicycle_vehtype</th>\n",
              "      <th>Automobile, Station Wagon_vehtype</th>\n",
              "      <th>Going Ahead_manoeuver</th>\n",
              "      <th>Turning Left_manoeuver</th>\n",
              "      <th>Driving Properly_cycact</th>\n",
              "      <th>Disobeyed Traffic Control_cycact</th>\n",
              "      <th>Normal_cyccond</th>\n",
              "      <th>Inattentive_cyccond</th>\n",
              "      <th>HourRange_Hour 12 to 15</th>\n",
              "      <th>HourRange_Hour 16 to 19</th>\n",
              "      <th>HourRange_Hour 20 to 23</th>\n",
              "      <th>HourRange_Hour 4 to 7</th>\n",
              "      <th>HourRange_Hour 8 to 11</th>\n",
              "    </tr>\n",
              "  </thead>\n",
              "  <tbody>\n",
              "    <tr>\n",
              "      <th>0</th>\n",
              "      <td>20 to 24</td>\n",
              "      <td>Major</td>\n",
              "      <td>0</td>\n",
              "      <td>1</td>\n",
              "      <td>0</td>\n",
              "      <td>0</td>\n",
              "      <td>0</td>\n",
              "      <td>0</td>\n",
              "      <td>0</td>\n",
              "      <td>0</td>\n",
              "      <td>0</td>\n",
              "      <td>0</td>\n",
              "      <td>0</td>\n",
              "      <td>0</td>\n",
              "      <td>1</td>\n",
              "      <td>0</td>\n",
              "      <td>1</td>\n",
              "      <td>0</td>\n",
              "      <td>1</td>\n",
              "      <td>0</td>\n",
              "      <td>0</td>\n",
              "      <td>1</td>\n",
              "      <td>1</td>\n",
              "      <td>0</td>\n",
              "      <td>1</td>\n",
              "      <td>0</td>\n",
              "      <td>1</td>\n",
              "      <td>0</td>\n",
              "      <td>1</td>\n",
              "      <td>0</td>\n",
              "      <td>0</td>\n",
              "      <td>0</td>\n",
              "      <td>1</td>\n",
              "      <td>0</td>\n",
              "      <td>1</td>\n",
              "      <td>0</td>\n",
              "      <td>0</td>\n",
              "      <td>0</td>\n",
              "      <td>0</td>\n",
              "      <td>0</td>\n",
              "      <td>0</td>\n",
              "      <td>1</td>\n",
              "      <td>0</td>\n",
              "      <td>0</td>\n",
              "      <td>0</td>\n",
              "    </tr>\n",
              "  </tbody>\n",
              "</table>\n",
              "</div>"
            ],
            "text/plain": [
              "        age injury  ...  HourRange_Hour 4 to 7  HourRange_Hour 8 to 11\n",
              "0  20 to 24  Major  ...                      0                       0\n",
              "\n",
              "[1 rows x 45 columns]"
            ]
          },
          "metadata": {
            "tags": []
          },
          "execution_count": 125
        }
      ]
    },
    {
      "cell_type": "markdown",
      "metadata": {
        "id": "yWaSCvvpxyUo",
        "colab_type": "text"
      },
      "source": [
        "Create Prediction column **Fatal_Prediction** using Injury\n",
        "For Injury = Fatal. Fatal is 1 otherwise 0"
      ]
    },
    {
      "cell_type": "code",
      "metadata": {
        "id": "ALeeea3V0X4g",
        "colab_type": "code",
        "colab": {
          "base_uri": "https://localhost:8080/",
          "height": 121
        },
        "outputId": "a807ac1a-51fc-460f-a995-91afaa05c704"
      },
      "source": [
        "df1.injury.value_counts()"
      ],
      "execution_count": 126,
      "outputs": [
        {
          "output_type": "execute_result",
          "data": {
            "text/plain": [
              "Major      618\n",
              "Fatal       37\n",
              "None        15\n",
              "Minor        7\n",
              "Minimal      7\n",
              "Name: injury, dtype: int64"
            ]
          },
          "metadata": {
            "tags": []
          },
          "execution_count": 126
        }
      ]
    },
    {
      "cell_type": "code",
      "metadata": {
        "id": "VgFX_mUGwYhC",
        "colab_type": "code",
        "colab": {
          "base_uri": "https://localhost:8080/",
          "height": 236
        },
        "outputId": "9dc66482-0ea2-48eb-93ca-2be0aff53794"
      },
      "source": [
        "df1['Fatal_Prediction']= np.where(df1['injury']=='Fatal',1,0)\n",
        "#drop injury\n",
        "df1.drop(['injury'],axis=1,inplace=True)\n",
        "df1.head(2)"
      ],
      "execution_count": 127,
      "outputs": [
        {
          "output_type": "execute_result",
          "data": {
            "text/html": [
              "<div>\n",
              "<style scoped>\n",
              "    .dataframe tbody tr th:only-of-type {\n",
              "        vertical-align: middle;\n",
              "    }\n",
              "\n",
              "    .dataframe tbody tr th {\n",
              "        vertical-align: top;\n",
              "    }\n",
              "\n",
              "    .dataframe thead th {\n",
              "        text-align: right;\n",
              "    }\n",
              "</style>\n",
              "<table border=\"1\" class=\"dataframe\">\n",
              "  <thead>\n",
              "    <tr style=\"text-align: right;\">\n",
              "      <th></th>\n",
              "      <th>age</th>\n",
              "      <th>pedestrian</th>\n",
              "      <th>automobile</th>\n",
              "      <th>truck</th>\n",
              "      <th>trsn_city_veh</th>\n",
              "      <th>emerg_veh</th>\n",
              "      <th>passenger</th>\n",
              "      <th>speeding</th>\n",
              "      <th>ag_driv</th>\n",
              "      <th>redlight</th>\n",
              "      <th>alcohol</th>\n",
              "      <th>Major Arterial_road_class</th>\n",
              "      <th>Minor Arterial_road_class</th>\n",
              "      <th>Intersection_intersection</th>\n",
              "      <th>Mid-Block_intersection</th>\n",
              "      <th>No Control_traffic_control</th>\n",
              "      <th>Traffic Signal_traffic_control</th>\n",
              "      <th>Clear_visibility</th>\n",
              "      <th>Rain_visibility</th>\n",
              "      <th>Daylight_light</th>\n",
              "      <th>Dark_light</th>\n",
              "      <th>Dry_road_cond</th>\n",
              "      <th>Wet_road_cond</th>\n",
              "      <th>Non-Fatal Injury_acclass</th>\n",
              "      <th>Fatal_acclass</th>\n",
              "      <th>Cyclist Collisions_impactype</th>\n",
              "      <th>Pedestrian Collisions_impactype</th>\n",
              "      <th>Cyclist_invtype</th>\n",
              "      <th>Driver_invtype</th>\n",
              "      <th>East_initdir</th>\n",
              "      <th>West_initdir</th>\n",
              "      <th>Bicycle_vehtype</th>\n",
              "      <th>Automobile, Station Wagon_vehtype</th>\n",
              "      <th>Going Ahead_manoeuver</th>\n",
              "      <th>Turning Left_manoeuver</th>\n",
              "      <th>Driving Properly_cycact</th>\n",
              "      <th>Disobeyed Traffic Control_cycact</th>\n",
              "      <th>Normal_cyccond</th>\n",
              "      <th>Inattentive_cyccond</th>\n",
              "      <th>HourRange_Hour 12 to 15</th>\n",
              "      <th>HourRange_Hour 16 to 19</th>\n",
              "      <th>HourRange_Hour 20 to 23</th>\n",
              "      <th>HourRange_Hour 4 to 7</th>\n",
              "      <th>HourRange_Hour 8 to 11</th>\n",
              "      <th>Fatal_Prediction</th>\n",
              "    </tr>\n",
              "  </thead>\n",
              "  <tbody>\n",
              "    <tr>\n",
              "      <th>0</th>\n",
              "      <td>20 to 24</td>\n",
              "      <td>0</td>\n",
              "      <td>1</td>\n",
              "      <td>0</td>\n",
              "      <td>0</td>\n",
              "      <td>0</td>\n",
              "      <td>0</td>\n",
              "      <td>0</td>\n",
              "      <td>0</td>\n",
              "      <td>0</td>\n",
              "      <td>0</td>\n",
              "      <td>0</td>\n",
              "      <td>0</td>\n",
              "      <td>1</td>\n",
              "      <td>0</td>\n",
              "      <td>1</td>\n",
              "      <td>0</td>\n",
              "      <td>1</td>\n",
              "      <td>0</td>\n",
              "      <td>0</td>\n",
              "      <td>1</td>\n",
              "      <td>1</td>\n",
              "      <td>0</td>\n",
              "      <td>1</td>\n",
              "      <td>0</td>\n",
              "      <td>1</td>\n",
              "      <td>0</td>\n",
              "      <td>1</td>\n",
              "      <td>0</td>\n",
              "      <td>0</td>\n",
              "      <td>0</td>\n",
              "      <td>1</td>\n",
              "      <td>0</td>\n",
              "      <td>1</td>\n",
              "      <td>0</td>\n",
              "      <td>0</td>\n",
              "      <td>0</td>\n",
              "      <td>0</td>\n",
              "      <td>0</td>\n",
              "      <td>0</td>\n",
              "      <td>1</td>\n",
              "      <td>0</td>\n",
              "      <td>0</td>\n",
              "      <td>0</td>\n",
              "      <td>0</td>\n",
              "    </tr>\n",
              "    <tr>\n",
              "      <th>1</th>\n",
              "      <td>25 to 29</td>\n",
              "      <td>0</td>\n",
              "      <td>0</td>\n",
              "      <td>0</td>\n",
              "      <td>1</td>\n",
              "      <td>0</td>\n",
              "      <td>0</td>\n",
              "      <td>0</td>\n",
              "      <td>1</td>\n",
              "      <td>0</td>\n",
              "      <td>0</td>\n",
              "      <td>1</td>\n",
              "      <td>0</td>\n",
              "      <td>1</td>\n",
              "      <td>0</td>\n",
              "      <td>0</td>\n",
              "      <td>1</td>\n",
              "      <td>1</td>\n",
              "      <td>0</td>\n",
              "      <td>0</td>\n",
              "      <td>1</td>\n",
              "      <td>0</td>\n",
              "      <td>1</td>\n",
              "      <td>1</td>\n",
              "      <td>0</td>\n",
              "      <td>1</td>\n",
              "      <td>0</td>\n",
              "      <td>1</td>\n",
              "      <td>0</td>\n",
              "      <td>0</td>\n",
              "      <td>1</td>\n",
              "      <td>1</td>\n",
              "      <td>0</td>\n",
              "      <td>1</td>\n",
              "      <td>0</td>\n",
              "      <td>1</td>\n",
              "      <td>0</td>\n",
              "      <td>1</td>\n",
              "      <td>0</td>\n",
              "      <td>0</td>\n",
              "      <td>1</td>\n",
              "      <td>0</td>\n",
              "      <td>0</td>\n",
              "      <td>0</td>\n",
              "      <td>0</td>\n",
              "    </tr>\n",
              "  </tbody>\n",
              "</table>\n",
              "</div>"
            ],
            "text/plain": [
              "        age  pedestrian  ...  HourRange_Hour 8 to 11  Fatal_Prediction\n",
              "0  20 to 24           0  ...                       0                 0\n",
              "1  25 to 29           0  ...                       0                 0\n",
              "\n",
              "[2 rows x 45 columns]"
            ]
          },
          "metadata": {
            "tags": []
          },
          "execution_count": 127
        }
      ]
    },
    {
      "cell_type": "code",
      "metadata": {
        "id": "_gJNbpvWyYFW",
        "colab_type": "code",
        "colab": {}
      },
      "source": [
        "#create continous value for Age and drop the original columns\n",
        "age = pd.DataFrame(df1['age'])\n",
        "age['age'].replace(['unknown'],[''],inplace=True)\n",
        "new_age = age['age'].str.split(\" \", expand=True)\n",
        "new_age = new_age.drop(new_age.columns[1], axis=1)\n",
        "new_age = new_age.apply(pd.to_numeric, errors='coerce')\n",
        "new_age['Age'] = new_age.mean(axis=1)\n",
        "df1.insert(df1.columns.get_loc(\"age\"), \"New_Age\", new_age['Age'])\n",
        "df1.drop('age',axis=1,inplace=True)"
      ],
      "execution_count": 128,
      "outputs": []
    },
    {
      "cell_type": "code",
      "metadata": {
        "id": "4pVFgR0pzvYO",
        "colab_type": "code",
        "colab": {
          "base_uri": "https://localhost:8080/",
          "height": 166
        },
        "outputId": "6c124d57-01e0-437d-a037-b8c0e814c900"
      },
      "source": [
        "df1.reset_index(drop=True).head(2)"
      ],
      "execution_count": 129,
      "outputs": [
        {
          "output_type": "execute_result",
          "data": {
            "text/html": [
              "<div>\n",
              "<style scoped>\n",
              "    .dataframe tbody tr th:only-of-type {\n",
              "        vertical-align: middle;\n",
              "    }\n",
              "\n",
              "    .dataframe tbody tr th {\n",
              "        vertical-align: top;\n",
              "    }\n",
              "\n",
              "    .dataframe thead th {\n",
              "        text-align: right;\n",
              "    }\n",
              "</style>\n",
              "<table border=\"1\" class=\"dataframe\">\n",
              "  <thead>\n",
              "    <tr style=\"text-align: right;\">\n",
              "      <th></th>\n",
              "      <th>New_Age</th>\n",
              "      <th>pedestrian</th>\n",
              "      <th>automobile</th>\n",
              "      <th>truck</th>\n",
              "      <th>trsn_city_veh</th>\n",
              "      <th>emerg_veh</th>\n",
              "      <th>passenger</th>\n",
              "      <th>speeding</th>\n",
              "      <th>ag_driv</th>\n",
              "      <th>redlight</th>\n",
              "      <th>alcohol</th>\n",
              "      <th>Major Arterial_road_class</th>\n",
              "      <th>Minor Arterial_road_class</th>\n",
              "      <th>Intersection_intersection</th>\n",
              "      <th>Mid-Block_intersection</th>\n",
              "      <th>No Control_traffic_control</th>\n",
              "      <th>Traffic Signal_traffic_control</th>\n",
              "      <th>Clear_visibility</th>\n",
              "      <th>Rain_visibility</th>\n",
              "      <th>Daylight_light</th>\n",
              "      <th>Dark_light</th>\n",
              "      <th>Dry_road_cond</th>\n",
              "      <th>Wet_road_cond</th>\n",
              "      <th>Non-Fatal Injury_acclass</th>\n",
              "      <th>Fatal_acclass</th>\n",
              "      <th>Cyclist Collisions_impactype</th>\n",
              "      <th>Pedestrian Collisions_impactype</th>\n",
              "      <th>Cyclist_invtype</th>\n",
              "      <th>Driver_invtype</th>\n",
              "      <th>East_initdir</th>\n",
              "      <th>West_initdir</th>\n",
              "      <th>Bicycle_vehtype</th>\n",
              "      <th>Automobile, Station Wagon_vehtype</th>\n",
              "      <th>Going Ahead_manoeuver</th>\n",
              "      <th>Turning Left_manoeuver</th>\n",
              "      <th>Driving Properly_cycact</th>\n",
              "      <th>Disobeyed Traffic Control_cycact</th>\n",
              "      <th>Normal_cyccond</th>\n",
              "      <th>Inattentive_cyccond</th>\n",
              "      <th>HourRange_Hour 12 to 15</th>\n",
              "      <th>HourRange_Hour 16 to 19</th>\n",
              "      <th>HourRange_Hour 20 to 23</th>\n",
              "      <th>HourRange_Hour 4 to 7</th>\n",
              "      <th>HourRange_Hour 8 to 11</th>\n",
              "      <th>Fatal_Prediction</th>\n",
              "    </tr>\n",
              "  </thead>\n",
              "  <tbody>\n",
              "    <tr>\n",
              "      <th>0</th>\n",
              "      <td>22.0</td>\n",
              "      <td>0</td>\n",
              "      <td>1</td>\n",
              "      <td>0</td>\n",
              "      <td>0</td>\n",
              "      <td>0</td>\n",
              "      <td>0</td>\n",
              "      <td>0</td>\n",
              "      <td>0</td>\n",
              "      <td>0</td>\n",
              "      <td>0</td>\n",
              "      <td>0</td>\n",
              "      <td>0</td>\n",
              "      <td>1</td>\n",
              "      <td>0</td>\n",
              "      <td>1</td>\n",
              "      <td>0</td>\n",
              "      <td>1</td>\n",
              "      <td>0</td>\n",
              "      <td>0</td>\n",
              "      <td>1</td>\n",
              "      <td>1</td>\n",
              "      <td>0</td>\n",
              "      <td>1</td>\n",
              "      <td>0</td>\n",
              "      <td>1</td>\n",
              "      <td>0</td>\n",
              "      <td>1</td>\n",
              "      <td>0</td>\n",
              "      <td>0</td>\n",
              "      <td>0</td>\n",
              "      <td>1</td>\n",
              "      <td>0</td>\n",
              "      <td>1</td>\n",
              "      <td>0</td>\n",
              "      <td>0</td>\n",
              "      <td>0</td>\n",
              "      <td>0</td>\n",
              "      <td>0</td>\n",
              "      <td>0</td>\n",
              "      <td>1</td>\n",
              "      <td>0</td>\n",
              "      <td>0</td>\n",
              "      <td>0</td>\n",
              "      <td>0</td>\n",
              "    </tr>\n",
              "    <tr>\n",
              "      <th>1</th>\n",
              "      <td>27.0</td>\n",
              "      <td>0</td>\n",
              "      <td>0</td>\n",
              "      <td>0</td>\n",
              "      <td>1</td>\n",
              "      <td>0</td>\n",
              "      <td>0</td>\n",
              "      <td>0</td>\n",
              "      <td>1</td>\n",
              "      <td>0</td>\n",
              "      <td>0</td>\n",
              "      <td>1</td>\n",
              "      <td>0</td>\n",
              "      <td>1</td>\n",
              "      <td>0</td>\n",
              "      <td>0</td>\n",
              "      <td>1</td>\n",
              "      <td>1</td>\n",
              "      <td>0</td>\n",
              "      <td>0</td>\n",
              "      <td>1</td>\n",
              "      <td>0</td>\n",
              "      <td>1</td>\n",
              "      <td>1</td>\n",
              "      <td>0</td>\n",
              "      <td>1</td>\n",
              "      <td>0</td>\n",
              "      <td>1</td>\n",
              "      <td>0</td>\n",
              "      <td>0</td>\n",
              "      <td>1</td>\n",
              "      <td>1</td>\n",
              "      <td>0</td>\n",
              "      <td>1</td>\n",
              "      <td>0</td>\n",
              "      <td>1</td>\n",
              "      <td>0</td>\n",
              "      <td>1</td>\n",
              "      <td>0</td>\n",
              "      <td>0</td>\n",
              "      <td>1</td>\n",
              "      <td>0</td>\n",
              "      <td>0</td>\n",
              "      <td>0</td>\n",
              "      <td>0</td>\n",
              "    </tr>\n",
              "  </tbody>\n",
              "</table>\n",
              "</div>"
            ],
            "text/plain": [
              "   New_Age  pedestrian  ...  HourRange_Hour 8 to 11  Fatal_Prediction\n",
              "0     22.0           0  ...                       0                 0\n",
              "1     27.0           0  ...                       0                 0\n",
              "\n",
              "[2 rows x 45 columns]"
            ]
          },
          "metadata": {
            "tags": []
          },
          "execution_count": 129
        }
      ]
    },
    {
      "cell_type": "code",
      "metadata": {
        "id": "KRm4gahlz2gK",
        "colab_type": "code",
        "colab": {
          "base_uri": "https://localhost:8080/",
          "height": 814
        },
        "outputId": "c5634dce-17dc-417a-b6d6-78ac0468a74b"
      },
      "source": [
        "df1.isnull().sum()"
      ],
      "execution_count": 130,
      "outputs": [
        {
          "output_type": "execute_result",
          "data": {
            "text/plain": [
              "New_Age                              4\n",
              "pedestrian                           0\n",
              "automobile                           0\n",
              "truck                                0\n",
              "trsn_city_veh                        0\n",
              "emerg_veh                            0\n",
              "passenger                            0\n",
              "speeding                             0\n",
              "ag_driv                              0\n",
              "redlight                             0\n",
              "alcohol                              0\n",
              "Major Arterial_road_class            0\n",
              "Minor Arterial_road_class            0\n",
              "Intersection_intersection            0\n",
              "Mid-Block_intersection               0\n",
              "No Control_traffic_control           0\n",
              "Traffic Signal_traffic_control       0\n",
              "Clear_visibility                     0\n",
              "Rain_visibility                      0\n",
              "Daylight_light                       0\n",
              "Dark_light                           0\n",
              "Dry_road_cond                        0\n",
              "Wet_road_cond                        0\n",
              "Non-Fatal Injury_acclass             0\n",
              "Fatal_acclass                        0\n",
              "Cyclist Collisions_impactype         0\n",
              "Pedestrian Collisions_impactype      0\n",
              "Cyclist_invtype                      0\n",
              "Driver_invtype                       0\n",
              "East_initdir                         0\n",
              "West_initdir                         0\n",
              "Bicycle_vehtype                      0\n",
              "Automobile, Station Wagon_vehtype    0\n",
              "Going Ahead_manoeuver                0\n",
              "Turning Left_manoeuver               0\n",
              "Driving Properly_cycact              0\n",
              "Disobeyed Traffic Control_cycact     0\n",
              "Normal_cyccond                       0\n",
              "Inattentive_cyccond                  0\n",
              "HourRange_Hour 12 to 15              0\n",
              "HourRange_Hour 16 to 19              0\n",
              "HourRange_Hour 20 to 23              0\n",
              "HourRange_Hour 4 to 7                0\n",
              "HourRange_Hour 8 to 11               0\n",
              "Fatal_Prediction                     0\n",
              "dtype: int64"
            ]
          },
          "metadata": {
            "tags": []
          },
          "execution_count": 130
        }
      ]
    },
    {
      "cell_type": "code",
      "metadata": {
        "id": "FCRMhNTvy9xS",
        "colab_type": "code",
        "colab": {}
      },
      "source": [
        "## fill the 4 missing age \n",
        "df1.fillna(value=np.mean(df1['New_Age']), inplace=True)"
      ],
      "execution_count": 131,
      "outputs": []
    },
    {
      "cell_type": "markdown",
      "metadata": {
        "id": "1_fuJnXb0t6f",
        "colab_type": "text"
      },
      "source": [
        "**Peform oversampling using SMOTE to balance the data**"
      ]
    },
    {
      "cell_type": "code",
      "metadata": {
        "id": "GhXRRu7n0jqD",
        "colab_type": "code",
        "colab": {
          "base_uri": "https://localhost:8080/",
          "height": 276
        },
        "outputId": "00e392c1-cdf3-42d2-b9f3-02ca0d9e1861"
      },
      "source": [
        "df1['Fatal_Prediction'].value_counts().plot(kind='bar')\n",
        "plt.xlabel(\"Fatal or Not\")\n",
        "plt.ylabel(\"Total Injuries\")\n",
        "plt.xticks()\n",
        "plt.show()"
      ],
      "execution_count": 132,
      "outputs": [
        {
          "output_type": "display_data",
          "data": {
            "image/png": "[encoded data removed]",
            "text/plain": [
              "<Figure size 432x288 with 1 Axes>"
            ]
          },
          "metadata": {
            "tags": [],
            "needs_background": "light"
          }
        }
      ]
    },
    {
      "cell_type": "code",
      "metadata": {
        "id": "I8ZkpW_W074A",
        "colab_type": "code",
        "colab": {
          "base_uri": "https://localhost:8080/",
          "height": 71
        },
        "outputId": "9c918aa0-d096-4098-e2b5-6965a2cc49e9"
      },
      "source": [
        "# SPlit the dataframe into X and Y ..X is the depednet and Y is independent variable\n",
        "X = df1.iloc[:, :-1]\n",
        "Y = df1.iloc[:, -1]\n",
        "# Save the columns name in X_columns variable\n",
        "X_Columns = list(X.columns)\n",
        "print(X_Columns)\n",
        "len(X_Columns)"
      ],
      "execution_count": 133,
      "outputs": [
        {
          "output_type": "stream",
          "text": [
            "['New_Age', 'pedestrian', 'automobile', 'truck', 'trsn_city_veh', 'emerg_veh', 'passenger', 'speeding', 'ag_driv', 'redlight', 'alcohol', 'Major Arterial_road_class', 'Minor Arterial_road_class', 'Intersection_intersection', 'Mid-Block_intersection', 'No Control_traffic_control', 'Traffic Signal_traffic_control', 'Clear_visibility', 'Rain_visibility', 'Daylight_light', 'Dark_light', 'Dry_road_cond', 'Wet_road_cond', 'Non-Fatal Injury_acclass', 'Fatal_acclass', 'Cyclist Collisions_impactype', 'Pedestrian Collisions_impactype', 'Cyclist_invtype', 'Driver_invtype', 'East_initdir', 'West_initdir', 'Bicycle_vehtype', 'Automobile, Station Wagon_vehtype', 'Going Ahead_manoeuver', 'Turning Left_manoeuver', 'Driving Properly_cycact', 'Disobeyed Traffic Control_cycact', 'Normal_cyccond', 'Inattentive_cyccond', 'HourRange_Hour 12 to 15', 'HourRange_Hour 16 to 19', 'HourRange_Hour 20 to 23', 'HourRange_Hour 4 to 7', 'HourRange_Hour 8 to 11']\n"
          ],
          "name": "stdout"
        },
        {
          "output_type": "execute_result",
          "data": {
            "text/plain": [
              "44"
            ]
          },
          "metadata": {
            "tags": []
          },
          "execution_count": 133
        }
      ]
    },
    {
      "cell_type": "markdown",
      "metadata": {
        "id": "iZ5A6-mT8BbE",
        "colab_type": "text"
      },
      "source": [
        "**Split the data into Train and Test sets**"
      ]
    },
    {
      "cell_type": "code",
      "metadata": {
        "id": "k-EGxJTG8AnO",
        "colab_type": "code",
        "colab": {
          "base_uri": "https://localhost:8080/",
          "height": 236
        },
        "outputId": "b60d2d74-5f75-47a9-f857-12f9500f4888"
      },
      "source": [
        "from sklearn.model_selection import train_test_split\n",
        "X_train, X_test, y_train, y_test = train_test_split(X,Y, test_size=0.25, random_state=101)\n",
        "print(f\"X Train shape {X_train.shape}\")\n",
        "print(f\"X Test shape {X_test.shape}\")\n",
        "print(f\"y Train shape {y_train.shape}\")\n",
        "print(f\"y Test shape {y_train.shape}\")\n",
        "\n",
        "X_train.head(2)"
      ],
      "execution_count": 134,
      "outputs": [
        {
          "output_type": "stream",
          "text": [
            "X Train shape (513, 44)\n",
            "X Test shape (171, 44)\n",
            "y Train shape (513,)\n",
            "y Test shape (513,)\n"
          ],
          "name": "stdout"
        },
        {
          "output_type": "execute_result",
          "data": {
            "text/html": [
              "<div>\n",
              "<style scoped>\n",
              "    .dataframe tbody tr th:only-of-type {\n",
              "        vertical-align: middle;\n",
              "    }\n",
              "\n",
              "    .dataframe tbody tr th {\n",
              "        vertical-align: top;\n",
              "    }\n",
              "\n",
              "    .dataframe thead th {\n",
              "        text-align: right;\n",
              "    }\n",
              "</style>\n",
              "<table border=\"1\" class=\"dataframe\">\n",
              "  <thead>\n",
              "    <tr style=\"text-align: right;\">\n",
              "      <th></th>\n",
              "      <th>New_Age</th>\n",
              "      <th>pedestrian</th>\n",
              "      <th>automobile</th>\n",
              "      <th>truck</th>\n",
              "      <th>trsn_city_veh</th>\n",
              "      <th>emerg_veh</th>\n",
              "      <th>passenger</th>\n",
              "      <th>speeding</th>\n",
              "      <th>ag_driv</th>\n",
              "      <th>redlight</th>\n",
              "      <th>alcohol</th>\n",
              "      <th>Major Arterial_road_class</th>\n",
              "      <th>Minor Arterial_road_class</th>\n",
              "      <th>Intersection_intersection</th>\n",
              "      <th>Mid-Block_intersection</th>\n",
              "      <th>No Control_traffic_control</th>\n",
              "      <th>Traffic Signal_traffic_control</th>\n",
              "      <th>Clear_visibility</th>\n",
              "      <th>Rain_visibility</th>\n",
              "      <th>Daylight_light</th>\n",
              "      <th>Dark_light</th>\n",
              "      <th>Dry_road_cond</th>\n",
              "      <th>Wet_road_cond</th>\n",
              "      <th>Non-Fatal Injury_acclass</th>\n",
              "      <th>Fatal_acclass</th>\n",
              "      <th>Cyclist Collisions_impactype</th>\n",
              "      <th>Pedestrian Collisions_impactype</th>\n",
              "      <th>Cyclist_invtype</th>\n",
              "      <th>Driver_invtype</th>\n",
              "      <th>East_initdir</th>\n",
              "      <th>West_initdir</th>\n",
              "      <th>Bicycle_vehtype</th>\n",
              "      <th>Automobile, Station Wagon_vehtype</th>\n",
              "      <th>Going Ahead_manoeuver</th>\n",
              "      <th>Turning Left_manoeuver</th>\n",
              "      <th>Driving Properly_cycact</th>\n",
              "      <th>Disobeyed Traffic Control_cycact</th>\n",
              "      <th>Normal_cyccond</th>\n",
              "      <th>Inattentive_cyccond</th>\n",
              "      <th>HourRange_Hour 12 to 15</th>\n",
              "      <th>HourRange_Hour 16 to 19</th>\n",
              "      <th>HourRange_Hour 20 to 23</th>\n",
              "      <th>HourRange_Hour 4 to 7</th>\n",
              "      <th>HourRange_Hour 8 to 11</th>\n",
              "    </tr>\n",
              "  </thead>\n",
              "  <tbody>\n",
              "    <tr>\n",
              "      <th>617</th>\n",
              "      <td>37.0</td>\n",
              "      <td>0</td>\n",
              "      <td>1</td>\n",
              "      <td>0</td>\n",
              "      <td>0</td>\n",
              "      <td>0</td>\n",
              "      <td>0</td>\n",
              "      <td>0</td>\n",
              "      <td>1</td>\n",
              "      <td>0</td>\n",
              "      <td>0</td>\n",
              "      <td>0</td>\n",
              "      <td>1</td>\n",
              "      <td>0</td>\n",
              "      <td>1</td>\n",
              "      <td>1</td>\n",
              "      <td>0</td>\n",
              "      <td>1</td>\n",
              "      <td>0</td>\n",
              "      <td>0</td>\n",
              "      <td>0</td>\n",
              "      <td>1</td>\n",
              "      <td>0</td>\n",
              "      <td>1</td>\n",
              "      <td>0</td>\n",
              "      <td>1</td>\n",
              "      <td>0</td>\n",
              "      <td>1</td>\n",
              "      <td>0</td>\n",
              "      <td>0</td>\n",
              "      <td>0</td>\n",
              "      <td>1</td>\n",
              "      <td>0</td>\n",
              "      <td>0</td>\n",
              "      <td>0</td>\n",
              "      <td>1</td>\n",
              "      <td>0</td>\n",
              "      <td>1</td>\n",
              "      <td>0</td>\n",
              "      <td>0</td>\n",
              "      <td>0</td>\n",
              "      <td>1</td>\n",
              "      <td>0</td>\n",
              "      <td>0</td>\n",
              "    </tr>\n",
              "    <tr>\n",
              "      <th>336</th>\n",
              "      <td>22.0</td>\n",
              "      <td>0</td>\n",
              "      <td>1</td>\n",
              "      <td>0</td>\n",
              "      <td>0</td>\n",
              "      <td>0</td>\n",
              "      <td>0</td>\n",
              "      <td>0</td>\n",
              "      <td>0</td>\n",
              "      <td>0</td>\n",
              "      <td>0</td>\n",
              "      <td>1</td>\n",
              "      <td>0</td>\n",
              "      <td>1</td>\n",
              "      <td>0</td>\n",
              "      <td>1</td>\n",
              "      <td>0</td>\n",
              "      <td>0</td>\n",
              "      <td>1</td>\n",
              "      <td>1</td>\n",
              "      <td>0</td>\n",
              "      <td>0</td>\n",
              "      <td>1</td>\n",
              "      <td>1</td>\n",
              "      <td>0</td>\n",
              "      <td>1</td>\n",
              "      <td>0</td>\n",
              "      <td>1</td>\n",
              "      <td>0</td>\n",
              "      <td>0</td>\n",
              "      <td>1</td>\n",
              "      <td>1</td>\n",
              "      <td>0</td>\n",
              "      <td>0</td>\n",
              "      <td>0</td>\n",
              "      <td>1</td>\n",
              "      <td>0</td>\n",
              "      <td>0</td>\n",
              "      <td>0</td>\n",
              "      <td>0</td>\n",
              "      <td>1</td>\n",
              "      <td>0</td>\n",
              "      <td>0</td>\n",
              "      <td>0</td>\n",
              "    </tr>\n",
              "  </tbody>\n",
              "</table>\n",
              "</div>"
            ],
            "text/plain": [
              "     New_Age  pedestrian  ...  HourRange_Hour 4 to 7  HourRange_Hour 8 to 11\n",
              "617     37.0           0  ...                      0                       0\n",
              "336     22.0           0  ...                      0                       0\n",
              "\n",
              "[2 rows x 44 columns]"
            ]
          },
          "metadata": {
            "tags": []
          },
          "execution_count": 134
        }
      ]
    },
    {
      "cell_type": "code",
      "metadata": {
        "id": "PEjB0P5S1Npy",
        "colab_type": "code",
        "colab": {
          "base_uri": "https://localhost:8080/",
          "height": 106
        },
        "outputId": "16c96fbd-1931-48b9-993b-cbc55410fc17"
      },
      "source": [
        "## \n",
        "from imblearn.over_sampling import SMOTE \n",
        "sm = SMOTE(random_state = 12, ratio=0.25)\n",
        "X_train_res, y_train_res = sm.fit_sample(X_train,y_train)\n",
        "\n",
        "print(f\"X Train shape after sampling {X_train_res.shape}\")\n",
        "print(f\"y train shape fter sampling  {y_train_res.shape}\")\n"
      ],
      "execution_count": 135,
      "outputs": [
        {
          "output_type": "stream",
          "text": [
            "X Train shape after sampling (603, 44)\n",
            "y train shape fter sampling  (603,)\n"
          ],
          "name": "stdout"
        },
        {
          "output_type": "stream",
          "text": [
            "/usr/local/lib/python3.6/dist-packages/sklearn/utils/deprecation.py:87: FutureWarning: Function safe_indexing is deprecated; safe_indexing is deprecated in version 0.22 and will be removed in version 0.24.\n",
            "  warnings.warn(msg, category=FutureWarning)\n"
          ],
          "name": "stderr"
        }
      ]
    },
    {
      "cell_type": "code",
      "metadata": {
        "id": "nJJxfB-a1UtJ",
        "colab_type": "code",
        "colab": {
          "base_uri": "https://localhost:8080/",
          "height": 34
        },
        "outputId": "2e4027c7-f4fc-40bc-b7ad-7d4e521c677f"
      },
      "source": [
        "## Check the Y column (which is Fatal_prediction).. Y column should have balanced 1's and 0's (1 is to 4 ratio)\n",
        "X_train_res.shape, y_train_res.shape\n",
        "import collections as cl\n",
        "cl.Counter(y_train_res)"
      ],
      "execution_count": 136,
      "outputs": [
        {
          "output_type": "execute_result",
          "data": {
            "text/plain": [
              "Counter({0: 483, 1: 120})"
            ]
          },
          "metadata": {
            "tags": []
          },
          "execution_count": 136
        }
      ]
    },
    {
      "cell_type": "markdown",
      "metadata": {
        "id": "VkF_LYUozJnV",
        "colab_type": "text"
      },
      "source": [
        "**Import Logistic model function and train the data on training set in the model**\n"
      ]
    },
    {
      "cell_type": "code",
      "metadata": {
        "id": "rqzBlRIw5QgX",
        "colab_type": "code",
        "colab": {
          "base_uri": "https://localhost:8080/",
          "height": 397
        },
        "outputId": "99c1a4c8-9180-4181-8ebd-0badc4da3901"
      },
      "source": [
        "from statsmodels.discrete import discrete_model as sm\n",
        "model = sm.Logit(y_train_res,X_train_res)\n",
        "result = model.fit()\n",
        "##** The model is giving error \"Perfect separation detected, results not available\".\n",
        "## we may have some variables which are highly imbalanced..Drop highly imbalanced variables"
      ],
      "execution_count": 137,
      "outputs": [
        {
          "output_type": "error",
          "ename": "PerfectSeparationError",
          "evalue": "ignored",
          "traceback": [
            "\u001b[0;31m---------------------------------------------------------------------------\u001b[0m",
            "\u001b[0;31mPerfectSeparationError\u001b[0m                    Traceback (most recent call last)",
            "\u001b[0;32m<ipython-input-137-d5781d6d02e8>\u001b[0m in \u001b[0;36m<module>\u001b[0;34m()\u001b[0m\n\u001b[1;32m      1\u001b[0m \u001b[0;32mfrom\u001b[0m \u001b[0mstatsmodels\u001b[0m\u001b[0;34m.\u001b[0m\u001b[0mdiscrete\u001b[0m \u001b[0;32mimport\u001b[0m \u001b[0mdiscrete_model\u001b[0m \u001b[0;32mas\u001b[0m \u001b[0msm\u001b[0m\u001b[0;34m\u001b[0m\u001b[0;34m\u001b[0m\u001b[0m\n\u001b[1;32m      2\u001b[0m \u001b[0mmodel\u001b[0m \u001b[0;34m=\u001b[0m \u001b[0msm\u001b[0m\u001b[0;34m.\u001b[0m\u001b[0mLogit\u001b[0m\u001b[0;34m(\u001b[0m\u001b[0my_train_res\u001b[0m\u001b[0;34m,\u001b[0m\u001b[0mX_train_res\u001b[0m\u001b[0;34m)\u001b[0m\u001b[0;34m\u001b[0m\u001b[0;34m\u001b[0m\u001b[0m\n\u001b[0;32m----> 3\u001b[0;31m \u001b[0mresult\u001b[0m \u001b[0;34m=\u001b[0m \u001b[0mmodel\u001b[0m\u001b[0;34m.\u001b[0m\u001b[0mfit\u001b[0m\u001b[0;34m(\u001b[0m\u001b[0;34m)\u001b[0m\u001b[0;34m\u001b[0m\u001b[0;34m\u001b[0m\u001b[0m\n\u001b[0m\u001b[1;32m      4\u001b[0m \u001b[0;31m##** The model is giving error \"Perfect separation detected, results not available\".\u001b[0m\u001b[0;34m\u001b[0m\u001b[0;34m\u001b[0m\u001b[0;34m\u001b[0m\u001b[0m\n\u001b[1;32m      5\u001b[0m \u001b[0;31m## we may have some variables which are highly imbalanced..Drop highly imbalanced variables\u001b[0m\u001b[0;34m\u001b[0m\u001b[0;34m\u001b[0m\u001b[0;34m\u001b[0m\u001b[0m\n",
            "\u001b[0;32m/usr/local/lib/python3.6/dist-packages/statsmodels/discrete/discrete_model.py\u001b[0m in \u001b[0;36mfit\u001b[0;34m(self, start_params, method, maxiter, full_output, disp, callback, **kwargs)\u001b[0m\n\u001b[1;32m   1900\u001b[0m         bnryfit = super(Logit, self).fit(start_params=start_params,\n\u001b[1;32m   1901\u001b[0m                 \u001b[0mmethod\u001b[0m\u001b[0;34m=\u001b[0m\u001b[0mmethod\u001b[0m\u001b[0;34m,\u001b[0m \u001b[0mmaxiter\u001b[0m\u001b[0;34m=\u001b[0m\u001b[0mmaxiter\u001b[0m\u001b[0;34m,\u001b[0m \u001b[0mfull_output\u001b[0m\u001b[0;34m=\u001b[0m\u001b[0mfull_output\u001b[0m\u001b[0;34m,\u001b[0m\u001b[0;34m\u001b[0m\u001b[0;34m\u001b[0m\u001b[0m\n\u001b[0;32m-> 1902\u001b[0;31m                 disp=disp, callback=callback, **kwargs)\n\u001b[0m\u001b[1;32m   1903\u001b[0m \u001b[0;34m\u001b[0m\u001b[0m\n\u001b[1;32m   1904\u001b[0m         \u001b[0mdiscretefit\u001b[0m \u001b[0;34m=\u001b[0m \u001b[0mLogitResults\u001b[0m\u001b[0;34m(\u001b[0m\u001b[0mself\u001b[0m\u001b[0;34m,\u001b[0m \u001b[0mbnryfit\u001b[0m\u001b[0;34m)\u001b[0m\u001b[0;34m\u001b[0m\u001b[0;34m\u001b[0m\u001b[0m\n",
            "\u001b[0;32m/usr/local/lib/python3.6/dist-packages/statsmodels/discrete/discrete_model.py\u001b[0m in \u001b[0;36mfit\u001b[0;34m(self, start_params, method, maxiter, full_output, disp, callback, **kwargs)\u001b[0m\n\u001b[1;32m    215\u001b[0m         mlefit = super(DiscreteModel, self).fit(start_params=start_params,\n\u001b[1;32m    216\u001b[0m                 \u001b[0mmethod\u001b[0m\u001b[0;34m=\u001b[0m\u001b[0mmethod\u001b[0m\u001b[0;34m,\u001b[0m \u001b[0mmaxiter\u001b[0m\u001b[0;34m=\u001b[0m\u001b[0mmaxiter\u001b[0m\u001b[0;34m,\u001b[0m \u001b[0mfull_output\u001b[0m\u001b[0;34m=\u001b[0m\u001b[0mfull_output\u001b[0m\u001b[0;34m,\u001b[0m\u001b[0;34m\u001b[0m\u001b[0;34m\u001b[0m\u001b[0m\n\u001b[0;32m--> 217\u001b[0;31m                 disp=disp, callback=callback, **kwargs)\n\u001b[0m\u001b[1;32m    218\u001b[0m \u001b[0;34m\u001b[0m\u001b[0m\n\u001b[1;32m    219\u001b[0m         \u001b[0;32mreturn\u001b[0m \u001b[0mmlefit\u001b[0m \u001b[0;31m# up to subclasses to wrap results\u001b[0m\u001b[0;34m\u001b[0m\u001b[0;34m\u001b[0m\u001b[0m\n",
            "\u001b[0;32m/usr/local/lib/python3.6/dist-packages/statsmodels/base/model.py\u001b[0m in \u001b[0;36mfit\u001b[0;34m(self, start_params, method, maxiter, full_output, disp, fargs, callback, retall, skip_hessian, **kwargs)\u001b[0m\n\u001b[1;32m    468\u001b[0m                                                        \u001b[0mcallback\u001b[0m\u001b[0;34m=\u001b[0m\u001b[0mcallback\u001b[0m\u001b[0;34m,\u001b[0m\u001b[0;34m\u001b[0m\u001b[0;34m\u001b[0m\u001b[0m\n\u001b[1;32m    469\u001b[0m                                                        \u001b[0mretall\u001b[0m\u001b[0;34m=\u001b[0m\u001b[0mretall\u001b[0m\u001b[0;34m,\u001b[0m\u001b[0;34m\u001b[0m\u001b[0;34m\u001b[0m\u001b[0m\n\u001b[0;32m--> 470\u001b[0;31m                                                        full_output=full_output)\n\u001b[0m\u001b[1;32m    471\u001b[0m \u001b[0;34m\u001b[0m\u001b[0m\n\u001b[1;32m    472\u001b[0m         \u001b[0;31m# NOTE: this is for fit_regularized and should be generalized\u001b[0m\u001b[0;34m\u001b[0m\u001b[0;34m\u001b[0m\u001b[0;34m\u001b[0m\u001b[0m\n",
            "\u001b[0;32m/usr/local/lib/python3.6/dist-packages/statsmodels/base/optimizer.py\u001b[0m in \u001b[0;36m_fit\u001b[0;34m(self, objective, gradient, start_params, fargs, kwargs, hessian, method, maxiter, full_output, disp, callback, retall)\u001b[0m\n\u001b[1;32m    217\u001b[0m                             \u001b[0mdisp\u001b[0m\u001b[0;34m=\u001b[0m\u001b[0mdisp\u001b[0m\u001b[0;34m,\u001b[0m \u001b[0mmaxiter\u001b[0m\u001b[0;34m=\u001b[0m\u001b[0mmaxiter\u001b[0m\u001b[0;34m,\u001b[0m \u001b[0mcallback\u001b[0m\u001b[0;34m=\u001b[0m\u001b[0mcallback\u001b[0m\u001b[0;34m,\u001b[0m\u001b[0;34m\u001b[0m\u001b[0;34m\u001b[0m\u001b[0m\n\u001b[1;32m    218\u001b[0m                             \u001b[0mretall\u001b[0m\u001b[0;34m=\u001b[0m\u001b[0mretall\u001b[0m\u001b[0;34m,\u001b[0m \u001b[0mfull_output\u001b[0m\u001b[0;34m=\u001b[0m\u001b[0mfull_output\u001b[0m\u001b[0;34m,\u001b[0m\u001b[0;34m\u001b[0m\u001b[0;34m\u001b[0m\u001b[0m\n\u001b[0;32m--> 219\u001b[0;31m                             hess=hessian)\n\u001b[0m\u001b[1;32m    220\u001b[0m \u001b[0;34m\u001b[0m\u001b[0m\n\u001b[1;32m    221\u001b[0m         optim_settings = {'optimizer': method, 'start_params': start_params,\n",
            "\u001b[0;32m/usr/local/lib/python3.6/dist-packages/statsmodels/base/optimizer.py\u001b[0m in \u001b[0;36m_fit_newton\u001b[0;34m(f, score, start_params, fargs, kwargs, disp, maxiter, callback, retall, full_output, hess, ridge_factor)\u001b[0m\n\u001b[1;32m    309\u001b[0m             \u001b[0mhistory\u001b[0m\u001b[0;34m.\u001b[0m\u001b[0mappend\u001b[0m\u001b[0;34m(\u001b[0m\u001b[0mnewparams\u001b[0m\u001b[0;34m)\u001b[0m\u001b[0;34m\u001b[0m\u001b[0;34m\u001b[0m\u001b[0m\n\u001b[1;32m    310\u001b[0m         \u001b[0;32mif\u001b[0m \u001b[0mcallback\u001b[0m \u001b[0;32mis\u001b[0m \u001b[0;32mnot\u001b[0m \u001b[0;32mNone\u001b[0m\u001b[0;34m:\u001b[0m\u001b[0;34m\u001b[0m\u001b[0;34m\u001b[0m\u001b[0m\n\u001b[0;32m--> 311\u001b[0;31m             \u001b[0mcallback\u001b[0m\u001b[0;34m(\u001b[0m\u001b[0mnewparams\u001b[0m\u001b[0;34m)\u001b[0m\u001b[0;34m\u001b[0m\u001b[0;34m\u001b[0m\u001b[0m\n\u001b[0m\u001b[1;32m    312\u001b[0m         \u001b[0miterations\u001b[0m \u001b[0;34m+=\u001b[0m \u001b[0;36m1\u001b[0m\u001b[0;34m\u001b[0m\u001b[0;34m\u001b[0m\u001b[0m\n\u001b[1;32m    313\u001b[0m     \u001b[0mfval\u001b[0m \u001b[0;34m=\u001b[0m \u001b[0mf\u001b[0m\u001b[0;34m(\u001b[0m\u001b[0mnewparams\u001b[0m\u001b[0;34m,\u001b[0m \u001b[0;34m*\u001b[0m\u001b[0mfargs\u001b[0m\u001b[0;34m)\u001b[0m  \u001b[0;31m# this is the negative likelihood\u001b[0m\u001b[0;34m\u001b[0m\u001b[0;34m\u001b[0m\u001b[0m\n",
            "\u001b[0;32m/usr/local/lib/python3.6/dist-packages/statsmodels/discrete/discrete_model.py\u001b[0m in \u001b[0;36m_check_perfect_pred\u001b[0;34m(self, params, *args)\u001b[0m\n\u001b[1;32m    198\u001b[0m                 np.allclose(fittedvalues - endog, 0)):\n\u001b[1;32m    199\u001b[0m             \u001b[0mmsg\u001b[0m \u001b[0;34m=\u001b[0m \u001b[0;34m\"Perfect separation detected, results not available\"\u001b[0m\u001b[0;34m\u001b[0m\u001b[0;34m\u001b[0m\u001b[0m\n\u001b[0;32m--> 200\u001b[0;31m             \u001b[0;32mraise\u001b[0m \u001b[0mPerfectSeparationError\u001b[0m\u001b[0;34m(\u001b[0m\u001b[0mmsg\u001b[0m\u001b[0;34m)\u001b[0m\u001b[0;34m\u001b[0m\u001b[0;34m\u001b[0m\u001b[0m\n\u001b[0m\u001b[1;32m    201\u001b[0m \u001b[0;34m\u001b[0m\u001b[0m\n\u001b[1;32m    202\u001b[0m     def fit(self, start_params=None, method='newton', maxiter=35,\n",
            "\u001b[0;31mPerfectSeparationError\u001b[0m: Perfect separation detected, results not available"
          ]
        }
      ]
    },
    {
      "cell_type": "code",
      "metadata": {
        "id": "yZVfNvnaiTo9",
        "colab_type": "code",
        "colab": {
          "base_uri": "https://localhost:8080/",
          "height": 34
        },
        "outputId": "7c0bd9e6-a1c0-4e44-b76e-ce242482b976"
      },
      "source": [
        "# Create a list which has the count of 0s and 1s in all columns\n",
        "lst = []\n",
        "for x in range(0,X_train_res.shape[1]):\n",
        "  lst.append(cl.Counter(X_train_res[:,x]))\n",
        "len(lst)"
      ],
      "execution_count": 138,
      "outputs": [
        {
          "output_type": "execute_result",
          "data": {
            "text/plain": [
              "44"
            ]
          },
          "metadata": {
            "tags": []
          },
          "execution_count": 138
        }
      ]
    },
    {
      "cell_type": "code",
      "metadata": {
        "id": "P4qpAEI9jA40",
        "colab_type": "code",
        "colab": {
          "base_uri": "https://localhost:8080/",
          "height": 71
        },
        "outputId": "921a3fa0-c730-417b-c150-82ba7a8799cd"
      },
      "source": [
        "## Drop columns which has more than 80% 1s or 0s\n",
        "# Create list of columns dropped and not dropped. The list has the index of these columns\n",
        "drop_ind=[]\n",
        "left_ind=[]\n",
        "for x in range(0,len(lst)):\n",
        "  if len(lst[x])==1:\n",
        "    drop_ind.append(x)\n",
        "  elif len(lst[x])==2:\n",
        "    if (lst[x][0]/X_train_res.shape[0] > 0.8) or (lst[x][0]/X_train_res.shape[0] < 0.2):\n",
        "      drop_ind.append(x)\n",
        "    else:\n",
        "      left_ind.append(x) \n",
        "  else:\n",
        "    left_ind.append(x)        \n",
        "print(f\"Columns dropped : {drop_ind}\")\n",
        "print(f\"Columns not dropped : {left_ind}\")"
      ],
      "execution_count": 139,
      "outputs": [
        {
          "output_type": "stream",
          "text": [
            "Columns dropped : [1, 5, 23, 24, 25, 26, 27, 28, 31, 32]\n",
            "Columns not dropped : [0, 2, 3, 4, 6, 7, 8, 9, 10, 11, 12, 13, 14, 15, 16, 17, 18, 19, 20, 21, 22, 29, 30, 33, 34, 35, 36, 37, 38, 39, 40, 41, 42, 43]\n"
          ],
          "name": "stdout"
        }
      ]
    },
    {
      "cell_type": "code",
      "metadata": {
        "id": "KW_D5X6XkcJW",
        "colab_type": "code",
        "colab": {
          "base_uri": "https://localhost:8080/",
          "height": 86
        },
        "outputId": "f5523589-70c7-4d1b-d723-c779cc125943"
      },
      "source": [
        "## delet the drop_ind indexes from X_res..we drop 10 columns which has huge class imbalance\n",
        "print(X_train_res.shape)\n",
        "print(X_test.shape)\n",
        "X_train_res1=np.delete(X_train_res,[drop_ind],axis=1)\n",
        "X_test1 = X_test.drop(X_test.iloc[:,drop_ind], axis=1)\n",
        "print(f\"After drop :{X_train_res1.shape}\")\n",
        "print(f\"After drop : {X_test1.shape}\")"
      ],
      "execution_count": 140,
      "outputs": [
        {
          "output_type": "stream",
          "text": [
            "(603, 44)\n",
            "(171, 44)\n",
            "After drop :(603, 34)\n",
            "After drop : (171, 34)\n"
          ],
          "name": "stdout"
        }
      ]
    },
    {
      "cell_type": "code",
      "metadata": {
        "id": "l__GxCxsCBXL",
        "colab_type": "code",
        "colab": {
          "base_uri": "https://localhost:8080/",
          "height": 71
        },
        "outputId": "840748de-a038-4316-e33c-41a828c3d0da"
      },
      "source": [
        "## Covert the X_train_res and Y_train_res to a dataframe with column labels\n",
        "# We have the list of all columns in X_columns variables\n",
        "# Remove the the columns dropped based on index\n",
        "for x in drop_ind:\n",
        "  X_Columns.pop(x)\n",
        "print(X_Columns)\n",
        "len(X_Columns)\n",
        "# Total columns left in X are 34 and X_columns has the list of all columns"
      ],
      "execution_count": 141,
      "outputs": [
        {
          "output_type": "stream",
          "text": [
            "['New_Age', 'automobile', 'truck', 'trsn_city_veh', 'emerg_veh', 'speeding', 'ag_driv', 'redlight', 'alcohol', 'Major Arterial_road_class', 'Minor Arterial_road_class', 'Intersection_intersection', 'Mid-Block_intersection', 'No Control_traffic_control', 'Traffic Signal_traffic_control', 'Clear_visibility', 'Rain_visibility', 'Daylight_light', 'Dark_light', 'Dry_road_cond', 'Wet_road_cond', 'Non-Fatal Injury_acclass', 'Fatal_acclass', 'Pedestrian Collisions_impactype', 'Driver_invtype', 'West_initdir', 'Automobile, Station Wagon_vehtype', 'Turning Left_manoeuver', 'Disobeyed Traffic Control_cycact', 'Normal_cyccond', 'Inattentive_cyccond', 'HourRange_Hour 16 to 19', 'HourRange_Hour 4 to 7', 'HourRange_Hour 8 to 11']\n"
          ],
          "name": "stdout"
        },
        {
          "output_type": "execute_result",
          "data": {
            "text/plain": [
              "34"
            ]
          },
          "metadata": {
            "tags": []
          },
          "execution_count": 141
        }
      ]
    },
    {
      "cell_type": "code",
      "metadata": {
        "id": "Fe9iWYTxYDpU",
        "colab_type": "code",
        "colab": {}
      },
      "source": [
        "### Add constatnt in X for the intercept\n",
        "import statsmodels.tools as c\n",
        "X_train_res1 = c.add_constant(X_train_res1)"
      ],
      "execution_count": 142,
      "outputs": []
    },
    {
      "cell_type": "code",
      "metadata": {
        "id": "S8wu0-z-acm_",
        "colab_type": "code",
        "colab": {}
      },
      "source": [
        "X_train_res1.shape"
      ],
      "execution_count": null,
      "outputs": []
    },
    {
      "cell_type": "code",
      "metadata": {
        "id": "wH9SRCYeFSF2",
        "colab_type": "code",
        "colab": {
          "base_uri": "https://localhost:8080/",
          "height": 51
        },
        "outputId": "e592950b-77ed-431e-f4de-5216b99a5fb7"
      },
      "source": [
        "### Putting the X_train_res1 array into a dataframe..in order to have a clear column label\n",
        "X_Columns.insert(0, 'constant')\n",
        "print(X_train_res1.shape)\n",
        "X_train_res_df=pd.DataFrame(data=X_train_res1, index=range(0,X_train_res1.shape[0]), columns=[X_Columns])\n",
        "X_train_res_df.head(2)\n",
        "print(X_train_res_df.shape)"
      ],
      "execution_count": 143,
      "outputs": [
        {
          "output_type": "stream",
          "text": [
            "(603, 35)\n",
            "(603, 35)\n"
          ],
          "name": "stdout"
        }
      ]
    },
    {
      "cell_type": "code",
      "metadata": {
        "id": "8gS1JfoCmvlY",
        "colab_type": "code",
        "colab": {
          "base_uri": "https://localhost:8080/",
          "height": 955
        },
        "outputId": "026df5c8-0fa5-492a-85ad-ca07d66d0a54"
      },
      "source": [
        "## train the logistic reg model on new set of X variables\n",
        "from statsmodels.discrete import discrete_model as sm\n",
        "model2 = sm.Logit(y_train_res,X_train_res_df)\n",
        "result2 = model2.fit()\n",
        "print(result2.summary())"
      ],
      "execution_count": 145,
      "outputs": [
        {
          "output_type": "stream",
          "text": [
            "Warning: Maximum number of iterations has been exceeded.\n",
            "         Current function value: 0.302932\n",
            "         Iterations: 35\n",
            "                           Logit Regression Results                           \n",
            "==============================================================================\n",
            "Dep. Variable:                      y   No. Observations:                  603\n",
            "Model:                          Logit   Df Residuals:                      568\n",
            "Method:                           MLE   Df Model:                           34\n",
            "Date:                Tue, 04 Aug 2020   Pseudo R-squ.:                  0.3929\n",
            "Time:                        12:21:38   Log-Likelihood:                -182.67\n",
            "converged:                      False   LL-Null:                       -300.91\n",
            "Covariance Type:            nonrobust   LLR p-value:                 3.587e-32\n",
            "=====================================================================================================\n",
            "                                        coef    std err          z      P>|z|      [0.025      0.975]\n",
            "-----------------------------------------------------------------------------------------------------\n",
            "constant                            -47.9193   1.56e+04     -0.003      0.998   -3.05e+04    3.04e+04\n",
            "New_Age                               0.0256      0.009      2.800      0.005       0.008       0.044\n",
            "automobile                           -0.3687      0.493     -0.748      0.455      -1.335       0.598\n",
            "truck                                 2.6596      0.632      4.211      0.000       1.422       3.897\n",
            "trsn_city_veh                         1.1965      0.612      1.955      0.051      -0.003       2.396\n",
            "emerg_veh                            -1.2800      0.730     -1.754      0.079      -2.711       0.151\n",
            "speeding                              4.3865      0.757      5.797      0.000       2.903       5.870\n",
            "ag_driv                              -0.1479      0.443     -0.334      0.739      -1.016       0.721\n",
            "redlight                              3.6088      0.742      4.861      0.000       2.154       5.064\n",
            "alcohol                              -1.1186      1.920     -0.583      0.560      -4.881       2.644\n",
            "Major Arterial_road_class             0.3900      0.511      0.764      0.445      -0.611       1.391\n",
            "Minor Arterial_road_class            -1.1267      0.638     -1.766      0.077      -2.377       0.124\n",
            "Intersection_intersection            18.6991   1.21e+04      0.002      0.999   -2.36e+04    2.37e+04\n",
            "Mid-Block_intersection               18.2296   1.21e+04      0.002      0.999   -2.36e+04    2.37e+04\n",
            "No Control_traffic_control           -0.2011      0.539     -0.373      0.709      -1.258       0.856\n",
            "Traffic Signal_traffic_control       -0.9631      0.524     -1.838      0.066      -1.990       0.064\n",
            "Clear_visibility                     -2.1397      1.339     -1.598      0.110      -4.763       0.484\n",
            "Rain_visibility                      -0.9440      1.534     -0.615      0.538      -3.951       2.063\n",
            "Daylight_light                        0.3822      0.529      0.723      0.470      -0.654       1.418\n",
            "Dark_light                           -0.5676      0.678     -0.837      0.403      -1.897       0.762\n",
            "Dry_road_cond                        17.6438   9809.602      0.002      0.999   -1.92e+04    1.92e+04\n",
            "Wet_road_cond                        16.7290   9809.602      0.002      0.999   -1.92e+04    1.92e+04\n",
            "Non-Fatal Injury_acclass             -1.0303      0.395     -2.611      0.009      -1.804      -0.257\n",
            "Fatal_acclass                        -0.3823      0.365     -1.046      0.295      -1.098       0.334\n",
            "Pedestrian Collisions_impactype       0.1135      0.414      0.274      0.784      -0.697       0.924\n",
            "Driver_invtype                        0.5703      0.639      0.893      0.372      -0.682       1.822\n",
            "West_initdir                         -0.4824      0.417     -1.156      0.248      -1.300       0.335\n",
            "Automobile, Station Wagon_vehtype     0.8552      0.544      1.573      0.116      -0.211       1.921\n",
            "Turning Left_manoeuver               -1.6488      0.371     -4.449      0.000      -2.375      -0.922\n",
            "Disobeyed Traffic Control_cycact     -3.0427      0.683     -4.453      0.000      -4.382      -1.703\n",
            "Normal_cyccond                       12.8234    232.274      0.055      0.956    -442.426     468.073\n",
            "Inattentive_cyccond                  12.3172    232.274      0.053      0.958    -442.932     467.566\n",
            "HourRange_Hour 16 to 19              12.9941    232.274      0.056      0.955    -442.255     468.243\n",
            "HourRange_Hour 4 to 7                12.7249    232.274      0.055      0.956    -442.525     467.974\n",
            "HourRange_Hour 8 to 11               12.2393    232.274      0.053      0.958    -443.010     467.489\n",
            "=====================================================================================================\n"
          ],
          "name": "stdout"
        },
        {
          "output_type": "stream",
          "text": [
            "/usr/local/lib/python3.6/dist-packages/statsmodels/base/model.py:512: ConvergenceWarning: Maximum Likelihood optimization failed to converge. Check mle_retvals\n",
            "  \"Check mle_retvals\", ConvergenceWarning)\n"
          ],
          "name": "stderr"
        }
      ]
    },
    {
      "cell_type": "markdown",
      "metadata": {
        "id": "t4A-X-ocJiU1",
        "colab_type": "text"
      },
      "source": [
        "***In progress  - Need to create new model by removing the insignificant ones*****\n"
      ]
    },
    {
      "cell_type": "markdown",
      "metadata": {
        "id": "aN8iZdN4Jum4",
        "colab_type": "text"
      },
      "source": [
        "Calculating the Accuracy of the Model by testing on the test data set "
      ]
    },
    {
      "cell_type": "code",
      "metadata": {
        "id": "2j1fSjZSRepS",
        "colab_type": "code",
        "colab": {}
      },
      "source": [
        "X_test1=pd.DataFrame.to_numpy(X_test1)"
      ],
      "execution_count": null,
      "outputs": []
    },
    {
      "cell_type": "code",
      "metadata": {
        "id": "K2b0AVb1NsvX",
        "colab_type": "code",
        "colab": {}
      },
      "source": [
        "y_test_pred = model2.predict(X_test1)"
      ],
      "execution_count": null,
      "outputs": []
    }
  ]
}